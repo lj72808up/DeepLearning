{
 "cells": [
  {
   "cell_type": "markdown",
   "metadata": {},
   "source": [
    "### 2.1.1 条件随机场概念与模型"
   ]
  },
  {
   "cell_type": "markdown",
   "metadata": {},
   "source": [
    "#### 一. 概率无向图模型\n",
    "1. 概率图模型, 是由图表示的概率分布.  \n",
    "  设$Y\\in \\left\\{ y \\right\\} $是一组随机变量, 其联合概率分布为$P(Y)$. 使用无向图$G=(V,E)$表示概率分布$P(Y)$  \n",
    "  节点$v$表示随机变量$Y_v$, 边e表示随机变量之间的概率依存关系\n",
    "2. 无向图表示的随机变量之间, 存在3种性质 :  \n",
    "    1. 成对马尔科夫性 :   \n",
    "     设$u,v$是不存在边连接的2个节点, $o$是除$u,v$以外的任意一个节点, 则有$$P\\left( { Y }_{ u },{ Y }_{ v }|{ Y }_{ o } \\right) =P\\left( { Y }_{ u }|{ Y }_{ o } \\right) *P\\left( { Y }_{ v }|{ Y }_{ o } \\right) $$\n",
    "    2. 局部马尔科夫性 :   \n",
    "     设$u$为图$G$中的节点,   \n",
    "     $W$是与节点$u$存在连接的所有节点集合,  \n",
    "     $O$是除$u$与节点集合$W$外的所有节点, 则有$$P\\left( { Y }_{ u }|{ Y }_{ W } \\right) =P\\left( { Y }_{ u }|{ Y }_{ W },{ Y }_{ O } \\right) $$\n",
    "    3. 全局马尔科夫性  \n",
    "     设节点集合$A,B$是被节点集合$C$分割的两个节点集, 则有$$P\\left( { Y }_{ A },{ Y }_{ B }|{ Y }_{ C } \\right) =P\\left( { Y }_{ A }|{ Y }_{ C } \\right) *P\\left( { Y }_{ B }|{ Y }_{ C } \\right) $$\n",
    "     <img src='img/crf1.png' height='35%' width='35%'>\n",
    "     \n",
    "3. 如果联合概率分布$P\\left( { Y } \\right) $满足成对,局部,全局马尔科夫性, 则称此联合概率分布为概率无向图模型"
   ]
  },
  {
   "cell_type": "markdown",
   "metadata": {},
   "source": [
    "#### 二. 概率无向图模型因子分解\n",
    "1. 团 : \n",
    " 1. 团是图$G$的节点子集, 该子集中任意2个节点均有边连接.  \n",
    " 2. 若团$C$不能再加入图G中的任意一个其他节点而使其构成更大的团, 则称$C$是图$G$的最大团"
   ]
  },
  {
   "cell_type": "code",
   "execution_count": null,
   "metadata": {},
   "outputs": [],
   "source": []
  }
 ],
 "metadata": {
  "kernelspec": {
   "display_name": "Python 3",
   "language": "python",
   "name": "python3"
  },
  "language_info": {
   "codemirror_mode": {
    "name": "ipython",
    "version": 3
   },
   "file_extension": ".py",
   "mimetype": "text/x-python",
   "name": "python",
   "nbconvert_exporter": "python",
   "pygments_lexer": "ipython3",
   "version": "3.6.5"
  }
 },
 "nbformat": 4,
 "nbformat_minor": 2
}
