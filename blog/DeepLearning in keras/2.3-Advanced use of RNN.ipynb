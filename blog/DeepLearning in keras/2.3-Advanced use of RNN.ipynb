{
 "cells": [
  {
   "cell_type": "code",
   "execution_count": 1,
   "metadata": {},
   "outputs": [],
   "source": [
    "%matplotlib inline\n",
    "import matplotlib.pyplot as plt;import seaborn as sns\n",
    "import numpy as np;import pandas as pd"
   ]
  },
  {
   "cell_type": "markdown",
   "metadata": {},
   "source": [
    "### 2.3 天气预测问题\n",
    "\n",
    "#### 一. 数据来源与分析目的\n",
    "1. 预测24小时后的天气\n",
    "2. 数据集来源 :   \n",
    " [https://s3.amazonaws.com/keras-datasets/jena_climate_2009_2016.csv.zip](https://s3.amazonaws.com/keras-datasets/jena_climate_2009_2016.csv.zip)\n",
    "3. 数据结构  \n",
    " 记录了从2009年到2016年间, 每十分钟统计一次14个指标 (天气,起亚,湿度,风向等), 用这些数据来预测24小时候的天气"
   ]
  },
  {
   "cell_type": "markdown",
   "metadata": {},
   "source": [
    "#### 二. 数据初步探查"
   ]
  },
  {
   "cell_type": "code",
   "execution_count": 2,
   "metadata": {},
   "outputs": [
    {
     "data": {
      "text/html": [
       "<div>\n",
       "<style scoped>\n",
       "    .dataframe tbody tr th:only-of-type {\n",
       "        vertical-align: middle;\n",
       "    }\n",
       "\n",
       "    .dataframe tbody tr th {\n",
       "        vertical-align: top;\n",
       "    }\n",
       "\n",
       "    .dataframe thead th {\n",
       "        text-align: right;\n",
       "    }\n",
       "</style>\n",
       "<table border=\"1\" class=\"dataframe\">\n",
       "  <thead>\n",
       "    <tr style=\"text-align: right;\">\n",
       "      <th></th>\n",
       "      <th>p (mbar)</th>\n",
       "      <th>T (degC)</th>\n",
       "      <th>Tpot (K)</th>\n",
       "      <th>Tdew (degC)</th>\n",
       "      <th>rh (%)</th>\n",
       "      <th>VPmax (mbar)</th>\n",
       "      <th>VPact (mbar)</th>\n",
       "      <th>VPdef (mbar)</th>\n",
       "      <th>sh (g/kg)</th>\n",
       "      <th>H2OC (mmol/mol)</th>\n",
       "      <th>rho (g/m**3)</th>\n",
       "      <th>wv (m/s)</th>\n",
       "      <th>max. wv (m/s)</th>\n",
       "      <th>wd (deg)</th>\n",
       "    </tr>\n",
       "    <tr>\n",
       "      <th>Date Time</th>\n",
       "      <th></th>\n",
       "      <th></th>\n",
       "      <th></th>\n",
       "      <th></th>\n",
       "      <th></th>\n",
       "      <th></th>\n",
       "      <th></th>\n",
       "      <th></th>\n",
       "      <th></th>\n",
       "      <th></th>\n",
       "      <th></th>\n",
       "      <th></th>\n",
       "      <th></th>\n",
       "      <th></th>\n",
       "    </tr>\n",
       "  </thead>\n",
       "  <tbody>\n",
       "    <tr>\n",
       "      <th>01.01.2009 00:10:00</th>\n",
       "      <td>996.52</td>\n",
       "      <td>-8.02</td>\n",
       "      <td>265.40</td>\n",
       "      <td>-8.90</td>\n",
       "      <td>93.3</td>\n",
       "      <td>3.33</td>\n",
       "      <td>3.11</td>\n",
       "      <td>0.22</td>\n",
       "      <td>1.94</td>\n",
       "      <td>3.12</td>\n",
       "      <td>1307.75</td>\n",
       "      <td>1.03</td>\n",
       "      <td>1.75</td>\n",
       "      <td>152.3</td>\n",
       "    </tr>\n",
       "    <tr>\n",
       "      <th>01.01.2009 00:20:00</th>\n",
       "      <td>996.57</td>\n",
       "      <td>-8.41</td>\n",
       "      <td>265.01</td>\n",
       "      <td>-9.28</td>\n",
       "      <td>93.4</td>\n",
       "      <td>3.23</td>\n",
       "      <td>3.02</td>\n",
       "      <td>0.21</td>\n",
       "      <td>1.89</td>\n",
       "      <td>3.03</td>\n",
       "      <td>1309.80</td>\n",
       "      <td>0.72</td>\n",
       "      <td>1.50</td>\n",
       "      <td>136.1</td>\n",
       "    </tr>\n",
       "    <tr>\n",
       "      <th>01.01.2009 00:30:00</th>\n",
       "      <td>996.53</td>\n",
       "      <td>-8.51</td>\n",
       "      <td>264.91</td>\n",
       "      <td>-9.31</td>\n",
       "      <td>93.9</td>\n",
       "      <td>3.21</td>\n",
       "      <td>3.01</td>\n",
       "      <td>0.20</td>\n",
       "      <td>1.88</td>\n",
       "      <td>3.02</td>\n",
       "      <td>1310.24</td>\n",
       "      <td>0.19</td>\n",
       "      <td>0.63</td>\n",
       "      <td>171.6</td>\n",
       "    </tr>\n",
       "    <tr>\n",
       "      <th>01.01.2009 00:40:00</th>\n",
       "      <td>996.51</td>\n",
       "      <td>-8.31</td>\n",
       "      <td>265.12</td>\n",
       "      <td>-9.07</td>\n",
       "      <td>94.2</td>\n",
       "      <td>3.26</td>\n",
       "      <td>3.07</td>\n",
       "      <td>0.19</td>\n",
       "      <td>1.92</td>\n",
       "      <td>3.08</td>\n",
       "      <td>1309.19</td>\n",
       "      <td>0.34</td>\n",
       "      <td>0.50</td>\n",
       "      <td>198.0</td>\n",
       "    </tr>\n",
       "    <tr>\n",
       "      <th>01.01.2009 00:50:00</th>\n",
       "      <td>996.51</td>\n",
       "      <td>-8.27</td>\n",
       "      <td>265.15</td>\n",
       "      <td>-9.04</td>\n",
       "      <td>94.1</td>\n",
       "      <td>3.27</td>\n",
       "      <td>3.08</td>\n",
       "      <td>0.19</td>\n",
       "      <td>1.92</td>\n",
       "      <td>3.09</td>\n",
       "      <td>1309.00</td>\n",
       "      <td>0.32</td>\n",
       "      <td>0.63</td>\n",
       "      <td>214.3</td>\n",
       "    </tr>\n",
       "  </tbody>\n",
       "</table>\n",
       "</div>"
      ],
      "text/plain": [
       "                     p (mbar)  T (degC)  Tpot (K)  Tdew (degC)  rh (%)  \\\n",
       "Date Time                                                                \n",
       "01.01.2009 00:10:00    996.52     -8.02    265.40        -8.90    93.3   \n",
       "01.01.2009 00:20:00    996.57     -8.41    265.01        -9.28    93.4   \n",
       "01.01.2009 00:30:00    996.53     -8.51    264.91        -9.31    93.9   \n",
       "01.01.2009 00:40:00    996.51     -8.31    265.12        -9.07    94.2   \n",
       "01.01.2009 00:50:00    996.51     -8.27    265.15        -9.04    94.1   \n",
       "\n",
       "                     VPmax (mbar)  VPact (mbar)  VPdef (mbar)  sh (g/kg)  \\\n",
       "Date Time                                                                  \n",
       "01.01.2009 00:10:00          3.33          3.11          0.22       1.94   \n",
       "01.01.2009 00:20:00          3.23          3.02          0.21       1.89   \n",
       "01.01.2009 00:30:00          3.21          3.01          0.20       1.88   \n",
       "01.01.2009 00:40:00          3.26          3.07          0.19       1.92   \n",
       "01.01.2009 00:50:00          3.27          3.08          0.19       1.92   \n",
       "\n",
       "                     H2OC (mmol/mol)  rho (g/m**3)  wv (m/s)  max. wv (m/s)  \\\n",
       "Date Time                                                                     \n",
       "01.01.2009 00:10:00             3.12       1307.75      1.03           1.75   \n",
       "01.01.2009 00:20:00             3.03       1309.80      0.72           1.50   \n",
       "01.01.2009 00:30:00             3.02       1310.24      0.19           0.63   \n",
       "01.01.2009 00:40:00             3.08       1309.19      0.34           0.50   \n",
       "01.01.2009 00:50:00             3.09       1309.00      0.32           0.63   \n",
       "\n",
       "                     wd (deg)  \n",
       "Date Time                      \n",
       "01.01.2009 00:10:00     152.3  \n",
       "01.01.2009 00:20:00     136.1  \n",
       "01.01.2009 00:30:00     171.6  \n",
       "01.01.2009 00:40:00     198.0  \n",
       "01.01.2009 00:50:00     214.3  "
      ]
     },
     "execution_count": 2,
     "metadata": {},
     "output_type": "execute_result"
    }
   ],
   "source": [
    "#### 1. 查看数据\n",
    "import os\n",
    "data_dir = '/home/lj/data/Deelearning_with_python'\n",
    "fname = os.path.join(data_dir,'jena_climate_2009_2016.csv')\n",
    "\n",
    "data = pd.read_csv(fname,index_col='Date Time')\n",
    "data.head()"
   ]
  },
  {
   "cell_type": "code",
   "execution_count": 3,
   "metadata": {},
   "outputs": [
    {
     "data": {
      "text/plain": [
       "<matplotlib.axes._subplots.AxesSubplot at 0x7fea74b08450>"
      ]
     },
     "execution_count": 3,
     "metadata": {},
     "output_type": "execute_result"
    },
    {
     "data": {
      "image/png": "[encoded data removed]",
      "text/plain": [
       "<matplotlib.figure.Figure at 0x7fea74d70350>"
      ]
     },
     "metadata": {},
     "output_type": "display_data"
    }
   ],
   "source": [
    "f,axes = plt.subplots(2,1,figsize=(15,8))\n",
    "#全部气温的时序图\n",
    "data['T (degC)'].plot(ax=axes[0])\n",
    "# 前10天的气温时序图 : 因为每10分钟统计一次, 每天统计24*6次\n",
    "data['T (degC)'].iloc[:10*24*6].plot(ax=axes[1])"
   ]
  },
  {
   "cell_type": "markdown",
   "metadata": {},
   "source": [
    "#### 三. 准备数据生成器  \n",
    "1. 选择前200,000条数据作为训练集\n",
    "2. 数据需要正则化: 因为14个指标的取值范围相差较大  \n",
    "3. 因为属于每十分钟统计一次, 数据密度太大.造成数据大量冗余.   \n",
    " 我们改为每小时作为时间步长, 前10天的数据作为时间序列的样本, 来预测1天之后的温度   "
   ]
  },
  {
   "cell_type": "code",
   "execution_count": 4,
   "metadata": {},
   "outputs": [
    {
     "name": "stdout",
     "output_type": "stream",
     "text": [
      "[ 9.96520e+02 -8.02000e+00  2.65400e+02 -8.90000e+00  9.33000e+01\n",
      "  3.33000e+00  3.11000e+00  2.20000e-01  1.94000e+00  3.12000e+00\n",
      "  1.30775e+03  1.03000e+00  1.75000e+00  1.52300e+02]\n",
      "(200000, 14)\n"
     ]
    }
   ],
   "source": [
    "###２. 正则化数据\n",
    "test_data = data[:200000]\n",
    "float_data = test_data.values.astype(np.float64)\n",
    "print float_data[0,:]\n",
    "mean = float_data.mean(axis=0)\n",
    "float_data -= mean\n",
    "std = float_data.std(axis=0)\n",
    "float_data /= std\n",
    "print float_data.shape"
   ]
  },
  {
   "cell_type": "code",
   "execution_count": 5,
   "metadata": {},
   "outputs": [
    {
     "data": {
      "text/plain": [
       "array([ 0.90014748, -1.93135845, -1.98211036, -1.86280029,  1.07285236,\n",
       "       -1.30742164, -1.47375773, -0.79868641, -1.4762674 , -1.47815522,\n",
       "        2.12375056, -0.72950452, -0.78067973, -0.27613603])"
      ]
     },
     "execution_count": 5,
     "metadata": {},
     "output_type": "execute_result"
    }
   ],
   "source": [
    "float_data[0,:]"
   ]
  },
  {
   "cell_type": "code",
   "execution_count": 6,
   "metadata": {},
   "outputs": [],
   "source": [
    "# 3. 生成Generator对象\n",
    "lookback = 10*24*6  # 10天\n",
    "delay = 1*24*6          # 1天\n",
    "account_step = 6          # 统计步长1小时\n",
    "def generator(data,min_index,max_index,shuffle=False,batch_size=32,lookback=lookback,delay=delay,account_step=account_step):\n",
    "    while 1 : \n",
    "            if shuffle:\n",
    "                start_samples  = np.random.randint(min_index , max_index-lookback, size=batch_size)\n",
    "            else : \n",
    "                start_samples = np.arange(min_index, min_index+account_step*batch_size, account_step)\n",
    "\n",
    "            samples = np.zeros((batch_size, lookback//account_step, data.shape[-1]))\n",
    "            targets = np.zeros(batch_size)\n",
    "            \n",
    "            # [注] : 列表在进行enumerate后, 才能变成(index,value)的键值对集合\n",
    "            for i,sample_start in enumerate(start_samples):\n",
    "                time_steps = range(sample_start, sample_start+lookback, account_step)\n",
    "                samples[i] = float_data[time_steps,:]\n",
    "                targets[i] = float_data[time_steps[-1] + delay,1]\n",
    "\n",
    "            yield samples,targets"
   ]
  },
  {
   "cell_type": "code",
   "execution_count": 7,
   "metadata": {},
   "outputs": [
    {
     "name": "stdout",
     "output_type": "stream",
     "text": [
      "3559 3559\n"
     ]
    }
   ],
   "source": [
    "train_gen = generator(float_data,min_index=0,max_index=100000,shuffle=True)\n",
    "val_gen = generator(float_data,min_index=100001,max_index=105000,shuffle=True)\n",
    "test_gen = generator(float_data,min_index=105001,max_index=110000,shuffle=True)\n",
    "\n",
    "val_step = 105000 -100001- lookback\n",
    "test_steps = 110000 - 105001 - lookback\n",
    "print val_step,test_steps"
   ]
  },
  {
   "cell_type": "markdown",
   "metadata": {},
   "source": [
    "#### 四. 为待解决的问题就案例基准线\n",
    "1. 在使用RNN进行数据训练之前, 需要对该问题建立一个评判好坏的基准线.   \n",
    " 比如, 一个分类问题, 如果正例有90%, 负例有10%. 则如果全部预测正例, 准确李为90%. 此时, 一切解决问题的机器学习算法, 正确表现都应该超过90%  \n",
    "2. 2种基准线方法  :  \n",
    "  1. 不使用任何机器学习算法  \n",
    "   将时间序列最后一个时间步的'温度'属性输入值, 作为下一天'温度'的预测值, 观察其平均绝对误差  MAE\n",
    "  2. 使用简单的2层神经网络, 训练数据. 观察其MAE  \n",
    "    1. 将3D的时间序列数据展成2D : (samples , timestep, features) -> (samples, concate all timestep features)  \n",
    "    2. 最后一层网络没有激活函数, 因为是回归问题"
   ]
  },
  {
   "cell_type": "code",
   "execution_count": 27,
   "metadata": {},
   "outputs": [
    {
     "name": "stdout",
     "output_type": "stream",
     "text": [
      "naive performance:  0.39388594877229016\n",
      "naive performance:  3.4868750000000004 摄氏度\n"
     ]
    }
   ],
   "source": [
    "####################  1. 不使用任何算法解决问题\n",
    "generator1 = generator(float_data,min_index=0,max_index=100000)\n",
    "\n",
    "def evaluate_naive_perfoemance(): \n",
    "    batch_matches = []\n",
    "    for  i in range (10000):\n",
    "        samples,targets = generator1.next()\n",
    "        preds = samples[:,-1,1]  # 最后一个时间步的温度属性\n",
    "#         print preds\n",
    "#         print targets\n",
    "        mae = np.mean(np.abs(preds-targets))\n",
    "        batch_matches.append(mae)\n",
    "    return np.mean(batch_matches)\n",
    "\n",
    "mae = evaluate_naive_perfoemance()\n",
    "print 'naive performance: ', mae\n",
    "print 'naive performance: ', mae * std[1] ,'摄氏度'"
   ]
  },
  {
   "cell_type": "code",
   "execution_count": 25,
   "metadata": {},
   "outputs": [
    {
     "name": "stdout",
     "output_type": "stream",
     "text": [
      "Epoch 1/10\n",
      "500/500 [==============================] - 9s 17ms/step - loss: 0.1941 - val_loss: 0.5240\n",
      "Epoch 2/10\n",
      "500/500 [==============================] - 8s 17ms/step - loss: 0.0976 - val_loss: 0.6248\n",
      "Epoch 3/10\n",
      "500/500 [==============================] - 8s 17ms/step - loss: 0.0896 - val_loss: 0.6448\n",
      "Epoch 4/10\n",
      "500/500 [==============================] - 8s 16ms/step - loss: 0.0860 - val_loss: 0.5585\n",
      "Epoch 5/10\n",
      "500/500 [==============================] - 8s 16ms/step - loss: 0.0840 - val_loss: 0.5954\n",
      "Epoch 6/10\n",
      "500/500 [==============================] - 9s 17ms/step - loss: 0.0832 - val_loss: 0.5119\n",
      "Epoch 7/10\n",
      "500/500 [==============================] - 9s 17ms/step - loss: 0.0831 - val_loss: 0.5621\n",
      "Epoch 8/10\n",
      "500/500 [==============================] - 8s 17ms/step - loss: 0.0817 - val_loss: 0.5312\n",
      "Epoch 9/10\n",
      "500/500 [==============================] - 8s 17ms/step - loss: 0.0822 - val_loss: 0.5985\n",
      "Epoch 10/10\n",
      "500/500 [==============================] - 8s 17ms/step - loss: 0.0810 - val_loss: 0.4920\n"
     ]
    }
   ],
   "source": [
    "####################  2. 使用简单的2层全连接神经网络预测\n",
    "from keras.models import Sequential\n",
    "from keras.layers import Dense,Flatten\n",
    "\n",
    "model = Sequential()\n",
    "model.add(Flatten(input_shape=(lookback//account_step,float_data.shape[-1])))\n",
    "model.add(Dense(32,activation='relu'))\n",
    "model.add(Dense(1))\n",
    "\n",
    "model.compile(optimizer='rmsprop',loss='mae')\n",
    "history = model.fit_generator(generator1,\n",
    "                   steps_per_epoch = 500,  # 生成器返回多少次算是一个epoch\n",
    "                   epochs=10,      # epoch数\n",
    "                   validation_data = val_gen,  #  验证集生成器\n",
    "                   validation_steps = val_step)      # 验证集返回轮数 "
   ]
  },
  {
   "cell_type": "markdown",
   "metadata": {},
   "source": [
    "#### 五. RNN处理\n",
    "1.  使用GRU单元进行RNN  \n",
    " GRU表现力不如LSTM, 但是计算消耗却小很多, 这是一种表现力和计算时间的折中\n",
    "2. 使用dropout泛化  \n",
    "  1. dropout : 每层输入单元的失效率\n",
    "  2. recurrent_dropout : RNN单元的失效率  \n",
    "3. 堆叠RNN层  \n",
    " 因为RNN单元的输入是3D张量, 所以要想堆叠成功, 必须让上个RNN层的输出也是3D的, 即每个时间步都有输出, 设置参数`return_sequences=True`"
   ]
  },
  {
   "cell_type": "code",
   "execution_count": 9,
   "metadata": {},
   "outputs": [
    {
     "name": "stderr",
     "output_type": "stream",
     "text": [
      "/devkit/anaconda2/lib/python2.7/site-packages/h5py/__init__.py:36: FutureWarning: Conversion of the second argument of issubdtype from `float` to `np.floating` is deprecated. In future, it will be treated as `np.float64 == np.dtype(float).type`.\n",
      "  from ._conv import register_converters as _register_converters\n",
      "Using TensorFlow backend.\n"
     ]
    },
    {
     "name": "stdout",
     "output_type": "stream",
     "text": [
      "Epoch 1/10\n",
      "500/500 [==============================] - 596s 1s/step - loss: 0.3252 - val_loss: 0.3621\n",
      "Epoch 2/10\n",
      "500/500 [==============================] - 591s 1s/step - loss: 0.3056 - val_loss: 0.3230\n",
      "Epoch 3/10\n",
      "500/500 [==============================] - 583s 1s/step - loss: 0.2956 - val_loss: 0.3202\n",
      "Epoch 4/10\n",
      "500/500 [==============================] - 582s 1s/step - loss: 0.2935 - val_loss: 0.3337\n",
      "Epoch 5/10\n",
      "500/500 [==============================] - 600s 1s/step - loss: 0.2854 - val_loss: 0.3257\n",
      "Epoch 6/10\n",
      "500/500 [==============================] - 586s 1s/step - loss: 0.2866 - val_loss: 0.3542\n",
      "Epoch 7/10\n",
      "500/500 [==============================] - 583s 1s/step - loss: 0.2796 - val_loss: 0.3510\n",
      "Epoch 8/10\n",
      "500/500 [==============================] - 601s 1s/step - loss: 0.2808 - val_loss: 0.3417\n",
      "Epoch 9/10\n",
      "500/500 [==============================] - 604s 1s/step - loss: 0.2789 - val_loss: 0.3385\n",
      "Epoch 10/10\n",
      "500/500 [==============================] - 609s 1s/step - loss: 0.2749 - val_loss: 0.3410\n"
     ]
    }
   ],
   "source": [
    "from keras.models import Sequential\n",
    "from keras.layers import Dense,Flatten\n",
    "from keras.layers import GRU\n",
    "model = Sequential()\n",
    "model.add(GRU(32,\n",
    "              dropout=0.1,  # 失效率\n",
    "              recurrent_dropout=0.5,  # 失效率\n",
    "              return_sequences=True,  # 每个时间步都有输出\n",
    "              input_shape=(None,float_data.shape[-1])))\n",
    "model.add(GRU(64,dropout=0.1,recurrent_dropout=0.5))\n",
    "model.add(Dense(1))\n",
    "\n",
    "model.compile(optimizer='rmsprop',loss='mae')\n",
    "history = model.fit_generator(train_gen,\n",
    "                   steps_per_epoch = 500,  # 生成器返回多少次算是一个epoch\n",
    "                   epochs=10,      # epoch数\n",
    "                   validation_data = val_gen,  #  验证集生成器\n",
    "                   validation_steps = val_step)      # 验证集返回轮数 "
   ]
  },
  {
   "cell_type": "markdown",
   "metadata": {},
   "source": [
    "#### 六. 双向RNN\n",
    "1. 双向RNN, 在RNN单元外部使用`layers.Bidirectional(LSTM(32))`包装"
   ]
  },
  {
   "cell_type": "markdown",
   "metadata": {},
   "source": [
    "### 2.4 [附录] python中的Generator\n",
    "#### 1. 列表迭代器  \n",
    " 列表生成器, 使用`[]`生成列表, 且一次性装入内存. 为了避免大数据集下内存装不开, 使用类似迭代器的概念, 这里叫`生成器`.   \n",
    " 生成器产生方法 : 使用`()`生成`列表的Generator`. next()方法获取当前index下的值"
   ]
  },
  {
   "cell_type": "code",
   "execution_count": 81,
   "metadata": {},
   "outputs": [
    {
     "name": "stdout",
     "output_type": "stream",
     "text": [
      "第 0 次执行:  0\n",
      "第 1 次执行:  1\n",
      "第 2 次执行:  4\n",
      "第 3 次执行: "
     ]
    },
    {
     "ename": "StopIteration",
     "evalue": "",
     "output_type": "error",
     "traceback": [
      "\u001b[0;31m---------------------------------------------------------------------------\u001b[0m",
      "\u001b[0;31mStopIteration\u001b[0m                             Traceback (most recent call last)",
      "\u001b[0;32m<ipython-input-81-2692bf7b3f4c>\u001b[0m in \u001b[0;36m<module>\u001b[0;34m()\u001b[0m\n\u001b[1;32m      2\u001b[0m \u001b[0;31m# 第4次迭代时, 超出列表生成器的范围, 报错'StopIteration'\u001b[0m\u001b[0;34m\u001b[0m\u001b[0;34m\u001b[0m\u001b[0m\n\u001b[1;32m      3\u001b[0m \u001b[0;32mfor\u001b[0m \u001b[0mi\u001b[0m \u001b[0;32min\u001b[0m \u001b[0mrange\u001b[0m\u001b[0;34m(\u001b[0m\u001b[0;36m4\u001b[0m\u001b[0;34m)\u001b[0m\u001b[0;34m:\u001b[0m\u001b[0;34m\u001b[0m\u001b[0m\n\u001b[0;32m----> 4\u001b[0;31m     \u001b[0;32mprint\u001b[0m \u001b[0;34m'第'\u001b[0m\u001b[0;34m,\u001b[0m\u001b[0mi\u001b[0m\u001b[0;34m,\u001b[0m\u001b[0;34m'次执行: '\u001b[0m\u001b[0;34m,\u001b[0m\u001b[0mgen1\u001b[0m\u001b[0;34m.\u001b[0m\u001b[0mnext\u001b[0m\u001b[0;34m(\u001b[0m\u001b[0;34m)\u001b[0m\u001b[0;34m\u001b[0m\u001b[0m\n\u001b[0m",
      "\u001b[0;31mStopIteration\u001b[0m: "
     ]
    }
   ],
   "source": [
    "gen1 = (x*x for x in range(3))\n",
    "# 第4次迭代时, 超出列表生成器的范围, 报错'StopIteration'\n",
    "for i in range(4):\n",
    "    print '第',i,'次执行: ',gen1.next()"
   ]
  },
  {
   "cell_type": "markdown",
   "metadata": {},
   "source": [
    "#### 2. 包含yeild关键字的方法  \n",
    "1. 包含关键字yield的方法不再是一个函数, 而是一个Generator对象. 可以像列表Generator一样进行迭代  \n",
    "2. 包含关键字yield的方法, 在遇到yield时, 会立即退出(相当于return), 并返回yield后面的值, 并记住这个返回位置. 下一次调用`next`方法时, 继续从该位置执行方法 \n",
    "3. Generator对象可使用for进行迭代"
   ]
  },
  {
   "cell_type": "code",
   "execution_count": 82,
   "metadata": {},
   "outputs": [
    {
     "name": "stdout",
     "output_type": "stream",
     "text": [
      " 0\n",
      "1\n",
      "4\n",
      "9\n",
      "16\n",
      "test_field finish !\n"
     ]
    }
   ],
   "source": [
    "# 生成器函数\n",
    "def test_yield(n):\n",
    "    for i in range(n):\n",
    "        yield(i*i)\n",
    "    print 'test_field finish !'\n",
    "    \n",
    "# 迭代生成器     \n",
    "for i in test_yield(5):\n",
    "    print i"
   ]
  },
  {
   "cell_type": "markdown",
   "metadata": {},
   "source": [
    "#### 3. send(msg)与next()取值\n",
    "\n",
    "1. send(msg)与next()的区别在于send可以传递参数给yield表达式，这时传递的参数会作为yield表达式的值，而yield的参数是返回给调用者的值。  \n",
    " ——换句话说，就是send可以强行修改上一个yield表达式值。比如函数中有一个yield赋值，a = yield 5，第一次迭代到这里会返回5，a还没有赋值。第二次迭代时，使用.send(10)，那么，就是强行修改yield 5表达式的值为10，本来是5的，那么a=10\n",
    " \n",
    "1. yield返回给调用者其与面的值, 但是yield表达式本身没有返回值.   \n",
    " 比如 : 方法内部有语句 : `a = yield 5`. 这句话返回给调用者5, 但是a并没有赋值. 除非调用者使用send(msg), 才能把a赋值成msg"
   ]
  },
  {
   "cell_type": "code",
   "execution_count": 122,
   "metadata": {},
   "outputs": [
    {
     "name": "stdout",
     "output_type": "stream",
     "text": [
      "5\n",
      "=====================\n",
      "a:  100\n",
      "b:  105\n",
      "finish !\n",
      "1\n"
     ]
    }
   ],
   "source": [
    "def test_yield2():\n",
    "    a = yield 5\n",
    "    print 'a: ',a\n",
    "    \n",
    "    b = 5 + a\n",
    "    print 'b: ', b\n",
    "    print 'finish !'\n",
    "    yield 1\n",
    "    \n",
    "generator = test_yield2()    \n",
    "print generator.next()\n",
    "print '====================='\n",
    "# 下面没有使用send(msg)调用, 导致方法内b没有被赋值\n",
    "# generator.next()\n",
    "print generator.send(100)"
   ]
  },
  {
   "cell_type": "code",
   "execution_count": 153,
   "metadata": {},
   "outputs": [
    {
     "name": "stdout",
     "output_type": "stream",
     "text": [
      "0 1\n",
      "1 2\n",
      "2 3\n",
      "3 4\n"
     ]
    }
   ],
   "source": [
    "for a,b in enumerate([1,2,3,4]):\n",
    "    print a,b"
   ]
  },
  {
   "cell_type": "code",
   "execution_count": null,
   "metadata": {},
   "outputs": [],
   "source": []
  },
  {
   "cell_type": "code",
   "execution_count": null,
   "metadata": {},
   "outputs": [],
   "source": []
  },
  {
   "cell_type": "code",
   "execution_count": null,
   "metadata": {},
   "outputs": [],
   "source": []
  },
  {
   "cell_type": "code",
   "execution_count": null,
   "metadata": {},
   "outputs": [],
   "source": []
  },
  {
   "cell_type": "code",
   "execution_count": null,
   "metadata": {},
   "outputs": [],
   "source": []
  },
  {
   "cell_type": "code",
   "execution_count": null,
   "metadata": {},
   "outputs": [],
   "source": []
  },
  {
   "cell_type": "code",
   "execution_count": null,
   "metadata": {},
   "outputs": [],
   "source": []
  },
  {
   "cell_type": "code",
   "execution_count": null,
   "metadata": {},
   "outputs": [],
   "source": []
  },
  {
   "cell_type": "code",
   "execution_count": null,
   "metadata": {},
   "outputs": [],
   "source": []
  },
  {
   "cell_type": "code",
   "execution_count": null,
   "metadata": {},
   "outputs": [],
   "source": []
  },
  {
   "cell_type": "code",
   "execution_count": null,
   "metadata": {},
   "outputs": [],
   "source": []
  },
  {
   "cell_type": "code",
   "execution_count": null,
   "metadata": {},
   "outputs": [],
   "source": []
  },
  {
   "cell_type": "code",
   "execution_count": null,
   "metadata": {},
   "outputs": [],
   "source": []
  },
  {
   "cell_type": "code",
   "execution_count": null,
   "metadata": {},
   "outputs": [],
   "source": []
  },
  {
   "cell_type": "code",
   "execution_count": null,
   "metadata": {},
   "outputs": [],
   "source": []
  },
  {
   "cell_type": "code",
   "execution_count": null,
   "metadata": {},
   "outputs": [],
   "source": []
  },
  {
   "cell_type": "code",
   "execution_count": null,
   "metadata": {},
   "outputs": [],
   "source": []
  }
 ],
 "metadata": {
  "kernelspec": {
   "display_name": "Python 2",
   "language": "python",
   "name": "python2"
  },
  "language_info": {
   "codemirror_mode": {
    "name": "ipython",
    "version": 2
   },
   "file_extension": ".py",
   "mimetype": "text/x-python",
   "name": "python",
   "nbconvert_exporter": "python",
   "pygments_lexer": "ipython2",
   "version": "2.7.14"
  }
 },
 "nbformat": 4,
 "nbformat_minor": 2
}
