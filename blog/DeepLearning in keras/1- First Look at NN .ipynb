{
 "cells": [
  {
   "cell_type": "code",
   "execution_count": 1,
   "metadata": {},
   "outputs": [
    {
     "name": "stderr",
     "output_type": "stream",
     "text": [
      "Using TensorFlow backend.\n"
     ]
    }
   ],
   "source": [
    "import warnings;warnings.filterwarnings('ignore')\n",
    "from keras.datasets import mnist\n",
    "import numpy as np\n",
    "import matplotlib.pyplot as plt\n",
    "%matplotlib inline"
   ]
  },
  {
   "cell_type": "markdown",
   "metadata": {},
   "source": [
    "### 1.1 神经网络的Hello World\n",
    "#### 一. Hello World\n",
    "1. 对MNIST数据集分类  \n",
    "  1. MNIST数据集 : 60000个手写字母的灰度图片 (28\\*28像素) + 10000个测试数据\n",
    "  2. 识别图片中的数字进行分类 : 0-9\n",
    "2. 编程步骤 :  \n",
    "  1. 定义神经网络结构  \n",
    "    1. 第一层: Dense层, 密集连接层 (也叫全连接层)\n",
    "    2. 第二层: 10路softmax层, 返回一个数组, 表示被分到10个数字的概率值\n",
    "  2. 编译步骤 : \n",
    "   为了让神经网络进行训练, 还要定义额外的3个编译步骤\n",
    "    1. loss function : 衡量神经网络表现的方法, 也是神经网络不断迭代的正确方向\n",
    "    2. optimizer : 神经网络训练的优化方法\n",
    "    3. Metrics to monitor during training and testing : 这里我们使用精确度度量 (被正确分类的数目)  \n",
    "  3. 数据预处理  \n",
    "    1. 输入数据的shape变成符合第一层神经网络输入的需求 : 28\\*28的像素展开成一列作为一个输入样本\n",
    "    2. 输入数据归一化 : 因为灰度值在0~255不方便训练, 所以归一化每个像素点为0~1的值\n",
    "  4. 输出数据向量化  \n",
    "    因为数据集中的输出标签为0~9的数字, 为了让输出满足softmax的向量化, 所以使用keras的to_categorical把输出进行独热编码变成向量\n",
    "  5. 训练模型  \n",
    "    "
   ]
  },
  {
   "cell_type": "code",
   "execution_count": 3,
   "metadata": {},
   "outputs": [
    {
     "name": "stdout",
     "output_type": "stream",
     "text": [
      "train shape:  (60000, 28, 28)\n",
      "labels:  [7 2 1 ... 4 5 6]\n",
      "Epoch 1/5\n",
      "60000/60000 [==============================] - 7s 118us/step - loss: 0.2026 - acc: 0.9403\n",
      "Epoch 2/5\n",
      "60000/60000 [==============================] - 6s 105us/step - loss: 0.0899 - acc: 0.9744\n",
      "Epoch 3/5\n",
      "60000/60000 [==============================] - 6s 106us/step - loss: 0.0662 - acc: 0.9811\n",
      "Epoch 4/5\n",
      "60000/60000 [==============================] - 6s 106us/step - loss: 0.0533 - acc: 0.9858\n",
      "Epoch 5/5\n",
      "60000/60000 [==============================] - 7s 111us/step - loss: 0.0402 - acc: 0.9891\n"
     ]
    },
    {
     "data": {
      "text/plain": [
       "<keras.callbacks.History at 0x7f73ea5bdf10>"
      ]
     },
     "execution_count": 3,
     "metadata": {},
     "output_type": "execute_result"
    }
   ],
   "source": [
    "# 1. 导入mnist数据集\n",
    "from keras.datasets import mnist\n",
    "(train_images,train_labels),(test_images,test_labels) = mnist.load_data()\n",
    "print 'train shape: ',train_images.shape  # ndarray\n",
    "2. # 构建网络\n",
    "from keras import models\n",
    "from keras import layers\n",
    "network = models.Sequential()\n",
    "# input_shape : 输入张量的形状, (28*28,)表示1维度向量\n",
    "network.add(layers.Dense(512,activation='relu',input_shape=(28*28,)))\n",
    "network.add(layers.Dense(10,activation='softmax'))\n",
    "# 3. 编译\n",
    "network.compile(optimizer = 'rmsprop',\n",
    "               loss = 'categorical_crossentropy',\n",
    "               metrics = ['accuracy'])\n",
    "# 4. 数据预处理\n",
    "train_images = train_images.reshape((60000,28*28))\n",
    "train_images = train_images.astype('float32')/255\n",
    "\n",
    "test_images = test_images.reshape((10000,28*28))\n",
    "test_images = test_images.astype('float32')/255\n",
    "# 5. 向量化输出\n",
    "from keras import utils\n",
    "print 'labels: ',test_labels\n",
    "train_labels = utils.to_categorical(train_labels)\n",
    "test_labels = utils.to_categorical(test_labels)\n",
    "# 6. 训练模型\n",
    "network.fit(train_images,train_labels,epochs=5,batch_size=32)"
   ]
  },
  {
   "cell_type": "code",
   "execution_count": 5,
   "metadata": {},
   "outputs": [
    {
     "name": "stdout",
     "output_type": "stream",
     "text": [
      "10000/10000 [==============================] - 0s 41us/step\n",
      "('test_acc: ', 0.9785)\n"
     ]
    }
   ],
   "source": [
    "# 测试集表现\n",
    "test_loss,test_acc = network.evaluate(test_images,test_labels)\n",
    "print('test_acc: ', test_acc)"
   ]
  },
  {
   "cell_type": "markdown",
   "metadata": {},
   "source": [
    "### 1.2 Data Representation\n",
    "\n",
    "#### 一. 张量 Tensor\n",
    "1. Scalar - 0D张量\n",
    "2. Vector - 1D张量\n",
    "3. Matrix - 2D张量\n",
    "4. 3D张量和多维张量\n",
    "\n",
    "#### 二. Tensor的3个属性\n",
    "1. number of axes(rank) : 张量是几维的\n",
    "```python\n",
    "print x.ndim # 0\n",
    "print y.ndim # 1\n",
    "print z.ndim # 2\n",
    "print n3.ndim # 3\n",
    "```\n",
    "2. shape : 标量没有的shape为空 : ()\n",
    "\n",
    "3. datd type \n",
    "\n"
   ]
  },
  {
   "cell_type": "code",
   "execution_count": 8,
   "metadata": {},
   "outputs": [
    {
     "name": "stdout",
     "output_type": "stream",
     "text": [
      "0d.shape:  ()\n",
      "1d.shape:  (4,)\n",
      "2d.shape:  (3, 5)\n",
      "3d.shape:  (2, 2, 3)\n"
     ]
    }
   ],
   "source": [
    "# 标量 : 0D-tensor\n",
    "x = np.array(10)\n",
    "\n",
    "# 1D-tensor\n",
    "y = np.array([12,3,6,14])\n",
    "\n",
    "# 2D-tensor\n",
    "z = np.array([[5,78,2,34,0],\n",
    "             [6,79,3,35,1],\n",
    "             [7,89,4,36,2]])\n",
    "\n",
    "# 3D-tensor\n",
    "n3 = np.array([[[1,2,3],\n",
    "                        [2,3,3]],\n",
    "                      [[1,34,1],\n",
    "                        [3,5,6]]])\n",
    "\n",
    "print '0d.shape: ',x.shape\n",
    "print '1d.shape: ',y.shape\n",
    "print '2d.shape: ', z.shape\n",
    "print '3d.shape: ',n3.shape"
   ]
  },
  {
   "cell_type": "markdown",
   "metadata": {},
   "source": [
    "#### 三. 展示MNIST数据集中的图片"
   ]
  },
  {
   "cell_type": "code",
   "execution_count": 45,
   "metadata": {},
   "outputs": [
    {
     "data": {
      "text/plain": [
       "<matplotlib.image.AxesImage at 0x7fce53f67210>"
      ]
     },
     "execution_count": 45,
     "metadata": {},
     "output_type": "execute_result"
    },
    {
     "data": {
      "image/png": "[encoded data removed]",
      "text/plain": [
       "<matplotlib.figure.Figure at 0x7fce53ff1f10>"
      ]
     },
     "metadata": {},
     "output_type": "display_data"
    }
   ],
   "source": [
    "(train_images,train_labels),(test_images,test_labels) = mnist.load_data()\n",
    "digit = train_images[4]\n",
    "plt.imshow(digit,cmap=plt.cm.binary) # cmap : colormap, 默认为空,表示输入数据为3Dtensor, RGB图像"
   ]
  },
  {
   "cell_type": "markdown",
   "metadata": {},
   "source": [
    "#### 四. 真实世界中数据张量的例子\n",
    "1. Vector data  \n",
    " 2D张量 (features)\n",
    "2. TimeSeries数据/序列数据  \n",
    " 3D张量 (samples, timestamps, features)\n",
    "3. Images  \n",
    " 4D张量 (samples, height,width,channels)\n",
    "4. Video  \n",
    " 5D张量 (samples,frames,height,width,channel)"
   ]
  }
 ],
 "metadata": {
  "kernelspec": {
   "display_name": "Python 2",
   "language": "python",
   "name": "python2"
  },
  "language_info": {
   "codemirror_mode": {
    "name": "ipython",
    "version": 2
   },
   "file_extension": ".py",
   "mimetype": "text/x-python",
   "name": "python",
   "nbconvert_exporter": "python",
   "pygments_lexer": "ipython2",
   "version": "2.7.14"
  }
 },
 "nbformat": 4,
 "nbformat_minor": 2
}
