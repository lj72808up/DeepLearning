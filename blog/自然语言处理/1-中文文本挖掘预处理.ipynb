{
 "cells": [
  {
   "cell_type": "markdown",
   "metadata": {},
   "source": [
    "### 1.1 中文文本预处理步骤\n",
    "#### 一. 去除数据中非文本部分  \n",
    " 例如杀出特殊字符, `<html>`标签等元素\n",
    "#### 二. 处理中文编码问题  \n",
    " 使用utf-8存储数据\n",
    "#### 三. 中文分词 "
   ]
  },
  {
   "cell_type": "code",
   "execution_count": 15,
   "metadata": {},
   "outputs": [],
   "source": [
    "import jieba\n",
    "with open('data/nlp_test0.txt','r') as f:\n",
    "    doc = f.read()\n",
    "    doc_cut = jieba.cut(doc.decode('utf-8'))\n",
    "    res = ' '.join(doc_cut)\n",
    "\n",
    "res = res.encode('utf-8')\n",
    "doc.decode??"
   ]
  },
  {
   "cell_type": "code",
   "execution_count": null,
   "metadata": {},
   "outputs": [],
   "source": []
  }
 ],
 "metadata": {
  "kernelspec": {
   "display_name": "Python 2",
   "language": "python",
   "name": "python2"
  },
  "language_info": {
   "codemirror_mode": {
    "name": "ipython",
    "version": 2
   },
   "file_extension": ".py",
   "mimetype": "text/x-python",
   "name": "python",
   "nbconvert_exporter": "python",
   "pygments_lexer": "ipython2",
   "version": "2.7.14"
  }
 },
 "nbformat": 4,
 "nbformat_minor": 2
}
