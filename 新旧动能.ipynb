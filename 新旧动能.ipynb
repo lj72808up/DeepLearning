{
 "cells": [
  {
   "cell_type": "markdown",
   "metadata": {},
   "source": [
    "### 企查查"
   ]
  },
  {
   "cell_type": "markdown",
   "metadata": {},
   "source": [
    "### 1.按照红头文件匹配"
   ]
  },
  {
   "cell_type": "code",
   "execution_count": 1,
   "metadata": {},
   "outputs": [],
   "source": [
    "import jieba\n",
    "import pandas as pd"
   ]
  },
  {
   "cell_type": "code",
   "execution_count": 2,
   "metadata": {},
   "outputs": [],
   "source": [
    "def get_stop_words():\n",
    "    with open('data/stop_words_utf8.txt') as f:\n",
    "        content = f.readlines()\n",
    "        stopwords = [w.strip() for w in content]\n",
    "        return stopwords\n",
    "\n",
    "# 全角转换成半角\n",
    "def strQ2B(ustring):\n",
    "    '''全角转半角\n",
    "    ustring : 需要转换的字符串\n",
    "    '''\n",
    "    ss = ''\n",
    "    for s in ustring:\n",
    "        rstring = \"\"\n",
    "        for uchar in s:\n",
    "            inside_code = ord(uchar)\n",
    "            if inside_code == 12288:  # 全角空格直接转换\n",
    "                inside_code = 32\n",
    "            elif (inside_code >= 65281 and inside_code <= 65374):  # 全角字符（除空格）根据关系转化\n",
    "                inside_code -= 65248\n",
    "            rstring += chr(inside_code)\n",
    "        ss = ss + rstring\n",
    "    return ss\n",
    "# 对corpus中每个文章分词后滤出停用词\n",
    "def cut(doc):\n",
    "    content = list(jieba.cut(doc))\n",
    "    stopwords = get_stop_words()\n",
    "    return '/'.join([w for w in content if w not in stopwords and w!=' '])"
   ]
  },
  {
   "cell_type": "code",
   "execution_count": 3,
   "metadata": {},
   "outputs": [
    {
     "name": "stderr",
     "output_type": "stream",
     "text": [
      "Building prefix dict from /home/lj/ideaprojects/DeepLearning/data/dict.txt.small ...\n",
      "Loading model from cache /tmp/jieba.ube6b3622f3ed3770dfb4b3dbec1af2a2.cache\n",
      "Loading model cost 0.158 seconds.\n",
      "Prefix dict has been built succesfully.\n"
     ]
    }
   ],
   "source": [
    "def handle_desc(desc):\n",
    "    desc = strQ2B(desc)\n",
    "    cut = jieba.cut(desc)\n",
    "    stopwords = get_stop_words()\n",
    "    return [w for w in cut if w not in stopwords and w!=' ']\n",
    "\n",
    "    \n",
    "def hadle_official_info():\n",
    "    '''讲地市的红头文件分词'''\n",
    "    df = pd.read_csv('/home/lj/Desktop/redhead.csv',delimiter='$',header=-1)\n",
    "    df.head()\n",
    "    df[1] = df[1].apply(lambda x:strQ2B(x))\n",
    "    jieba.set_dictionary('data/dict.txt.small')\n",
    "    x_cut = [] #分词后,去除停用词的语料库\n",
    "\n",
    "    # 获取停用词列表\n",
    "    stopwords = get_stop_words()\n",
    "    cut_res = df[1].apply(cut)\n",
    "    df[1] = cut_res\n",
    "    return df\n",
    "\n",
    "official_info_df = hadle_official_info()"
   ]
  },
  {
   "cell_type": "code",
   "execution_count": 4,
   "metadata": {},
   "outputs": [
    {
     "data": {
      "text/html": [
       "<div>\n",
       "<style scoped>\n",
       "    .dataframe tbody tr th:only-of-type {\n",
       "        vertical-align: middle;\n",
       "    }\n",
       "\n",
       "    .dataframe tbody tr th {\n",
       "        vertical-align: top;\n",
       "    }\n",
       "\n",
       "    .dataframe thead th {\n",
       "        text-align: right;\n",
       "    }\n",
       "</style>\n",
       "<table border=\"1\" class=\"dataframe\">\n",
       "  <thead>\n",
       "    <tr style=\"text-align: right;\">\n",
       "      <th></th>\n",
       "      <th>0</th>\n",
       "      <th>1</th>\n",
       "    </tr>\n",
       "  </thead>\n",
       "  <tbody>\n",
       "    <tr>\n",
       "      <th>0</th>\n",
       "      <td>济南</td>\n",
       "      <td>信息技术/智能/制造/高端/装备/量子/科技/生物/医药/先进/材料/产业/金融/现代/物流...</td>\n",
       "    </tr>\n",
       "    <tr>\n",
       "      <th>1</th>\n",
       "      <td>青岛</td>\n",
       "      <td>西海岸/新区/蓝谷/核心区/高新区/胶东/临空/经济/示范区/胶州湾/青岛/老城区/有机/更...</td>\n",
       "    </tr>\n",
       "    <tr>\n",
       "      <th>2</th>\n",
       "      <td>烟台</td>\n",
       "      <td>烟台/经济/技术开发区/烟台/高新技术/产业/开发区/烟台/东部/产城/融合/发展/示范区/...</td>\n",
       "    </tr>\n",
       "    <tr>\n",
       "      <th>3</th>\n",
       "      <td>淄博</td>\n",
       "      <td>国家/省级/经济/技术开发区/高新技术/产业/开发区/海关/特殊/监管/区/新/能源/电池/...</td>\n",
       "    </tr>\n",
       "    <tr>\n",
       "      <th>4</th>\n",
       "      <td>枣庄</td>\n",
       "      <td>人工智能/信息技术/新/能源/新/材料/医养/健康</td>\n",
       "    </tr>\n",
       "    <tr>\n",
       "      <th>5</th>\n",
       "      <td>东营</td>\n",
       "      <td>航空航天/石化/装备/新/能源/文化/旅游</td>\n",
       "    </tr>\n",
       "    <tr>\n",
       "      <th>6</th>\n",
       "      <td>潍坊</td>\n",
       "      <td>虚拟/现实/人工智能/新/能源/电池/高端/装备/制造/生物/基/材料/信息技术/现代/种业</td>\n",
       "    </tr>\n",
       "    <tr>\n",
       "      <th>7</th>\n",
       "      <td>济宁</td>\n",
       "      <td>第三代/半导体/生命/健康/信息技术/文化/旅游/生物/医药</td>\n",
       "    </tr>\n",
       "    <tr>\n",
       "      <th>8</th>\n",
       "      <td>泰安</td>\n",
       "      <td>人工智能/生命/健康/信息技术/高端/装备/制造/文化/旅游/体育/新/能源</td>\n",
       "    </tr>\n",
       "    <tr>\n",
       "      <th>9</th>\n",
       "      <td>威海</td>\n",
       "      <td>生命/健康/前沿/新/材料/医疗/器械/海洋生物/时尚/创意</td>\n",
       "    </tr>\n",
       "    <tr>\n",
       "      <th>10</th>\n",
       "      <td>日照</td>\n",
       "      <td>生命/健康/通用/航空/文化/旅游/海洋生物/医药/现代/物流/高端/装备/制造</td>\n",
       "    </tr>\n",
       "    <tr>\n",
       "      <th>11</th>\n",
       "      <td>莱芜</td>\n",
       "      <td>航天/航空/服务/清洁/能源/冶金/新/材料/全域/旅游</td>\n",
       "    </tr>\n",
       "    <tr>\n",
       "      <th>12</th>\n",
       "      <td>临沂</td>\n",
       "      <td>生命/健康/航空航天/机器人/信息技术/磁性/材料/文化/旅游/新/能源/生物/医药/节能/环保</td>\n",
       "    </tr>\n",
       "    <tr>\n",
       "      <th>13</th>\n",
       "      <td>德州</td>\n",
       "      <td>生命/健康/航空航天/材料/新/能源/生物/医药/体育/高端/装备/制造</td>\n",
       "    </tr>\n",
       "    <tr>\n",
       "      <th>14</th>\n",
       "      <td>聊城</td>\n",
       "      <td>医养/健康/新/能源/汽车/新/材料/生物/医药</td>\n",
       "    </tr>\n",
       "    <tr>\n",
       "      <th>15</th>\n",
       "      <td>滨州</td>\n",
       "      <td>航空航天/材料/新/能源/电池/高端/装备/制造/高端/化工/新/能源</td>\n",
       "    </tr>\n",
       "    <tr>\n",
       "      <th>16</th>\n",
       "      <td>菏泽</td>\n",
       "      <td>生命/健康/高端/装备/新/材料/高端/化工/生物/医药/信息技术/节能/环保</td>\n",
       "    </tr>\n",
       "  </tbody>\n",
       "</table>\n",
       "</div>"
      ],
      "text/plain": [
       "     0                                                  1\n",
       "0   济南  信息技术/智能/制造/高端/装备/量子/科技/生物/医药/先进/材料/产业/金融/现代/物流...\n",
       "1   青岛  西海岸/新区/蓝谷/核心区/高新区/胶东/临空/经济/示范区/胶州湾/青岛/老城区/有机/更...\n",
       "2   烟台  烟台/经济/技术开发区/烟台/高新技术/产业/开发区/烟台/东部/产城/融合/发展/示范区/...\n",
       "3   淄博  国家/省级/经济/技术开发区/高新技术/产业/开发区/海关/特殊/监管/区/新/能源/电池/...\n",
       "4   枣庄                          人工智能/信息技术/新/能源/新/材料/医养/健康\n",
       "5   东营                              航空航天/石化/装备/新/能源/文化/旅游\n",
       "6   潍坊     虚拟/现实/人工智能/新/能源/电池/高端/装备/制造/生物/基/材料/信息技术/现代/种业\n",
       "7   济宁                     第三代/半导体/生命/健康/信息技术/文化/旅游/生物/医药\n",
       "8   泰安             人工智能/生命/健康/信息技术/高端/装备/制造/文化/旅游/体育/新/能源\n",
       "9   威海                     生命/健康/前沿/新/材料/医疗/器械/海洋生物/时尚/创意\n",
       "10  日照           生命/健康/通用/航空/文化/旅游/海洋生物/医药/现代/物流/高端/装备/制造\n",
       "11  莱芜                       航天/航空/服务/清洁/能源/冶金/新/材料/全域/旅游\n",
       "12  临沂   生命/健康/航空航天/机器人/信息技术/磁性/材料/文化/旅游/新/能源/生物/医药/节能/环保\n",
       "13  德州               生命/健康/航空航天/材料/新/能源/生物/医药/体育/高端/装备/制造\n",
       "14  聊城                           医养/健康/新/能源/汽车/新/材料/生物/医药\n",
       "15  滨州                航空航天/材料/新/能源/电池/高端/装备/制造/高端/化工/新/能源\n",
       "16  菏泽            生命/健康/高端/装备/新/材料/高端/化工/生物/医药/信息技术/节能/环保"
      ]
     },
     "execution_count": 4,
     "metadata": {},
     "output_type": "execute_result"
    }
   ],
   "source": [
    "official_info_df"
   ]
  },
  {
   "cell_type": "code",
   "execution_count": 5,
   "metadata": {},
   "outputs": [],
   "source": [
    "official_info_df.to_csv('redhead2.csv',index=0)"
   ]
  },
  {
   "cell_type": "code",
   "execution_count": 6,
   "metadata": {},
   "outputs": [
    {
     "data": {
      "text/plain": [
       "str"
      ]
     },
     "execution_count": 6,
     "metadata": {},
     "output_type": "execute_result"
    }
   ],
   "source": [
    "official_info_df = pd.read_csv('redhead2.csv',index_col=0)\n",
    "official_info_df.index\n",
    "official_info_df.loc['青岛','1']\n",
    "type(official_info_df.loc['青岛','1'])"
   ]
  },
  {
   "cell_type": "code",
   "execution_count": 7,
   "metadata": {},
   "outputs": [
    {
     "name": "stdout",
     "output_type": "stream",
     "text": [
      "青岛\n",
      "pattern  青岛   16 字符\n"
     ]
    },
    {
     "data": {
      "text/plain": [
       "1"
      ]
     },
     "execution_count": 7,
     "metadata": {},
     "output_type": "execute_result"
    }
   ],
   "source": [
    "def judge_by_official(desc,location):\n",
    "    '''匹配红头文件, 存在则判定为新动能\n",
    "       -1 : 未找到红头文件\n",
    "       0: 匹配失败\n",
    "       1: 新动能匹配成功\n",
    "    '''\n",
    "    try:\n",
    "        print(location)\n",
    "        official_info_df.loc[location]\n",
    "    except KeyError: \n",
    "        return -1\n",
    "    official_info = official_info_df.loc[location,'1']\n",
    "    official_info = official_info.split('/')\n",
    "    crossinfo = [w for w in desc if w in official_info]\n",
    "    print('pattern ',location, ' ',len(crossinfo),'字符')\n",
    "    if len(crossinfo)>1:\n",
    "        return 1\n",
    "    else:\n",
    "        return 0\n",
    "\n",
    "desc = '青岛达能环保设备股份有限公司，成立于2006年10月，注册资金6300万元，占地面积15万平方米，生产建筑面积5.5万平方米，制造设备齐全，生产装备达到国内同行业领先水平，目前已具备年产值10亿元人民币的生产能力。青岛达能环保设备股份有限公司属锅炉辅机、环保设备制造行业。主要从事电站锅炉干式除渣系统产品、湿式除渣系统产品及烟气余热利用系统产品的研发、生产与销售。青岛达能环保设备股份有限公司为集研发、生产、销售为一体的国家高新技术企业、国家AAA级信用企业、山东省战略新兴产业重点企业、青岛企业技术中心、青岛民营科技创新先进单位。获得国家民营科技发展贡献奖、国家重点新产品、山东优秀节能成果奖等项目的荣誉称号和奖励。随着公司新业务的扩展，现面向社会诚招以下人才'\n",
    "desc = handle_desc(desc)\n",
    "location = '青岛'\n",
    "judge_by_official(desc,location)"
   ]
  },
  {
   "cell_type": "markdown",
   "metadata": {},
   "source": [
    "### 2. LDA匹配"
   ]
  },
  {
   "cell_type": "code",
   "execution_count": 33,
   "metadata": {},
   "outputs": [
    {
     "name": "stdout",
     "output_type": "stream",
     "text": [
      "[list(['批发', '零售']) list(['加工', '销售'])\n",
      " list(['小吃', '服务', '依法', '须', '批准', '项目', '相关', '部门', '批准', '后方', '开展', '经营', '活动'])\n",
      " ...\n",
      " list(['茶叶', '茶具', '批发', '零售', '依法', '须', '批准', '项目', '相关', '部门', '批准', '后方', '开展', '经营', '活动'])\n",
      " list(['汽车', '维修', '保养', '钣', '金烤', '漆', '电脑', '解码', '依法', '须', '批准', '项目', '相关', '部门', '批准', '后方', '开展', '经营', '活动'])\n",
      " list(['藤器', '制品'])]\n"
     ]
    },
    {
     "data": {
      "text/html": [
       "<div>\n",
       "<style scoped>\n",
       "    .dataframe tbody tr th:only-of-type {\n",
       "        vertical-align: middle;\n",
       "    }\n",
       "\n",
       "    .dataframe tbody tr th {\n",
       "        vertical-align: top;\n",
       "    }\n",
       "\n",
       "    .dataframe thead th {\n",
       "        text-align: right;\n",
       "    }\n",
       "</style>\n",
       "<table border=\"1\" class=\"dataframe\">\n",
       "  <thead>\n",
       "    <tr style=\"text-align: right;\">\n",
       "      <th></th>\n",
       "      <th>公司名</th>\n",
       "      <th>经营范围</th>\n",
       "      <th>所在产业</th>\n",
       "    </tr>\n",
       "  </thead>\n",
       "  <tbody>\n",
       "    <tr>\n",
       "      <th>0</th>\n",
       "      <td>刘向岗在业</td>\n",
       "      <td>批发,零售</td>\n",
       "      <td>零售业</td>\n",
       "    </tr>\n",
       "    <tr>\n",
       "      <th>1</th>\n",
       "      <td>安丘市兴建新型装饰材料制品厂吊销</td>\n",
       "      <td>加工,销售</td>\n",
       "      <td>NaN</td>\n",
       "    </tr>\n",
       "    <tr>\n",
       "      <th>2</th>\n",
       "      <td>安丘市浩红小吃铺存续</td>\n",
       "      <td>小吃,服务,依法,须,批准,项目,相关,部门,批准,后方,开展,经营,活动</td>\n",
       "      <td>NaN</td>\n",
       "    </tr>\n",
       "    <tr>\n",
       "      <th>3</th>\n",
       "      <td>滨州市滨城区建利纸制品批发部存续</td>\n",
       "      <td>纸制品,需,许可,经营,许可证,经营</td>\n",
       "      <td>NaN</td>\n",
       "    </tr>\n",
       "    <tr>\n",
       "      <th>4</th>\n",
       "      <td>滨州市滨城区倩倩化妆品店存续</td>\n",
       "      <td>化妆品</td>\n",
       "      <td>NaN</td>\n",
       "    </tr>\n",
       "  </tbody>\n",
       "</table>\n",
       "</div>"
      ],
      "text/plain": [
       "                公司名                                   经营范围 所在产业\n",
       "0             刘向岗在业                                  批发,零售  零售业\n",
       "1  安丘市兴建新型装饰材料制品厂吊销                                  加工,销售  NaN\n",
       "2        安丘市浩红小吃铺存续  小吃,服务,依法,须,批准,项目,相关,部门,批准,后方,开展,经营,活动  NaN\n",
       "3  滨州市滨城区建利纸制品批发部存续                     纸制品,需,许可,经营,许可证,经营  NaN\n",
       "4    滨州市滨城区倩倩化妆品店存续                                    化妆品  NaN"
      ]
     },
     "execution_count": 33,
     "metadata": {},
     "output_type": "execute_result"
    }
   ],
   "source": [
    "import pandas as pd\n",
    "import numpy as np\n",
    "from sklearn.svm import SVC\n",
    "qichacha_cut = pd.read_csv('qichacha_cut.csv',index_col=0)\n",
    "x_cut = qichacha_cut['经营范围'].apply(lambda x:x.split(',')).values\n",
    "print(x_cut)\n",
    "qichacha_cut.head()"
   ]
  },
  {
   "cell_type": "code",
   "execution_count": 36,
   "metadata": {},
   "outputs": [
    {
     "name": "stdout",
     "output_type": "stream",
     "text": [
      "Dictionary(1878 unique tokens: ['批发', '零售', '加工', '销售', '依法']...)\n"
     ]
    },
    {
     "data": {
      "text/plain": [
       "[(0,\n",
       "  '0.067*\"批准\" + 0.041*\"经营\" + 0.035*\"部门\" + 0.035*\"开展\" + 0.034*\"项目\" + 0.034*\"活动\" + 0.033*\"相关\" + 0.033*\"须\" + 0.027*\"依法\" + 0.027*\"后方\"'),\n",
       " (1,\n",
       "  '0.056*\"批准\" + 0.049*\"经营\" + 0.033*\"须\" + 0.032*\"活动\" + 0.030*\"开展\" + 0.030*\"相关\" + 0.029*\"部门\" + 0.029*\"依法\" + 0.028*\"后方\" + 0.026*\"项目\"'),\n",
       " (2,\n",
       "  '0.038*\"销售\" + 0.037*\"批准\" + 0.034*\"经营\" + 0.024*\"相关\" + 0.022*\"须\" + 0.020*\"依法\" + 0.019*\"活动\" + 0.019*\"开展\" + 0.018*\"后方\" + 0.017*\"项目\"'),\n",
       " (3,\n",
       "  '0.086*\"批准\" + 0.068*\"经营\" + 0.047*\"项目\" + 0.046*\"须\" + 0.044*\"后方\" + 0.044*\"开展\" + 0.044*\"活动\" + 0.044*\"依法\" + 0.042*\"部门\" + 0.041*\"相关\"'),\n",
       " (4,\n",
       "  '0.030*\"批准\" + 0.023*\"销售\" + 0.020*\"服务\" + 0.019*\"经营\" + 0.016*\"须\" + 0.014*\"许可证\" + 0.014*\"含\" + 0.014*\"开展\" + 0.013*\"食品\" + 0.013*\"相关\"')]"
      ]
     },
     "execution_count": 36,
     "metadata": {},
     "output_type": "execute_result"
    }
   ],
   "source": [
    "def getLDA(topic_num):\n",
    "    from gensim.models import LdaMulticore\n",
    "    from gensim.corpora import Dictionary\n",
    "    # gensim\n",
    "    dictionary = Dictionary(x_cut)\n",
    "    print(dictionary)\n",
    "    corpus = [dictionary.doc2bow(doc) for doc in x_cut]\n",
    "    lda = LdaMulticore(corpus=corpus,  # LDA训练语料\n",
    "                   id2word=dictionary, # id到单词的映射表\n",
    "                   num_topics=topic_num)      # LDA主题数量 \n",
    "    return lda,corpus,dictionary\n",
    "topic_num = 5\n",
    "lda,corpus,dictionary = getLDA(topic_num)\n",
    "lda.print_topics()"
   ]
  },
  {
   "cell_type": "code",
   "execution_count": 31,
   "metadata": {},
   "outputs": [
    {
     "name": "stdout",
     "output_type": "stream",
     "text": [
      "[(0, 0.7329545), (1, 0.06686983), (2, 0.06683207), (3, 0.06667106), (4, 0.066672556)]\n",
      "[0.73295498 0.0668694  0.06683198 0.06667105 0.06667256]\n",
      "[(0, 0.7329545), (1, 0.06686985), (2, 0.06683209), (3, 0.06667106), (4, 0.066672556)]\n"
     ]
    }
   ],
   "source": [
    "def get_topic_distribute(lda,doc):\n",
    "    return lda[doc]\n",
    "\n",
    "lda_matrix = np.zeros((qichacha_cut.shape[0],topic_num),dtype='float64')\n",
    "for index,doc in enumerate(corpus):\n",
    "    topics = get_topic_distribute(lda,corpus[index])\n",
    "    for topic_tuple in topics:\n",
    "        lda_matrix[index,topic_tuple[0]] = topic_tuple[1]"
   ]
  },
  {
   "cell_type": "code",
   "execution_count": 34,
   "metadata": {},
   "outputs": [],
   "source": [
    "# SVM训练\n",
    "def train_svm(lda_matrix,label):\n",
    "    clf = SVC()\n",
    "    clf.fit(lda_matrix, label) \n",
    "    return clf"
   ]
  },
  {
   "cell_type": "code",
   "execution_count": 42,
   "metadata": {},
   "outputs": [
    {
     "data": {
      "text/plain": [
       "[(0, 0.2), (1, 0.2), (2, 0.2), (3, 0.2), (4, 0.2)]"
      ]
     },
     "execution_count": 42,
     "metadata": {},
     "output_type": "execute_result"
    }
   ],
   "source": [
    "def predict(dictionary,description,clf):\n",
    "    a = dictionary.doc2bow(jieba.lcut(description))\n",
    "    topic_distribute = lda[a]\n",
    "    res = clf.predict(topic_distribute)\n",
    "    return res"
   ]
  },
  {
   "cell_type": "markdown",
   "metadata": {},
   "source": [
    "### 补全地市"
   ]
  },
  {
   "cell_type": "code",
   "execution_count": 32,
   "metadata": {},
   "outputs": [
    {
     "data": {
      "text/html": [
       "<div>\n",
       "<style scoped>\n",
       "    .dataframe tbody tr th:only-of-type {\n",
       "        vertical-align: middle;\n",
       "    }\n",
       "\n",
       "    .dataframe tbody tr th {\n",
       "        vertical-align: top;\n",
       "    }\n",
       "\n",
       "    .dataframe thead th {\n",
       "        text-align: right;\n",
       "    }\n",
       "</style>\n",
       "<table border=\"1\" class=\"dataframe\">\n",
       "  <thead>\n",
       "    <tr style=\"text-align: right;\">\n",
       "      <th></th>\n",
       "      <th>公司名</th>\n",
       "      <th>经营范围</th>\n",
       "      <th>所在产业</th>\n",
       "      <th>所在区域</th>\n",
       "    </tr>\n",
       "  </thead>\n",
       "  <tbody>\n",
       "    <tr>\n",
       "      <th>0</th>\n",
       "      <td>刘向岗在业</td>\n",
       "      <td>批发,零售</td>\n",
       "      <td>零售业</td>\n",
       "      <td>安丘</td>\n",
       "    </tr>\n",
       "    <tr>\n",
       "      <th>1</th>\n",
       "      <td>安丘市兴建新型装饰材料制品厂吊销</td>\n",
       "      <td>加工,销售</td>\n",
       "      <td>NaN</td>\n",
       "      <td>安丘</td>\n",
       "    </tr>\n",
       "    <tr>\n",
       "      <th>2</th>\n",
       "      <td>安丘市浩红小吃铺存续</td>\n",
       "      <td>小吃,服务,依法,须,批准,项目,相关,部门,批准,后方,开展,经营,活动</td>\n",
       "      <td>NaN</td>\n",
       "      <td>安丘</td>\n",
       "    </tr>\n",
       "    <tr>\n",
       "      <th>3</th>\n",
       "      <td>滨州市滨城区建利纸制品批发部存续</td>\n",
       "      <td>纸制品,需,许可,经营,许可证,经营</td>\n",
       "      <td>NaN</td>\n",
       "      <td>滨州</td>\n",
       "    </tr>\n",
       "    <tr>\n",
       "      <th>4</th>\n",
       "      <td>滨州市滨城区倩倩化妆品店存续</td>\n",
       "      <td>化妆品</td>\n",
       "      <td>NaN</td>\n",
       "      <td>滨州</td>\n",
       "    </tr>\n",
       "  </tbody>\n",
       "</table>\n",
       "</div>"
      ],
      "text/plain": [
       "                公司名                                   经营范围 所在产业 所在区域\n",
       "0             刘向岗在业                                  批发,零售  零售业   安丘\n",
       "1  安丘市兴建新型装饰材料制品厂吊销                                  加工,销售  NaN   安丘\n",
       "2        安丘市浩红小吃铺存续  小吃,服务,依法,须,批准,项目,相关,部门,批准,后方,开展,经营,活动  NaN   安丘\n",
       "3  滨州市滨城区建利纸制品批发部存续                     纸制品,需,许可,经营,许可证,经营  NaN   滨州\n",
       "4    滨州市滨城区倩倩化妆品店存续                                    化妆品  NaN   滨州"
      ]
     },
     "execution_count": 32,
     "metadata": {},
     "output_type": "execute_result"
    }
   ],
   "source": [
    "def get_area():\n",
    "    df2 = pd.read_csv('qichacha.csv',index_col=0)\n",
    "    return df2['登记机关'].apply(lambda x:x[:2])\n",
    "    \n",
    "qichacha_cut['所在区域']=get_area()\n",
    "qichacha_cut.head()"
   ]
  },
  {
   "cell_type": "code",
   "execution_count": 15,
   "metadata": {},
   "outputs": [
    {
     "data": {
      "text/plain": [
       "1150"
      ]
     },
     "execution_count": 15,
     "metadata": {},
     "output_type": "execute_result"
    }
   ],
   "source": [
    "qichacha_cut.shape[0]"
   ]
  }
 ],
 "metadata": {
  "kernelspec": {
   "display_name": "Python 3",
   "language": "python",
   "name": "python3"
  },
  "language_info": {
   "codemirror_mode": {
    "name": "ipython",
    "version": 3
   },
   "file_extension": ".py",
   "mimetype": "text/x-python",
   "name": "python",
   "nbconvert_exporter": "python",
   "pygments_lexer": "ipython3",
   "version": "3.6.5"
  }
 },
 "nbformat": 4,
 "nbformat_minor": 2
}
