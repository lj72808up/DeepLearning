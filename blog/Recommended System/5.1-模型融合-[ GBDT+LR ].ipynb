{
 "cells": [
  {
   "cell_type": "markdown",
   "metadata": {},
   "source": [
    "### 5.3 Wide and Deep融合模型\n",
    "宽深模型在tensorflow中已有实现[https://tensorflow.juejin.im/tutorials/wide_and_deep.html](https://tensorflow.juejin.im/tutorials/wide_and_deep.html)"
   ]
  },
  {
   "cell_type": "markdown",
   "metadata": {
    "collapsed": true
   },
   "source": [
    "### 5.1 推荐系统3个阶段\n",
    "\n",
    "#### 一. 推荐系统的三个阶段\n",
    "推荐系统在技术实现上一般分为3个阶段:挖掘,召回,排序\n",
    "1. 挖掘 : 对用户和物品进行结构化分析\n",
    "2. 召回 : 为避免产生推荐结果时对所有物品计算, 所以使用召回从全量物品中找出比较靠谱的一些产品\n",
    "3. 排序(融合) : 对召回产生的物品做一个排序, 选择顺序靠前的物品推荐给他\n",
    "\n",
    "#### 二. 召回阶段\n",
    "前面介绍的所有推荐算法, 包括基于用户,基于物品的紧邻推荐, SVD矩阵分解, BPR个性化排序, 都是属于召回阶段的算法. 也就是在召回阶段, 会同时使用上述方法产生相应的一批结果.然后汇总这些结果后做一个排序再推荐给用户. 但是这个排序不能简单的比较各自算法产生的分数, 因为\n",
    "1. 每种算法给出结果时如果有分数，分数的范围不一定一样，所以不能互相比较，大家各自家庭背景不一样\n",
    "2. 即使强行把所有分数都归一化，仍然不能互相比较，因为产生的机制不同，有的可能普遍偏高，有的可能普遍偏低。  \n",
    "\n",
    "因此, 我们使用一个全新的算法, 将召回的物品在做一个新的预测, 从而产生排序结果\n"
   ]
  },
  {
   "cell_type": "markdown",
   "metadata": {},
   "source": [
    "### 5.2 FaceBook CTR预测方法\n",
    "\n",
    "#### 一. GBDT+LR\n",
    "1. 使用GBDT+LR进行点击率预估, 效果比单纯LR提升3%\n",
    "2. CTR预估 :  \n",
    " 在推荐一个物品之前, 预测用户点击这个物品的概率\n",
    "3. 步骤  \n",
    "  1. 把用户, 物品向量拼接在一起, 经过N棵GBDT树各自预测一下, 给出0或1的判断. \n",
    "  2. 再将这n个结果作为n个新特征加入到用户物品组合向量中, 进行LR训练"
   ]
  },
  {
   "cell_type": "code",
   "execution_count": null,
   "metadata": {},
   "outputs": [],
   "source": []
  }
 ],
 "metadata": {
  "kernelspec": {
   "display_name": "Python 3",
   "language": "python",
   "name": "python3"
  },
  "language_info": {
   "codemirror_mode": {
    "name": "ipython",
    "version": 3
   },
   "file_extension": ".py",
   "mimetype": "text/x-python",
   "name": "python",
   "nbconvert_exporter": "python",
   "pygments_lexer": "ipython3",
   "version": "3.6.5"
  }
 },
 "nbformat": 4,
 "nbformat_minor": 2
}
