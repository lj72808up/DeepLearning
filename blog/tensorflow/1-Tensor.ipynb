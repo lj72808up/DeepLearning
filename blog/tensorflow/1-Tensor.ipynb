{
 "cells": [
  {
   "cell_type": "markdown",
   "metadata": {},
   "source": [
    "### 1.1 Tensorflow low api介绍\n",
    "1. Tensorflow low api分为两个部分  \n",
    "  1. 构建计算图:`tf.Graph`\n",
    "  2. 运行计算图:`tf.Session`\n",
    "2. 何为计算图 \n",
    "  1. 计算图是由一系列Tensorflow操作组成的Graph.其中顶点为`Tensorflow operation`, 边为输入输出的张量\n",
    "  2. Tensorflow的张量类为`tf.Tensors`\n",
    "3. 如下, 构建第一个Tensorflow demo"
   ]
  },
  {
   "cell_type": "code",
   "execution_count": 1,
   "metadata": {},
   "outputs": [
    {
     "name": "stderr",
     "output_type": "stream",
     "text": [
      "/devkit/anaconda3/lib/python3.6/site-packages/h5py/__init__.py:36: FutureWarning: Conversion of the second argument of issubdtype from `float` to `np.floating` is deprecated. In future, it will be treated as `np.float64 == np.dtype(float).type`.\n",
      "  from ._conv import register_converters as _register_converters\n"
     ]
    }
   ],
   "source": [
    "# 为了pthon2兼容python3声明的特性包, python3下不用导入, 这些特性已默认包含在python3中\n",
    "from __future__ import division        # 精确除: int/int=float\n",
    "from __future__ import absolute_import # 绝对路径导入\n",
    "from __future__ import print_function  # 使用print函数, 而不是print关键字\n",
    "import tensorflow as tf"
   ]
  },
  {
   "cell_type": "code",
   "execution_count": null,
   "metadata": {},
   "outputs": [],
   "source": [
    "x = tf.constant([[1], [2], [3], [4]],dtype=tf.float32)\n",
    "y = tf.constant([[0], [-1], [-2], [-3]],dtype=tf.float32)\n",
    "\n",
    "linear_model = tf.layers.Dense(units=1)\n",
    "\n",
    "y_pred = linear_model(x) # 相当于keras functional api\n",
    "loss = tf.losses.mean_squared_error(labels=y,predictions=y_pred) # 损失函数\n",
    "optimazer = tf.train.RMSPropOptimizer(0.01) # 优化器\n",
    "\n",
    "train = optimazer.minimize(loss) # 使用优化器最小化损失函数\n",
    "\n",
    "init = tf.global_variables_initializer() # 初始化layers中的参数\n",
    "\n",
    "sess = tf.Session()\n",
    "sess.run(init)\n",
    "for i in range(1000): #训练1000次\n",
    "    x = sess.run((train,loss))  # session.run执行一次tensor运算\n",
    "    if i == 999:\n",
    "        print('loss:',x[1]) \n",
    "print(sess.run(y_pred))"
   ]
  },
  {
   "cell_type": "markdown",
   "metadata": {},
   "source": [
    "### 1.2 Tensor\n",
    "\n",
    "#### 一. Tensor简介\n",
    "1. 使用`tf.Tensor`对象表示张量. 确定维度的张量也会产生确定维度的张量, 但有些张量的维度只在计算图运行时出现\n",
    "2. `tf.Tensor`对象的rank用来区分标量,向量,矩阵,n维矩阵"
   ]
  },
  {
   "cell_type": "markdown",
   "metadata": {},
   "source": [
    "#### 二. 不用session.run即可获取结果的操作\n",
    "1. 声明不同rank的tensor\n",
    "2. tensor index切片\n",
    "3. 获取tensor的shape  \n",
    " 返回`tf.Tensor.Shape`\n",
    "4. tensorflow初始化  \n",
    " `tf.zeros(Tensor.shape)`"
   ]
  },
  {
   "cell_type": "code",
   "execution_count": 6,
   "metadata": {},
   "outputs": [],
   "source": [
    "# rank = 0\n",
    "tf.Variable(99,dtype=tf.int16)\n",
    "# rank = 1\n",
    "mystr = tf.Variable(['Hello'],tf.string)\n",
    "col_numbers = tf.Variable([3.14,6.28],dtype=tf.float32)\n",
    "col_1 = col_numbers[1]\n",
    "# rank = n\n",
    "myxor = tf.Variable([[False, True],[True, False]], tf.bool)\n",
    "matrix1 = tf.Variable([[111,222],[333,444]],dtype=tf.int32)\n",
    "zeros = tf.zeros(matrix1.shape)"
   ]
  },
  {
   "cell_type": "markdown",
   "metadata": {},
   "source": [
    "#### 三. 获取张量维度\n",
    "`tf.rank()`"
   ]
  },
  {
   "cell_type": "code",
   "execution_count": 7,
   "metadata": {},
   "outputs": [],
   "source": [
    "n = tf.rank(myxor)"
   ]
  },
  {
   "cell_type": "code",
   "execution_count": 20,
   "metadata": {},
   "outputs": [
    {
     "name": "stdout",
     "output_type": "stream",
     "text": [
      "[b'Hello']\n",
      "2\n",
      "6.28\n",
      "[[0. 0.]\n",
      " [0. 0.]]\n"
     ]
    }
   ],
   "source": [
    "with tf.Session() as sess:\n",
    "    init = tf.global_variables_initializer()\n",
    "    sess.run(init)\n",
    "    print (sess.run(mystr))\n",
    "    print (sess.run(n))\n",
    "    print (sess.run(col_1))\n",
    "    res = sess.run(col_numbers)\n",
    "    print (sess.run(zeros))"
   ]
  },
  {
   "cell_type": "markdown",
   "metadata": {},
   "source": [
    "#### 四. 获取与tensor相同内容的ndarray\n",
    "1. 使用`Tensor.eval()`  \n",
    "2. `Tensor.eval()`需要在tf.Session开启的状况下  \n",
    "3, 使用`tf.placeholder`声明的变量, 由于没有确定值, 所以无法在脱离计算图的环境下使用`eval`  \n",
    " 此时需要指定参数`tf.eval(feed_dict={})`"
   ]
  },
  {
   "cell_type": "code",
   "execution_count": 16,
   "metadata": {},
   "outputs": [
    {
     "name": "stdout",
     "output_type": "stream",
     "text": [
      "[1 4 9]\n"
     ]
    }
   ],
   "source": [
    "with tf.Session() as sess : \n",
    "    constant = tf.constant([1,2,3])\n",
    "    tensor1 = constant * constant\n",
    "    print(tensor1.eval())"
   ]
  },
  {
   "cell_type": "code",
   "execution_count": 26,
   "metadata": {},
   "outputs": [
    {
     "name": "stdout",
     "output_type": "stream",
     "text": [
      "3.0\n"
     ]
    }
   ],
   "source": [
    "# eval指定feed_dict\n",
    "p = tf.placeholder(tf.float32)\n",
    "t = p+1.0\n",
    "with tf.Session() as sess : \n",
    "#     print(t.eval()) #报错\n",
    "    res = t.eval(feed_dict={p:2.0})\n",
    "    print(res)"
   ]
  },
  {
   "cell_type": "markdown",
   "metadata": {},
   "source": [
    "#### 五. 关于打印tensor\n",
    "1. 如下形式只能打印出`tf.Tensor`对象, 此时这个对象还没有值  \n",
    "  ```python\n",
    "t = <<some tensorflow operation>>\n",
    "print(t)\n",
    "  ```"
   ]
  },
  {
   "cell_type": "code",
   "execution_count": 30,
   "metadata": {},
   "outputs": [
    {
     "data": {
      "text/plain": [
       "<tf.Tensor 'add_6:0' shape=(3,) dtype=int32>"
      ]
     },
     "execution_count": 30,
     "metadata": {},
     "output_type": "execute_result"
    }
   ],
   "source": [
    "t = tf.Variable([1,2,3],dtype=tf.int32)\n",
    "t = tf.Print(t,[t])\n",
    "t+1"
   ]
  },
  {
   "cell_type": "code",
   "execution_count": 35,
   "metadata": {},
   "outputs": [
    {
     "name": "stdout",
     "output_type": "stream",
     "text": [
      "[2 3 4 5]\n"
     ]
    }
   ],
   "source": [
    "x=tf.constant([2,3,4,5])\n",
    "x=tf.Print(x,[x,x.shape,'any thing i want'],message='Debug message:',summarize=100)\n",
    " \n",
    "with tf.Session() as sess:\n",
    "    print(sess.run(x))"
   ]
  }
 ],
 "metadata": {
  "kernelspec": {
   "display_name": "Python 3",
   "language": "python",
   "name": "python3"
  },
  "language_info": {
   "codemirror_mode": {
    "name": "ipython",
    "version": 3
   },
   "file_extension": ".py",
   "mimetype": "text/x-python",
   "name": "python",
   "nbconvert_exporter": "python",
   "pygments_lexer": "ipython3",
   "version": "3.6.5"
  }
 },
 "nbformat": 4,
 "nbformat_minor": 2
}
