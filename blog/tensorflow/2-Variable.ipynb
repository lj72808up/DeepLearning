{
 "cells": [
  {
   "cell_type": "code",
   "execution_count": 1,
   "metadata": {},
   "outputs": [
    {
     "name": "stderr",
     "output_type": "stream",
     "text": [
      "/devkit/anaconda3/lib/python3.6/site-packages/h5py/__init__.py:36: FutureWarning: Conversion of the second argument of issubdtype from `float` to `np.floating` is deprecated. In future, it will be treated as `np.float64 == np.dtype(float).type`.\n",
      "  from ._conv import register_converters as _register_converters\n"
     ]
    }
   ],
   "source": [
    "import tensorflow as tf"
   ]
  },
  {
   "cell_type": "markdown",
   "metadata": {},
   "source": [
    "#### 一. 创建Variable\n",
    "1. 使用'tf.get_variable()'声明 :  \n",
    "  1. 指定参数名  \n",
    "  2. 指定变量的shape\n",
    "  3. 指定变量的初始化器. 若不是随机初始化, 则可以不必指定shape"
   ]
  },
  {
   "cell_type": "code",
   "execution_count": 6,
   "metadata": {},
   "outputs": [
    {
     "name": "stdout",
     "output_type": "stream",
     "text": [
      "[[[0. 0.]\n",
      "  [0. 0.]]\n",
      "\n",
      " [[0. 0.]\n",
      "  [0. 0.]]\n",
      "\n",
      " [[0. 0.]\n",
      "  [0. 0.]]\n",
      "\n",
      " [[0. 0.]\n",
      "  [0. 0.]]]\n"
     ]
    }
   ],
   "source": [
    "init_var = tf.get_variable('init_variable',shape=[4,2,2],initializer=tf.zeros_initializer())\n",
    "# 变量可重复\n",
    "# tf.get_variable_scope().reuse_variables() \n",
    "with tf.Session() as sess:\n",
    "    sess.run(tf.global_variables_initializer())\n",
    "    print(sess.run(init_var))"
   ]
  },
  {
   "cell_type": "markdown",
   "metadata": {},
   "source": [
    "#### 二. 将变量加入集合\n",
    "1. tensorflow默认的2个集合 :  \n",
    "  1. `tf.GraphKeys.GLOBAL_VARIABLES` : 多条机器共享该变量  \n",
    "  2. `tf.GraphKeys.TRAINABLE_VARIABLES` : 这些变量将计算梯度  \n",
    "  3. `tf.GraphKeys.LOCAL_VARIABLES` : 本地变量, 不计算梯度"
   ]
  },
  {
   "cell_type": "code",
   "execution_count": 14,
   "metadata": {},
   "outputs": [
    {
     "data": {
      "text/plain": [
       "[<tf.Variable 'init_variable:0' shape=(4, 2, 2) dtype=float32_ref>]"
      ]
     },
     "execution_count": 14,
     "metadata": {},
     "output_type": "execute_result"
    }
   ],
   "source": [
    "# 2.增加集合\n",
    "tf.add_to_collection('my_local_collection',init_var)\n",
    "# 3.获取集合下面的所有变量\n",
    "tf.get_collection('my_local_collection')"
   ]
  },
  {
   "cell_type": "markdown",
   "metadata": {},
   "source": [
    "#### 三. 使用Variable\n",
    "1. 像`tf.Tensor`一样使用`tf.Variable`"
   ]
  },
  {
   "cell_type": "code",
   "execution_count": null,
   "metadata": {},
   "outputs": [],
   "source": [
    "# with tf.variable_scope('conv',reuse=True):\n",
    "v = tf.get_variable('v',shape=[5,2],initializer=tf.zeros_initializer())\n",
    "w = v+1"
   ]
  },
  {
   "cell_type": "code",
   "execution_count": null,
   "metadata": {},
   "outputs": [],
   "source": [
    "with tf.Session() as sess:\n",
    "    sess.run(tf.global_variables_initializer())\n",
    "    print(sess.run(w))"
   ]
  }
 ],
 "metadata": {
  "kernelspec": {
   "display_name": "Python 3",
   "language": "python",
   "name": "python3"
  },
  "language_info": {
   "codemirror_mode": {
    "name": "ipython",
    "version": 3
   },
   "file_extension": ".py",
   "mimetype": "text/x-python",
   "name": "python",
   "nbconvert_exporter": "python",
   "pygments_lexer": "ipython3",
   "version": "3.6.5"
  }
 },
 "nbformat": 4,
 "nbformat_minor": 2
}
