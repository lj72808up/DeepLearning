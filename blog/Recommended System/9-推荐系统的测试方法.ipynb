{
 "cells": [
  {
   "cell_type": "markdown",
   "metadata": {},
   "source": [
    "### 9.1 推荐系统的四种测试方法\n",
    "\n",
    "#### 一. 业务规则扫描\n",
    "业务规则扫描类似于传统软件的功能测试, 通过单元测试检测业务规则是否满足\n",
    "\n",
    "#### 二. 离线模拟测试\n",
    "首先收集业务数据, 根据业务场景的特点, 构造用户访问推荐接口的参数. 这些参数要尽量还原用户当时所处场景, 产生推荐. 此后收集推荐结果日志, 并从日志中计算评价指标, 进行离线测试\n",
    "\n",
    "#### 三. ABTest\n",
    " 使用在线对比测试, 分流做真实评测\n",
    " \n",
    "#### 四. 用户访谈 "
   ]
  },
  {
   "cell_type": "markdown",
   "metadata": {},
   "source": [
    "### 9.2 推荐系统的评价指标\n",
    "\n",
    "#### 一. 系统有多好 \n",
    "1. 系统有多好的指标有分为2类 : 深度指标, 广度指标  \n",
    " 深度指标 : 评价系统推荐结果的精准度, 即预测用户和物品之间的连接, 分为'评分预测'和'行为预测'.   \n",
    " 宽度指标 : \n",
    "\n",
    "2. 深度指标\n",
    "  1. 评分精准度 :  \n",
    "   均方根误差$RMSE$, 反应预测的评分结果好坏  \n",
    "  2. 排序效果  \n",
    "   AUC值\n",
    "  3. 分类准确率  \n",
    "   点击率  \n",
    "   转化率\n",
    "   \n",
    "3. 广度指标  \n",
    "  1. 覆盖率 : 推荐系统在多少用户上开采成功  \n",
    "   PV覆盖率  \n",
    "   UV覆盖率\n",
    "  2. 失效率  \n",
    "  3. 新颖性   \n",
    "  4. 更新率 \n",
    "  \n",
    "#### 二. 系统还能好多久\n",
    "1. 个性化  \n",
    "2. 基尼系数\n",
    "3. 多样性"
   ]
  }
 ],
 "metadata": {
  "kernelspec": {
   "display_name": "Python 3",
   "language": "python",
   "name": "python3"
  },
  "language_info": {
   "codemirror_mode": {
    "name": "ipython",
    "version": 3
   },
   "file_extension": ".py",
   "mimetype": "text/x-python",
   "name": "python",
   "nbconvert_exporter": "python",
   "pygments_lexer": "ipython3",
   "version": "3.6.5"
  }
 },
 "nbformat": 4,
 "nbformat_minor": 2
}
