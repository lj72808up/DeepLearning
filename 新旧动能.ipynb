{
 "cells": [
  {
   "cell_type": "code",
   "execution_count": 57,
   "metadata": {},
   "outputs": [],
   "source": [
    "import pandas as pd\n",
    "df = pd.read_csv('qichacha_cut.csv',index_col=0)\n",
    "x_cut = df['经营范围'].apply(lambda s:s.split(','))\n",
    "topic_num = 200"
   ]
  },
  {
   "cell_type": "code",
   "execution_count": 58,
   "metadata": {},
   "outputs": [
    {
     "name": "stdout",
     "output_type": "stream",
     "text": [
      "Dictionary(1878 unique tokens: ['批发', '零售', '加工', '销售', '依法']...)\n"
     ]
    }
   ],
   "source": [
    "def getLDA(topic_num):\n",
    "    from gensim.models import LdaMulticore\n",
    "    from gensim.corpora import Dictionary\n",
    "    # gensim\n",
    "    dictionary = Dictionary(x_cut)\n",
    "    print(dictionary)\n",
    "    corpus = [dictionary.doc2bow(doc) for doc in x_cut]\n",
    "    lda = LdaMulticore(corpus=corpus,  # LDA训练语料\n",
    "                   id2word=dictionary, # id到单词的映射表\n",
    "                   num_topics=topic_num)      # LDA主题数量 \n",
    "#     print(lda.print_topics(topic_num))\n",
    "    return lda,corpus\n",
    "\n",
    "lda,corpus = getLDA(topic_num)"
   ]
  },
  {
   "cell_type": "code",
   "execution_count": 59,
   "metadata": {},
   "outputs": [
    {
     "data": {
      "text/plain": [
       "[(11, 0.66833335)]"
      ]
     },
     "execution_count": 59,
     "metadata": {},
     "output_type": "execute_result"
    }
   ],
   "source": [
    "def get_topic_distribute(lda,doc):\n",
    "    return lda[doc]\n",
    "\n",
    "get_topic_distribute(lda,corpus[0])"
   ]
  },
  {
   "cell_type": "code",
   "execution_count": 60,
   "metadata": {},
   "outputs": [
    {
     "data": {
      "text/html": [
       "<div>\n",
       "<style scoped>\n",
       "    .dataframe tbody tr th:only-of-type {\n",
       "        vertical-align: middle;\n",
       "    }\n",
       "\n",
       "    .dataframe tbody tr th {\n",
       "        vertical-align: top;\n",
       "    }\n",
       "\n",
       "    .dataframe thead th {\n",
       "        text-align: right;\n",
       "    }\n",
       "</style>\n",
       "<table border=\"1\" class=\"dataframe\">\n",
       "  <thead>\n",
       "    <tr style=\"text-align: right;\">\n",
       "      <th></th>\n",
       "      <th>公司名</th>\n",
       "      <th>经营范围</th>\n",
       "      <th>所在产业</th>\n",
       "      <th>所在区域</th>\n",
       "    </tr>\n",
       "  </thead>\n",
       "  <tbody>\n",
       "    <tr>\n",
       "      <th>0</th>\n",
       "      <td>刘向岗在业</td>\n",
       "      <td>批发,零售</td>\n",
       "      <td>零售业</td>\n",
       "      <td>安丘市</td>\n",
       "    </tr>\n",
       "    <tr>\n",
       "      <th>1</th>\n",
       "      <td>安丘市兴建新型装饰材料制品厂吊销</td>\n",
       "      <td>加工,销售</td>\n",
       "      <td>NaN</td>\n",
       "      <td>安丘市</td>\n",
       "    </tr>\n",
       "    <tr>\n",
       "      <th>2</th>\n",
       "      <td>安丘市浩红小吃铺存续</td>\n",
       "      <td>小吃,服务,依法,须,批准,项目,相关,部门,批准,后方,开展,经营,活动</td>\n",
       "      <td>NaN</td>\n",
       "      <td>安丘市</td>\n",
       "    </tr>\n",
       "    <tr>\n",
       "      <th>3</th>\n",
       "      <td>滨州市滨城区建利纸制品批发部存续</td>\n",
       "      <td>纸制品,需,许可,经营,许可证,经营</td>\n",
       "      <td>NaN</td>\n",
       "      <td>滨州市</td>\n",
       "    </tr>\n",
       "    <tr>\n",
       "      <th>4</th>\n",
       "      <td>滨州市滨城区倩倩化妆品店存续</td>\n",
       "      <td>化妆品</td>\n",
       "      <td>NaN</td>\n",
       "      <td>滨州市</td>\n",
       "    </tr>\n",
       "  </tbody>\n",
       "</table>\n",
       "</div>"
      ],
      "text/plain": [
       "                公司名                                   经营范围 所在产业 所在区域\n",
       "0             刘向岗在业                                  批发,零售  零售业  安丘市\n",
       "1  安丘市兴建新型装饰材料制品厂吊销                                  加工,销售  NaN  安丘市\n",
       "2        安丘市浩红小吃铺存续  小吃,服务,依法,须,批准,项目,相关,部门,批准,后方,开展,经营,活动  NaN  安丘市\n",
       "3  滨州市滨城区建利纸制品批发部存续                     纸制品,需,许可,经营,许可证,经营  NaN  滨州市\n",
       "4    滨州市滨城区倩倩化妆品店存续                                    化妆品  NaN  滨州市"
      ]
     },
     "execution_count": 60,
     "metadata": {},
     "output_type": "execute_result"
    }
   ],
   "source": [
    "def get_area():\n",
    "    df2 = pd.read_csv('qichacha.csv',index_col=0)\n",
    "    return df2['登记机关'].apply(lambda x:x[:3])\n",
    "    \n",
    "df['所在区域']=get_area()\n",
    "df.head()"
   ]
  },
  {
   "cell_type": "code",
   "execution_count": null,
   "metadata": {},
   "outputs": [],
   "source": []
  },
  {
   "cell_type": "code",
   "execution_count": null,
   "metadata": {},
   "outputs": [],
   "source": []
  }
 ],
 "metadata": {
  "kernelspec": {
   "display_name": "Python 3",
   "language": "python",
   "name": "python3"
  },
  "language_info": {
   "codemirror_mode": {
    "name": "ipython",
    "version": 3
   },
   "file_extension": ".py",
   "mimetype": "text/x-python",
   "name": "python",
   "nbconvert_exporter": "python",
   "pygments_lexer": "ipython3",
   "version": "3.6.5"
  }
 },
 "nbformat": 4,
 "nbformat_minor": 2
}
