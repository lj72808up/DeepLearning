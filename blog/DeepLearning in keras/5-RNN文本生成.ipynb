{
 "cells": [
  {
   "cell_type": "markdown",
   "metadata": {},
   "source": []
  },
  {
   "cell_type": "code",
   "execution_count": 2,
   "metadata": {
    "collapsed": true
   },
   "outputs": [],
   "source": [
    "import numpy as np\n",
    "np.random.multinomial??"
   ]
  },
  {
   "cell_type": "code",
   "execution_count": 12,
   "metadata": {},
   "outputs": [
    {
     "name": "stdout",
     "output_type": "stream",
     "text": [
      "PREFACE\n",
      "\n",
      "\n",
      "SUPPOSING that Truth is a woman--what then? Is there not ground\n",
      "for suspecting that all philosophers, in so far as they have been\n",
      "dogmatists, have failed to understand women--that the terrible\n",
      "seriousness and clumsy importunity with which they have usually paid\n",
      "their addresses to Truth, have been unskilled and unseemly methods for\n",
      "winning a woman? Certainly she has never allowed herself to be won; and\n",
      "at present every kind of dogma stands with sad and discouraged mien--IF,\n",
      "indeed, it stands at all! For there are scoffers who maintain that it\n",
      "has fallen, that all dogma lies on the ground--nay more, that it is at\n",
      "its last gasp. But to speak seriously, there are good grounds for hoping\n",
      "that all dogmatizing in philosophy, whatever solemn, whatever conclusive\n",
      "and decided airs it has assumed, may have been only a noble puerilism\n",
      "and tyronism; and probably the time is at hand when it will be once\n",
      "and again understood WHAT has actually sufficed for the basis of such\n",
      "imposing and absolute philosophical edifices as the dogmatists have\n",
      "hitherto reared: perhaps some popular superstition of immemorial time\n",
      "(such as the soul-superstition, which, in the form of subject- and\n",
      "ego-superstition, has not yet ceased doing mischief): perhaps some\n",
      "play upon words, a deception on the part of grammar, or an\n",
      "audacious generalization of very restricted, very personal, very\n",
      "human--all-too-human facts. The philosophy of the dogmatists, it is to\n",
      "be hoped, was only a promise for thousands of years afterwards, as was\n",
      "astrology in still earlier times, in the service of which probably more\n",
      "labour, gold, acuteness, and patience have been spent than on any\n",
      "actual science hitherto: we owe to it, and to its \"super-terrestrial\"\n",
      "pretensions in Asia and Egypt, the grand style of architecture. It seems\n",
      "that in order to inscribe themselves upon the heart of humanity with\n",
      "everlasting claims, all great things have first to wander about the\n",
      "earth as enormous and awe-inspiring caricatures: dogmatic philosophy has\n",
      "been a caricature of this kind--for instance, the Vedanta doctrine in\n",
      "Asia, and Platonism in Europe. Let us not be ungrateful to it, although\n",
      "it must certainly be confessed that the worst, the most tiresome,\n",
      "and the most dangerous of errors hitherto has been a dogmatist\n",
      "error--namely, Plato's invention of Pure Spirit and the Good in Itself.\n",
      "But now when it has been surmounted, when Europe, rid of this nightmare,\n",
      "can again draw breath freely and at least enjoy a healthier--sleep,\n",
      "we, WHOSE DUTY IS WAKEFULNESS ITSELF, are the heirs of all the strength\n",
      "which the struggle against this error has fostered. It amounted to\n",
      "the very inversion of truth, and the denial of the PERSPECTIVE--the\n",
      "fundamental condition--of life, to speak of Spirit and the Good as Plato\n",
      "spoke of them; indeed one might ask, as a physician: \"How did such a\n",
      "malady attack that finest product of antiquity, Plato? Had the wicked\n",
      "Socrates really corrupted him? Was Socrates after all a corrupter of\n",
      "youths, and deserved his hemlock?\" But the struggle against Plato,\n",
      "or--to speak plainer, and for the \"people\"--the struggle against\n",
      "the ecclesiastical oppression of millenniums of Christianity (FOR\n",
      "CHRISTIANITY IS PLATONISM FOR THE \"PEOPLE\"), produced in Europe\n",
      "a magnificent tension of soul, such as had not existed anywhere\n",
      "previously; with such a tensely strained bow one can now aim at the\n",
      "furthest goals. As a matter of fact, the European feels this tension as\n",
      "a state of distress, and twice attempts have been made in grand style to\n",
      "unbend the bow: once by means of Jesuitism, and the second time by means\n",
      "of democratic enlightenment--which, with the aid of liberty of the press\n",
      "and newspaper-reading, might, in fact, bring it about that the spirit\n",
      "would not so easily find itself in \"distress\"! (The Germans invented\n",
      "gunpowder--all credit to them! but they again made things square--they\n",
      "invented printing.) But we, who are neither Jesuits, nor democrats,\n",
      "nor even sufficiently Germans, we GOOD EUROPEANS, and free, VERY free\n",
      "spirits--we have it still, all the distress of spirit and all the\n",
      "tension of its bow! And perhaps also the arrow, the duty, and, who\n",
      "knows? THE GOAL TO AIM AT....\n",
      "\n",
      "Sils Maria Upper Engadine, JUNE, 1885.\n",
      "\n",
      "\n",
      "\n",
      "\n",
      "CHAPTER I. PREJUDICES OF PHILOSOPHERS\n",
      "\n",
      "\n",
      "1. The Will to Truth, which is to tempt us to many a hazardous\n",
      "enterprise, the famous Truthfulness of which all philosophers have\n",
      "hitherto spoken with respect, what questions has this Will to Truth not\n",
      "laid before us! What strange, perplexing, questionable questions! It is\n",
      "already a long story; yet it seems as if it were hardly commenced. Is\n",
      "it any wonder if we at last grow distrustful, lose patience, and turn\n",
      "impatiently away? That this Sphinx teaches us at last to ask questions\n",
      "ourselves? WHO is it really that puts questions to us here? WHAT really\n",
      "is this \"Will to Truth\" in us? In fact we made a long halt at the\n",
      "question as to the origin of this Will--until at last we came to an\n",
      "absolute standstill before a yet more fundamental question. We inquired\n",
      "about the VALUE of this Will. Granted that we want the truth: WHY NOT\n",
      "RATHER untruth? And uncertainty? Even ignorance? The problem of the\n",
      "value of truth presented itself before us--or was it we who presented\n",
      "ourselves before the problem? Which of us is the Oedipus here? Which\n",
      "the Sphinx? It would seem to be a rendezvous of questions and notes of\n",
      "interrogation. And could it be believed that it at last seems to us as\n",
      "if the problem had never been propounded before, as if we were the first\n",
      "to discern it, get a sight of it, and RISK RAISING it? For there is risk\n",
      "in raising it, perhaps there is no greater risk.\n",
      "\n",
      "2. \"HOW COULD anything originate out of its opposite? For example, truth\n",
      "out of error? or the Will to Truth out of the will to deception? or the\n",
      "generous deed out of selfishness? or the pure sun-bright vision of the\n",
      "wise man out of covetousness? Such genesis is impossible; whoever dreams\n",
      "of it is a fool, nay, worse than a fool; things of the highest\n",
      "value must have a different origin, an origin of THEIR own--in this\n",
      "\n"
     ]
    }
   ],
   "source": [
    "with open('data/nietzsche.txt') as f:\n",
    "    text = f.read().lower()\n",
    "print ''.join(open('data/nietzsche.txt').readlines()[:100])"
   ]
  },
  {
   "cell_type": "code",
   "execution_count": 34,
   "metadata": {},
   "outputs": [
    {
     "name": "stdout",
     "output_type": "stream",
     "text": [
      "number of characters in corpus : 600901\n"
     ]
    }
   ],
   "source": [
    "# 1.产生训练用的corpus, 对其中每个字符进行one-hot\n",
    "max_len = 60\n",
    "step = 3  # 每隔3个字符产生一个新的sequence\n",
    "sentences = []\n",
    "next_chars = []\n",
    "print 'number of characters in corpus :',len(text) # 共600901个字符"
   ]
  },
  {
   "cell_type": "code",
   "execution_count": 35,
   "metadata": {},
   "outputs": [
    {
     "name": "stdout",
     "output_type": "stream",
     "text": [
      "extract  200281  sentences from corpus\n"
     ]
    }
   ],
   "source": [
    "# 划分x和y\n",
    "for i in range(0,len(text)-max_len,step): # 每隔3个字符产生一个新的sequence\n",
    "    sentences.append(text[i:i+max_len])\n",
    "    next_chars.append(text[i+max_len])\n",
    "print 'extract ',len(sentences),' sentences from corpus'"
   ]
  },
  {
   "cell_type": "code",
   "execution_count": 36,
   "metadata": {},
   "outputs": [
    {
     "name": "stdout",
     "output_type": "stream",
     "text": [
      "first 15 characters :  ['\\n', ' ', '!', '\"', \"'\", '(', ')', ',', '-', '.', '0', '1', '2', '3', '4']\n",
      "Unique characters :  59\n"
     ]
    }
   ],
   "source": [
    "# 用set集合找出文本中使用了那些字符: 包括字母, 标点, 换行符等\n",
    "individual_characters = set(text) \n",
    "# chars=[char1,char2 ...]\n",
    "chars = sorted(list(individual_characters))\n",
    "print 'first 15 characters : ',chars[:15]\n",
    "print 'Unique characters : ', len(chars)\n",
    "# char_idxs={char:index}\n",
    "char_idxs = dict((char,chars.index(char)) for char in chars)"
   ]
  },
  {
   "cell_type": "code",
   "execution_count": 37,
   "metadata": {
    "collapsed": true
   },
   "outputs": [],
   "source": [
    "# 对所有sentences进行one-hot编码\n",
    "x = np.zeros((len(sentences),max_len,len(chars)))\n",
    "y = np.zeros((len(sentences),len(chars)))\n",
    "for i,sentence in enumerate(sentences):\n",
    "    for j,char in enumerate(sentence):\n",
    "        x[i,j,char_idxs[char]] = 1\n",
    "    next_char = next_chars[i]\n",
    "    y[i,char_idxs[next_char]] = 1"
   ]
  },
  {
   "cell_type": "code",
   "execution_count": 40,
   "metadata": {},
   "outputs": [
    {
     "name": "stdout",
     "output_type": "stream",
     "text": [
      "Epoch 1/6\n",
      "200281/200281 [==============================] - 502s 3ms/step - loss: 2.2616\n",
      "Epoch 2/6\n",
      "200281/200281 [==============================] - 509s 3ms/step - loss: 1.8885\n",
      "Epoch 3/6\n",
      "200281/200281 [==============================] - 506s 3ms/step - loss: 1.7436\n",
      "Epoch 4/6\n",
      "200281/200281 [==============================] - 513s 3ms/step - loss: 1.6597\n",
      "Epoch 5/6\n",
      "200281/200281 [==============================] - 512s 3ms/step - loss: 1.6042\n",
      "Epoch 6/6\n",
      "200281/200281 [==============================] - 505s 3ms/step - loss: 1.5618\n"
     ]
    },
    {
     "data": {
      "text/plain": [
       "<keras.callbacks.History at 0x7f0229081bd0>"
      ]
     },
     "execution_count": 40,
     "metadata": {},
     "output_type": "execute_result"
    }
   ],
   "source": [
    "### 2.构建单层LSTM+softmax输出\n",
    "from keras import layers,models\n",
    "model = models.Sequential() \n",
    "model.add(layers.LSTM(128,input_shape=(max_len,len(chars))))\n",
    "model.add(layers.Dense(len(chars),activation='softmax'))\n",
    "\n",
    "model.compile(loss='categorical_crossentropy',optimizer='rmsprop')\n",
    "model.fit(x,y,epochs=6,batch_size=32)"
   ]
  },
  {
   "cell_type": "code",
   "execution_count": 31,
   "metadata": {},
   "outputs": [
    {
     "name": "stdout",
     "output_type": "stream",
     "text": [
      "1\n"
     ]
    }
   ],
   "source": [
    "### 3. 从输出的softmax概率中抽样出character\n",
    "def sample(distribute,temperature=1.0):\n",
    "    distribute = np.array(distribute,dtype='float64')\n",
    "    distribute = np.log(distribute) / temperature\n",
    "    exp_distribute = np.exp(distribute)\n",
    "    distribute = exp_distribute / np.sum(exp_distribute)\n",
    "    multinomial = np.random.multinomial(1,distribute,1)\n",
    "    return np.argmax(multinomial)\n",
    "\n",
    "print sample([0.1,0.5,0.4])"
   ]
  },
  {
   "cell_type": "code",
   "execution_count": 68,
   "metadata": {},
   "outputs": [
    {
     "name": "stdout",
     "output_type": "stream",
     "text": [
      "temperature: 0.2\n",
      "supposing that truth is a woman--what then? is the most personal that it is the most feelings of the actions of the present of the sense of the person which is the sense of the sense of the sense of the seet of the sense of the sense of such a man of the sense of a sense of the enemorious and such and the soul and the person it is the soul and the sign in the most feelings of the problement of the sense of a self-contradicty of the and some such \n",
      "-------------------------\n",
      "temperature: 0.5\n",
      "supposing that truth is a woman--what then? is the most personal that it is the most feelings of the actions of the present of the sense of the person which is the sense of the sense of the sense of the seet of the sense of the sense of such a man of the sense of a sense of the enemorious and such and the soul and the person it is the soul and the sign in the most feelings of the problement of the sense of a self-contradicty of the and some such a man most bene and as its art of such a absolutes which is the possible of the person to be self-gandingers and science be spiritual most sertion, and maniform to the have its fance the man of the orgent of the great morality of the pain for the single of the man for the sense of the out of the astention of the condition of the action is a some of conscience and stands and most by life and prowal\n",
      "-------------------------\n",
      "temperature: 1.0\n",
      "supposing that truth is a woman--what then? is the most personal that it is the most feelings of the actions of the present of the sense of the person which is the sense of the sense of the sense of the seet of the sense of the sense of such a man of the sense of a sense of the enemorious and such and the soul and the person it is the soul and the sign in the most feelings of the problement of the sense of a self-contradicty of the and some such a man most bene and as its art of such a absolutes which is the possible of the person to be self-gandingers and science be spiritual most sertion, and maniform to the have its fance the man of the orgent of the great morality of the pain for the single of the man for the sense of the out of the astention of the condition of the action is a some of conscience and stands and most by life and prowaltery, and and is badward,, with ondeverouven enchlence invol\"nts effatience, and the friedchred without sympatheatishess, who noter ab\n",
      "ta-redende, andmching notceousy and the bro firing which \"unall, and recistednes. veryar hatpoce, nature, under surkners it\n",
      "freedbying its evold as differes to onco bevery histenteries. leaws of all serte them still from from the godvater\n",
      "its momelous dessetn and i\n",
      "-------------------------\n",
      "temperature: 1.2\n",
      "supposing that truth is a woman--what then? is the most personal that it is the most feelings of the actions of the present of the sense of the person which is the sense of the sense of the sense of the seet of the sense of the sense of such a man of the sense of a sense of the enemorious and such and the soul and the person it is the soul and the sign in the most feelings of the problement of the sense of a self-contradicty of the and some such a man most bene and as its art of such a absolutes which is the possible of the person to be self-gandingers and science be spiritual most sertion, and maniform to the have its fance the man of the orgent of the great morality of the pain for the single of the man for the sense of the out of the astention of the condition of the action is a some of conscience and stands and most by life and prowaltery, and and is badward,, with ondeverouven enchlence invol\"nts effatience, and the friedchred without sympatheatishess, who noter ab\n",
      "ta-redende, andmching notceousy and the bro firing which \"unall, and recistednes. veryar hatpoce, nature, under surkners it\n",
      "freedbying its evold as differes to onco bevery histenteries. leaws of all serte them still from from the godvater\n",
      "its momelous dessetn and ieloctanting ippehsenalfued on saceppistion his agliperes to caplect, liken oftpeyses bo\n",
      "rimtyonfle agen un. bewanied we peess \n",
      "fas spirin the from ordived, mer\"ly\n",
      "and nobleb\"al, by mives of eternal\n",
      "before kind of beingcoud if through for\n",
      "ehrigadity all but of be schopehthy and maninged from\n",
      "och andyrard, who islef mysord wish purtudo mean of thes, by , why sin\n",
      "in that intoryam, eg , stowe differec\n",
      "-------------------------\n"
     ]
    }
   ],
   "source": [
    "### 4.产生400个字符的文章\n",
    "generated_text = text[10:max_len]  # 使用corpus中的语句产生第一个预测的字符序列\n",
    "sample_onehot = x[0,:,:]\n",
    "for temperature in [0.2,0.5,1.0,1.2]:\n",
    "    for i in range(400):\n",
    "        sampled = np.array([sample_onehot])\n",
    "        softmax_distribute = model.predict(sampled,verbose=0)[0]\n",
    "        next_index = sample(softmax_distribute,temperature)\n",
    "        next_char = chars[next_index]\n",
    "        generated_text += next_char\n",
    "        # 产生新的预测集\n",
    "        next_char_onehot = np.zeros((1,len(chars)))\n",
    "        next_char_onehot[0,next_index] = 1\n",
    "        sample_onehot = np.concatenate((sample_onehot[1:,:],next_char_onehot),axis=0)\n",
    "    print 'temperature:',temperature\n",
    "    print generated_text\n",
    "    print '-------------------------'\n"
   ]
  }
 ],
 "metadata": {
  "kernelspec": {
   "display_name": "Python 2",
   "language": "python",
   "name": "python2"
  },
  "language_info": {
   "codemirror_mode": {
    "name": "ipython",
    "version": 2
   },
   "file_extension": ".py",
   "mimetype": "text/x-python",
   "name": "python",
   "nbconvert_exporter": "python",
   "pygments_lexer": "ipython2",
   "version": "2.7.14"
  }
 },
 "nbformat": 4,
 "nbformat_minor": 2
}
