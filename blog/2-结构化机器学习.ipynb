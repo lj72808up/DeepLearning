{
 "cells": [
  {
   "cell_type": "markdown",
   "metadata": {},
   "source": [
    "# 结构化机器学习\n",
    "---------------\n",
    "#### 1. 确定系统的瓶颈在哪  \n",
    "( 1 ) 训练集拟合效果提升 : 更大的神经网络  \n",
    "( 2 ) 验证集拟合效果提升 :   \n",
    "( 3 ) 测试集拟合效果提升  \n",
    "( 4 ) 真实世界的表现\n",
    "#### 2. 选择单一数字评价指标   \n",
    "F1-score作为快速选择模型好坏的标准  \n",
    "#### 3. 除了一个优化目标外,还可以设立多个需要满足的条件  \n",
    "例如我们的目标是找到F1-score最高的模型, 但同时也要满足训练时间小于100s等条件"
   ]
  },
  {
   "cell_type": "code",
   "execution_count": null,
   "metadata": {
    "collapsed": true
   },
   "outputs": [],
   "source": []
  }
 ],
 "metadata": {
  "kernelspec": {
   "display_name": "Python 2",
   "language": "python",
   "name": "python2"
  },
  "language_info": {
   "codemirror_mode": {
    "name": "ipython",
    "version": 2
   },
   "file_extension": ".py",
   "mimetype": "text/x-python",
   "name": "python",
   "nbconvert_exporter": "python",
   "pygments_lexer": "ipython2",
   "version": "2.7.14"
  }
 },
 "nbformat": 4,
 "nbformat_minor": 2
}
