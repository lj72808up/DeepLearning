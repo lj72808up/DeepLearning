{
 "cells": [
  {
   "cell_type": "markdown",
   "metadata": {},
   "source": [
    "### 8.1.1 排行榜系统的出现\n",
    "\n",
    "#### 一. 为什么推荐系统中会出现排行榜\n",
    "1. 可以解决冷启动问题. 当新用户到来时, 可以把最近产品中, 比较热门的物品推荐给他  \n",
    "2. 排行榜中的物品, 可以作为老用户的兴趣发现, 来拓展老用户的兴趣\n",
    "3. 假如推荐系统出现故障, 可使用排行榜系统暂时作为替代避免推荐栏为空\n",
    "\n",
    "#### 二. 简单的排序算法为什么不可行\n",
    "简单实用排序算法在所有物品的某个属性上, 然后作为推荐结果给出. 这种方法并不可行, 原因有以下几点  \n",
    "1. 容易被攻击, 导致刷榜\n",
    "2. 马太效应一直存在. 就是热门物品可能会永远存在于榜单首位, 无法更新\n",
    "3. 榜单不能随时间变化 (这点和马太效应有关)\n",
    "\n",
    "\n",
    "接下来, 根据上面的3个弊端, 提出解决方案"
   ]
  },
  {
   "cell_type": "markdown",
   "metadata": {},
   "source": [
    "### 8.1.2 真实的排行榜系统\n",
    "\n",
    "#### 一. 考虑时间因素的排行榜\n",
    "1. 投票数+时间因素的排行榜  \n",
    " 这个方案假设每个物品都有各自的投票数, 加入时间因素后, 得分高的就在排行榜的前部分  \n",
    " $$\\frac { P-1 }{ { \\left( T+2 \\right)  }^{ G } } $$  \n",
    "   1. $P$ : 物品的得分数  \n",
    "   2. $T$ : 物品出现到现在的时间  \n",
    "   3. $G$ : 重力因子, $G$越大, 物品随时间增大, 热度消失的就越快\n",
    "   \n",
    "2. 牛顿冷却定律  \n",
    "$$T\\left( t \\right) =H+C{ e }^{ -\\alpha t }$$  \n",
    "  1. $H$ : 环境维度, 在推荐中可以是平均票数, 平均销量, 平均点击次数等, 不影响排序效果  \n",
    "  2. $C$ : 物品的净胜票数. 即物品的票数,销量,点击次数 \n",
    "  3. $\\alpha$ : 冷却系数. 人为控制冷却速度  \n",
    "  4. $t$ : 物品存在的时间, 一般以小时为单位"
   ]
  },
  {
   "cell_type": "markdown",
   "metadata": {},
   "source": [
    "3. 牛顿冷却定律中, 冷却系数$\\alpha$的确定  \n",
    " 如果我们想让物品经过A小时后, 只要投票数增加B个, 其热度就不变. 则有推导式 : $$\\left( C+B \\right) { e }^{ -\\alpha \\left( t+A \\right)  }=C{ e }^{ -\\alpha t }\\\\ \\quad \\quad \\quad \\quad \\quad \\quad \\quad \\quad \\alpha =\\frac { 1 }{ B } \\ln { \\left( 1+\\frac { A }{ C }  \\right)  } $$\n",
    " <img src='img/niudunlengque.png' width='50%' height='50%'>"
   ]
  },
  {
   "cell_type": "markdown",
   "metadata": {},
   "source": [
    "#### 二. 考虑物品反对票的排行榜  \n",
    "1. 前面的带时间因素的排行榜, 只有赞成票数, 没有反对票. 这个排行榜公式给出反对票存在的场景.  有如下特点  \n",
    "<img src='img/fanduipiaorank.png' width='50%' height='50%'>  \n",
    "  1. $Q_{viewers}$ : 物品浏览次数\n",
    "  2. $Q_{answers}$ : 回答次数\n",
    "  3. $Q_{score}$ : 物品得分 (赞成数-反对数)\n",
    "  4. $A_{{score}_i}$ : 物品第i个回答的得分\n",
    "  5. $Q_{age}$ : 物品存在的时间\n",
    "  6. $Q_{updatede}$ : 物品最后一次修改的时间"
   ]
  },
  {
   "cell_type": "markdown",
   "metadata": {},
   "source": [
    "#### 三. 考虑平均好评程度的排行榜\n",
    "1. 首先, 使用威尔逊区间估计物品的平均好评程度\n",
    "<img src='img/weierxun.png' width='45%' height='45%'>  \n",
    "  1. $\\hat { p } $ : 物品的好评率\n",
    "  2. ${ z }_{ 1-\\frac { \\alpha  }{ 2 }  }$ : 置信水平为$\\alpha$的统计量\n",
    "2. 得到物品的威尔逊区间后, 再利用UCB算法使用这个置信区间上界"
   ]
  }
 ],
 "metadata": {
  "kernelspec": {
   "display_name": "Python 3",
   "language": "python",
   "name": "python3"
  },
  "language_info": {
   "codemirror_mode": {
    "name": "ipython",
    "version": 3
   },
   "file_extension": ".py",
   "mimetype": "text/x-python",
   "name": "python",
   "nbconvert_exporter": "python",
   "pygments_lexer": "ipython3",
   "version": "3.6.5"
  }
 },
 "nbformat": 4,
 "nbformat_minor": 2
}
