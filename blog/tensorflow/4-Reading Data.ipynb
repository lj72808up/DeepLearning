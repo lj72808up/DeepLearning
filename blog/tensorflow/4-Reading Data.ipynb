{
 "cells": [
  {
   "cell_type": "markdown",
   "metadata": {},
   "source": [
    "#### Tensorflow读入数据的方式\n",
    "1. placeholder声明数据, session.run()的feed参数注入数据  \n",
    "2. 使用`QueueRunner`导入数据"
   ]
  },
  {
   "cell_type": "code",
   "execution_count": null,
   "metadata": {},
   "outputs": [],
   "source": [
    "with open(\"file0.csv\",'r') as f:\n",
    "    print('f0 content:\\n',f.read())\n",
    "with open(\"file1.csv\",'r') as f:\n",
    "    print('f1 content:\\n',f.read())"
   ]
  },
  {
   "cell_type": "markdown",
   "metadata": {},
   "source": [
    "### QueueRunner\n",
    "\n",
    "#### 一. 基于队列的数据读取步骤\n",
    "\n",
    "1. The list of filenames\n",
    "2. Optional filename shuffling\n",
    "3. Optional epoch limit\n",
    "4. Filename queue\n",
    "5. A Reader for the file format\n",
    "6. A decoder for a record read by the reader\n",
    "7. Optional preprocessing\n",
    "8. Example queue\n",
    "\n",
    "#### 二. queuerunner的标准形式\n",
    "\n",
    "```python\n",
    "  #  The list of filenames\n",
    "  filename_queue = tf.train.string_input_producer([filename], num_epochs=num_epochs)\n",
    "  # file reader\n",
    "  reader = tf.TFRecordReader()\n",
    "  # read row from file\n",
    "  _, serialized_example = reader.read(filename_queue)\n",
    "  # parse label and train set\n",
    "  image,label = decode(serialized_example)\n",
    "```"
   ]
  },
  {
   "cell_type": "code",
   "execution_count": 2,
   "metadata": {},
   "outputs": [
    {
     "name": "stdout",
     "output_type": "stream",
     "text": [
      "[b\"'aa'\" b\"'bb'\" b\"'cc'\" b\"'dd'\"]\n",
      "[b\"'aa2'\" b\"'bb2'\" b\"'cc2'\" b\"'dd2'\"]\n",
      "[b\"'aa'\" b\"'bb'\" b\"'cc'\" b\"'dd'\"]\n",
      "[b\"'aa2'\" b\"'bb2'\" b\"'cc2'\" b\"'dd2'\"]\n",
      "[b\"'aa'\" b\"'bb'\" b\"'cc'\" b\"'dd'\"]\n"
     ]
    }
   ],
   "source": [
    "import tensorflow as tf\n",
    "filename_queue = tf.train.string_input_producer([\"file0.csv\", \"file1.csv\"])\n",
    "\n",
    "reader = tf.TextLineReader()\n",
    "key, value = reader.read(filename_queue)\n",
    "\n",
    "# Default values, in case of empty columns. Also specifies the type of the\n",
    "# decoded result.\n",
    "record_defaults = [['1'], ['1'], ['1'], ['1'], ['1']]\n",
    "col1, col2, col3, col4, col5 = tf.decode_csv(value, record_defaults=record_defaults)\n",
    "features = tf.stack([col1, col2, col3, col4])\n",
    "\n",
    "with tf.Session() as sess:\n",
    "    # Start populating the filename queue.\n",
    "    coord = tf.train.Coordinator()\n",
    "    threads = tf.train.start_queue_runners(coord=coord)\n",
    "\n",
    "    for i in range(5): # 控制读取的条数, 查过文件总条数的数字会反复读取\n",
    "        # Retrieve a single instance:\n",
    "        example,label = sess.run([features, col5])\n",
    "        print(example)\n",
    "\n",
    "    coord.request_stop()\n",
    "    coord.join(threads)"
   ]
  }
 ],
 "metadata": {
  "kernelspec": {
   "display_name": "Python 3",
   "language": "python",
   "name": "python3"
  },
  "language_info": {
   "codemirror_mode": {
    "name": "ipython",
    "version": 3
   },
   "file_extension": ".py",
   "mimetype": "text/x-python",
   "name": "python",
   "nbconvert_exporter": "python",
   "pygments_lexer": "ipython3",
   "version": "3.6.5"
  }
 },
 "nbformat": 4,
 "nbformat_minor": 2
}
