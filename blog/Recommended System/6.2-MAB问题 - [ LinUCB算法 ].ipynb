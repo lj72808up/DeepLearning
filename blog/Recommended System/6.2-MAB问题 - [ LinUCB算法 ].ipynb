{
 "cells": [
  {
   "cell_type": "markdown",
   "metadata": {},
   "source": [
    "1. 推荐系统中, 每一个样本由用户特征, 物品特征, 上下文特征组成. 这些特征用来估计预期收益和收益的置信区间"
   ]
  },
  {
   "cell_type": "markdown",
   "metadata": {},
   "source": [
    "1. 基于web的场景, 物品经常会变, 物品的流行度也会变化. 大量的新用户也没有历史消费信息"
   ]
  }
 ],
 "metadata": {
  "kernelspec": {
   "display_name": "Python 3",
   "language": "python",
   "name": "python3"
  },
  "language_info": {
   "codemirror_mode": {
    "name": "ipython",
    "version": 3
   },
   "file_extension": ".py",
   "mimetype": "text/x-python",
   "name": "python",
   "nbconvert_exporter": "python",
   "pygments_lexer": "ipython3",
   "version": "3.6.5"
  }
 },
 "nbformat": 4,
 "nbformat_minor": 2
}
