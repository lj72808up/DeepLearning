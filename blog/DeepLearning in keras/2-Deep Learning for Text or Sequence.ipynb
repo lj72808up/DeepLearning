{
 "cells": [
  {
   "cell_type": "markdown",
   "metadata": {},
   "source": [
    "### 2.1 keras中的one-hot与word-embedding\n",
    "本节最后给出一个电影评论的的例子.   \n",
    "第四点中, 该例已经自动将评论句子转换为单词index的列表  \n",
    "第五点中, 介绍从最原始的文本数据,到转换成word index, 再使用预先训练好的词嵌入训练网络的全部过程\n",
    "\n",
    "#### 一. 文本处理\n",
    "1. 神经网络并不能像人类一样理解语言, 是模式识别在word上的应用\n",
    "2. 神经网络不能处理原始文本, 只能处理数值型tensor \n",
    "3. 文本处理的一般流程  \n",
    "  语句 -> tockens (word) -> word vector  \n",
    "  <img src=\"img/testdata1.png\" width=\"45%\" height=\"45%\"/>\n",
    "4. n-grams  \n",
    " n-grams是从语句中抽取出来的所有连续的n个单词  \n",
    "  eg: `The cat sat on the mat` 对应的`2-grams` :   \n",
    "  { \"The\",\"The\\quad cat\",\"cat\",\"cat\\quad sat\",\"sat\",\"sat\\quad on\",\"on\",\"on\\quad the\",\"the\",\"the\\quad mat\",\"mat\" \\right\\}   \n",
    "   对应的`3-grams` :  \n",
    "   {\"The\", \"The cat\", \"cat\", \"cat sat\", \"The cat sat\",\n",
    "\"sat\", \"sat on\", \"on\", \"cat sat on\", \"on the\", \"the\",\n",
    "\"sat on the\", \"the mat\", \"mat\", \"on the mat\"}"
   ]
  },
  {
   "cell_type": "markdown",
   "metadata": {},
   "source": [
    "#### 二. 单词或字符的one-hot编码\n",
    "1. 词典表  \n",
    " one-hot编码需要用到词典表DIctionary, 在keras中, 词典表需要学习而来. 通过统计语料库中所有语句中出现的单词, 并给单词赋予index来生成词典表.  \n",
    " 所以, keras的词典表形式为`{'word':index}`\n",
    "2. 对语句编码  \n",
    " `keras.preprocessing.text.Tokenizer`可以指定只对最常用的单词进行编码. "
   ]
  },
  {
   "cell_type": "code",
   "execution_count": 23,
   "metadata": {},
   "outputs": [
    {
     "name": "stdout",
     "output_type": "stream",
     "text": [
      "sequences:  [[1, 2, 3, 4, 1, 5], [1, 6, 7, 8, 9]]\n",
      "one_hot_results.shape =  (2, 1000)\n",
      "one_hot_results :\n",
      "[[0. 1. 1. 1. 1. 1. 0. 0. 0. 0. 0.]\n",
      " [0. 1. 0. 0. 0. 0. 1. 1. 1. 1. 0.]]\n",
      "dictionary :  {'on': 4, 'ate': 7, 'mat': 5, 'dog': 6, 'cat': 2, 'the': 1, 'my': 8, 'homework': 9, 'sat': 3}\n"
     ]
    }
   ],
   "source": [
    "import keras \n",
    "sentences = ['The cat sat on the mat.', 'The dog ate my homework.']\n",
    "# 1. 声明keras的tokenizer, 只对学习到的词典表前1000个单词编码\n",
    "tokenizer = keras.preprocessing.text.Tokenizer(num_words=1000)\n",
    "# 2. keras根据输入的语句库,生成词典, 词典中包括语料库中所有的单词, 并为每个单词编号\n",
    "tokenizer.fit_on_texts(sentences)\n",
    "\n",
    "sequences = tokenizer.texts_to_sequences(sentences)\n",
    "print 'sequences: ',sequences\n",
    "\n",
    "# 3. keras的one-hot编码\n",
    "one_hot_results = tokenizer.texts_to_matrix(sentences,mode='binary')\n",
    "print 'one_hot_results.shape = ',one_hot_results.shape\n",
    "print 'one_hot_results :\\n',one_hot_results[:,:11]\n",
    "\n",
    "# 4. keras学习到的词典表\n",
    "print 'dictionary : ',tokenizer.word_index"
   ]
  },
  {
   "cell_type": "markdown",
   "metadata": {},
   "source": [
    "#### 三. one-hot hash\n",
    "1. one-hot hash可以把单词通过计算hash值, 来确定单词所属的index.  \n",
    " 因此one-hot hash的词典表不用在语料库上学习.  所以, 也可将one-hot hash编码应用于在线学习\n",
    "2. 由于hash计算单词的index, 可能会导致不同的单词映射到同一个index, 此时, 后续算法无法感知到这两个单词的不同\n",
    "3. one-hot hash直接返回编码后的单词序号序列"
   ]
  },
  {
   "cell_type": "code",
   "execution_count": 28,
   "metadata": {},
   "outputs": [
    {
     "data": {
      "text/plain": [
       "[87, 75, 365, 85, 87, 886]"
      ]
     },
     "execution_count": 28,
     "metadata": {},
     "output_type": "execute_result"
    }
   ],
   "source": [
    "sentence1 = 'The cat sat on the mat.'\n",
    "# n : 指定散列空间维度\n",
    "keras.preprocessing.text.hashing_trick(sentence1,n=1000,lower=True)"
   ]
  },
  {
   "cell_type": "markdown",
   "metadata": {},
   "source": [
    "#### 四. word-embedding\n",
    "1. word-embedding是一个稠密单词向量. 对比one-hot产生的词向量是高纬度的,稀疏的, 二维编码(0/1)的  \n",
    " keras通过embedding层学习/处理词嵌入. Embedding的基本参数有3个  \n",
    "   1. input_dim : 词汇表大小\n",
    "   2. output_dim : 词向量维度\n",
    "   3. input_length : 句子中单词个数, 用于计算与Embedding层连接的Flatten层的尺寸\n",
    "1. Embedding层的作用  \n",
    " Embedding层词典的整数word index映射成稠密矩阵的层\n",
    "2. 输入 : 2D张量 (samples,sequences_length)  \n",
    " 因为要组成张量送给Embedding层, 所以要求语料库中语句长度一致. 短句要在结尾补0(0号index), 长句要截断结尾的单词\n",
    "3. 输出 : 3D张量 (samples,sequences_length,embedding_dimensionality)  \n",
    " 输出的3D张量, 可被RNN层/1D的卷基层处理\n",
    "4. Embedding词嵌入处理逻辑\n",
    " Embedding层对单词权重的初始化是随机的, 通过反向传播, 不断改进词嵌入矩阵以适应当前处理的问题.\n",
    "5. 以下例子, 数据集来自IMDB  \n",
    "  1. 我们首先使用Embedding层初始化词嵌入, 输出3D张量  \n",
    "  2. 然后将每个句子的2D词嵌入拉平成1D向量作为神经网络输入数据进行训练\n",
    "可以看到, 验证集上准确率达到76%, 实际上这个表现还可以, 因为我们只考虑了评论中前20个单词"
   ]
  },
  {
   "cell_type": "code",
   "execution_count": 15,
   "metadata": {},
   "outputs": [
    {
     "name": "stdout",
     "output_type": "stream",
     "text": [
      "_________________________________________________________________\n",
      "Layer (type)                 Output Shape              Param #   \n",
      "=================================================================\n",
      "embedding_1 (Embedding)      (None, 20, 8)             80000     \n",
      "_________________________________________________________________\n",
      "flatten_1 (Flatten)          (None, 160)               0         \n",
      "_________________________________________________________________\n",
      "dense_1 (Dense)              (None, 1)                 161       \n",
      "=================================================================\n",
      "Total params: 80,161\n",
      "Trainable params: 80,161\n",
      "Non-trainable params: 0\n",
      "_________________________________________________________________\n",
      "None\n",
      "Train on 20000 samples, validate on 5000 samples\n",
      "Epoch 1/10\n",
      "20000/20000 [==============================] - 4s 225us/step - loss: 0.6759 - acc: 0.6050 - val_loss: 0.6398 - val_acc: 0.6814\n",
      "Epoch 2/10\n",
      "20000/20000 [==============================] - 3s 135us/step - loss: 0.5657 - acc: 0.7427 - val_loss: 0.5467 - val_acc: 0.7206\n",
      "Epoch 3/10\n",
      "20000/20000 [==============================] - 2s 124us/step - loss: 0.4752 - acc: 0.7808 - val_loss: 0.5113 - val_acc: 0.7384\n",
      "Epoch 4/10\n",
      "20000/20000 [==============================] - 3s 139us/step - loss: 0.4263 - acc: 0.8077 - val_loss: 0.5008 - val_acc: 0.7452\n",
      "Epoch 5/10\n",
      "20000/20000 [==============================] - 3s 136us/step - loss: 0.3930 - acc: 0.8258 - val_loss: 0.4981 - val_acc: 0.7538\n",
      "Epoch 6/10\n",
      "20000/20000 [==============================] - 3s 135us/step - loss: 0.3668 - acc: 0.8395 - val_loss: 0.5014 - val_acc: 0.7530\n",
      "Epoch 7/10\n",
      "20000/20000 [==============================] - 3s 134us/step - loss: 0.3435 - acc: 0.8533 - val_loss: 0.5052 - val_acc: 0.7520\n",
      "Epoch 8/10\n",
      "20000/20000 [==============================] - 3s 126us/step - loss: 0.3223 - acc: 0.8657 - val_loss: 0.5132 - val_acc: 0.7486\n",
      "Epoch 9/10\n",
      "20000/20000 [==============================] - 3s 139us/step - loss: 0.3022 - acc: 0.8766 - val_loss: 0.5213 - val_acc: 0.7490\n",
      "Epoch 10/10\n",
      "20000/20000 [==============================] - 3s 134us/step - loss: 0.2839 - acc: 0.8860 - val_loss: 0.5303 - val_acc: 0.7466\n"
     ]
    }
   ],
   "source": [
    "##########################[  1. 裁剪评论为20个单词的语句  ]###############################\n",
    "from keras.datasets import imdb\n",
    "from keras import preprocessing\n",
    "\n",
    "# number of words consider as features\n",
    "max_features = 10000\n",
    "# sentence length\n",
    "maxlen = 20\n",
    "\n",
    "# 因为每个评论内容长度不同, 所以x_train的结构是一个长度25,000的向量, 向量中每个元素是不等长度的List[Int]\n",
    "(x_train,y_train),(x_test,y_test) = imdb.load_data(num_words=max_features)\n",
    "# 裁剪sentences, 全部长度20个单词\n",
    "x_train = preprocessing.sequence.pad_sequences(x_train,maxlen=maxlen)\n",
    "x_test = preprocessing.sequence.pad_sequences(x_test,maxlen=maxlen)\n",
    "\n",
    "###################################[  2. 构建网络  ]#######################################\n",
    "######### Embedding(words,dimension,word_number_in_sentences) -> Flatten -> Dense(sigmiod)#########\n",
    "from keras.models import Sequential\n",
    "from keras.layers import Flatten,Dense,Embedding\n",
    "\n",
    "model = Sequential()\n",
    "# 词嵌入矩阵, 10,000行8列. 每个句子被平铺成20*8的向量\n",
    "model.add(Embedding(10000,8,input_length=maxlen))\n",
    "# 平铺Embedding输出的3D矩阵为2D矩阵 (samples,maxlen*8)\n",
    "model.add(Flatten())\n",
    "# 二分类输出\n",
    "model.add(Dense(1,activation='sigmoid'))\n",
    "\n",
    "model.compile(optimizer='rmsprop',loss='binary_crossentropy',metrics=['acc'])\n",
    "print model.summary()\n",
    "history = model.fit(x_train,y_train,epochs=10,batch_size=32,validation_split=0.2)"
   ]
  },
  {
   "cell_type": "code",
   "execution_count": 19,
   "metadata": {},
   "outputs": [
    {
     "name": "stdout",
     "output_type": "stream",
     "text": [
      "[[  65   16   38 1334   88   12   16  283    5   16 4472  113  103   32\n",
      "    15   16 5345   19  178   32]\n",
      " [  23    4 1690   15   16    4 1355    5   28    6   52  154  462   33\n",
      "    89   78  285   16  145   95]\n",
      " [1352   13  191   79  638   89    2   14    9    8  106  607  624   35\n",
      "   534    6  227    7  129  113]\n",
      " [   7 2804    5    4  559  154  888    7  726   50   26   49 7008   15\n",
      "   566   30  579   21   64 2574]\n",
      " [  15  595   13  784   25 3171   18  165  170  143   19   14    5 7224\n",
      "     6  226  251    7   61  113]]\n"
     ]
    }
   ],
   "source": [
    "# 再次查看送给Embedding的数据为句子中每个词的编号\n",
    "print x_train[:5]"
   ]
  },
  {
   "cell_type": "markdown",
   "metadata": {},
   "source": [
    "#### 五. 使用预先训练好的word-embedding\n",
    "1. . 下载原始文本数据的imdb数据集 [http://mng.bz/0tIo](http://mng.bz/0tIo)\n",
    " 该例子介绍从最原始的文本数据开始训练文本分类  \n",
    " "
   ]
  },
  {
   "cell_type": "code",
   "execution_count": 97,
   "metadata": {},
   "outputs": [],
   "source": [
    "# 1. 准备imdb原始文本数据的标签\n",
    "import os\n",
    "\n",
    "imdb_dir = '/home/lj/data/Deelearning_with_python/aclImdb'\n",
    "train_dir = os.path.join(imdb_dir,'train')\n",
    "\n",
    "labels = []\n",
    "texts = []\n",
    "\n",
    "for label_type in ['neg','pos']:\n",
    "    dir_name = os.path.join(train_dir,label_type)\n",
    "    for fname in os.listdir(dir_name):\n",
    "        if fname[-4:] == '.txt':\n",
    "            with open(os.path.join(dir_name,fname),'r') as f:\n",
    "                texts.append(f.read())\n",
    "            if label_type == 'neg':\n",
    "                labels.append(0)\n",
    "            else:\n",
    "                labels.append(1)"
   ]
  },
  {
   "cell_type": "code",
   "execution_count": 98,
   "metadata": {},
   "outputs": [
    {
     "name": "stdout",
     "output_type": "stream",
     "text": [
      "found 88584 unique tokens\n",
      "[('fawn', 38366), ('tsukino', 82839), ('nunnery', 59104)]\n"
     ]
    }
   ],
   "source": [
    "from keras.preprocessing.text import Tokenizer\n",
    "from keras.preprocessing.sequence import pad_sequences\n",
    "import numpy as np\n",
    "\n",
    "maxlen=100                          # sentence长度\n",
    "train_samples = 200              # 训练集语句数\n",
    "validation_samples = 10000  # 验证集10000个\n",
    "max_words = 10000              # 只考虑词典前10000号的单词\n",
    "\n",
    "tokenizer = Tokenizer(num_words=max_words)\n",
    "tokenizer.fit_on_texts(texts)   \n",
    "sequences = tokenizer.texts_to_sequences(texts)# 将句子分成词后,找到词对应的index\n",
    "\n",
    "# word_index 是一个dict, 结构为{word name : index number}\n",
    "word_index = tokenizer.word_index  \n",
    "print 'found %s unique tokens' % len(word_index)\n",
    "print word_index.items()[:3]  # word_index前3个kv"
   ]
  },
  {
   "cell_type": "code",
   "execution_count": 99,
   "metadata": {},
   "outputs": [
    {
     "name": "stdout",
     "output_type": "stream",
     "text": [
      "shape of data tensor:  (25000, 100)\n",
      "shape of label tensor:  (25000,)\n"
     ]
    }
   ],
   "source": [
    "# 切分句子为等长的, 组成2d-tensor\n",
    "data = pad_sequences(sequences,maxlen=maxlen)\n",
    "labels = np.array(labels)\n",
    "print 'shape of data tensor: ', data.shape\n",
    "print 'shape of label tensor: ',labels.shape"
   ]
  },
  {
   "cell_type": "code",
   "execution_count": 100,
   "metadata": {},
   "outputs": [
    {
     "data": {
      "text/plain": [
       "25000"
      ]
     },
     "execution_count": 100,
     "metadata": {},
     "output_type": "execute_result"
    }
   ],
   "source": [
    "len(texts)"
   ]
  },
  {
   "cell_type": "code",
   "execution_count": 101,
   "metadata": {},
   "outputs": [
    {
     "data": {
      "text/plain": [
       "array([ 142,   96,  187,   33,  869,    5,   25,    3,  598,    2, 2888,\n",
       "         21,   63,   28, 3136,   21,   57,   28, 3136,    2,  104,   18,\n",
       "         61,  286,    2,    3, 7437,   12, 1287,  237,    3,  909, 1093,\n",
       "       4840,  170,   13, 1147,   30,    1,  127, 9530, 2471,   93,   96,\n",
       "         73,   93,   96,    2,   93,   96, 3701,    5,   27,  280,   56,\n",
       "        211, 8246, 1001,    3, 1460, 4504,   12,   13,    3, 1678,  586,\n",
       "          4, 1742,  483,  266,    5, 8435,    1,  169,  959,   36,    1,\n",
       "         83,   28,   12,   40,  158,  154,    9,   13,   96,   73,  117,\n",
       "          1,  347,    2,   21,   96,  160,   10,  162,  418,  803,   41,\n",
       "       9530], dtype=int32)"
      ]
     },
     "execution_count": 101,
     "metadata": {},
     "output_type": "execute_result"
    }
   ],
   "source": [
    "# shuffle data : 因为初始数据是有序的, 正例和负例分开放在不同文件夹下\n",
    "indices = np.arange(data.shape[0])\n",
    "np.random.shuffle(indices)\n",
    "data = data[indices]\n",
    "labels = labels[indices]\n",
    "\n",
    "# 划分训练集,测试集\n",
    "x_train = data[:train_samples,:]\n",
    "y_train = labels[:train_samples]\n",
    "x_val = data[train_samples:train_samples+validation_samples,:]\n",
    "y_val = labels[train_samples:train_samples+validation_samples]\n",
    "\n",
    "x_train[1]"
   ]
  },
  {
   "cell_type": "code",
   "execution_count": 102,
   "metadata": {},
   "outputs": [
    {
     "name": "stdout",
     "output_type": "stream",
     "text": [
      "the -0.038194 -0.24487 0.72812 -0.39961 0.083172 0.043953 -0.39141 0.3344 -0.57545 0.087459 0.28787 -0.06731 0.30906 -0.26384 -0.13231 -0.20757 0.33395 -0.33848 -0.31743 -0.48336 0.1464 -0.37304 0.34577 0.052041 0.44946 -0.46971 0.02628 -0.54155 -0.15518 -0.14107 -0.039722 0.28277 0.14393 0.23464 -0.31021 0.086173 0.20397 0.52624 0.17164 -0.082378 -0.71787 -0.41531 0.20335 -0.12763 0.41367 0.55187 0.57908 -0.33477 -0.36559 -0.54857 -0.062892 0.26584 0.30205 0.99775 -0.80481 -3.0243 0.01254 -0.36942 2.2167 0.72201 -0.24978 0.92136 0.034514 0.46745 1.1079 -0.19358 -0.074575 0.23353 -0.052062 -0.22044 0.057162 -0.15806 -0.30798 -0.41625 0.37972 0.15006 -0.53212 -0.2055 -1.2526 0.071624 0.70565 0.49744 -0.42063 0.26148 -1.538 -0.30223 -0.073438 -0.28312 0.37104 -0.25217 0.016215 -0.017099 -0.38984 0.87424 -0.72569 -0.51058 -0.52028 -0.1459 0.8278 0.27062\n",
      "\n",
      "found 400000 word vectors\n"
     ]
    }
   ],
   "source": [
    "# 解析下载的glove word embedding文件\n",
    "glove_dir= '/home/lj/data/word_embedding/glove.6B'\n",
    "embedding_index = {}\n",
    "\n",
    "# 先来看一下下载的embedding文件结构\n",
    "tmp = open(os.path.join(glove_dir,'glove.6B.100d.txt'),'r') \n",
    "print tmp.readline()\n",
    "tmp.close()\n",
    "\n",
    "# 正式处理word embedding文件, 生成{word name : embedding vector}结构\n",
    "with open(os.path.join(glove_dir,'glove.6B.100d.txt'),'r') as f :\n",
    "    for line in f : \n",
    "        # embedding文件每行, 第一个为单词名, 后面的是单词词向量系数\n",
    "        values = line.split()\n",
    "        word = values[0]\n",
    "        coefs = np.array(values[1:],dtype='float32')\n",
    "        embedding_index[word] = coefs\n",
    "print 'found %s word vectors' % len(embedding_index)"
   ]
  },
  {
   "cell_type": "code",
   "execution_count": 103,
   "metadata": {},
   "outputs": [
    {
     "data": {
      "text/plain": [
       "array([[-0.038194  , -0.24487001,  0.72812003, -0.39961001,  0.083172  ,\n",
       "         0.043953  , -0.39140999,  0.3344    , -0.57545   ,  0.087459  ,\n",
       "         0.28786999, -0.06731   ,  0.30906001, -0.26383999, -0.13231   ,\n",
       "        -0.20757   ,  0.33395001, -0.33848   , -0.31742999, -0.48335999,\n",
       "         0.1464    , -0.37303999,  0.34577   ,  0.052041  ,  0.44946   ,\n",
       "        -0.46970999,  0.02628   , -0.54154998, -0.15518001, -0.14106999,\n",
       "        -0.039722  ,  0.28277001,  0.14393   ,  0.23464   , -0.31020999,\n",
       "         0.086173  ,  0.20397   ,  0.52623999,  0.17163999, -0.082378  ,\n",
       "        -0.71787   , -0.41531   ,  0.20334999, -0.12763   ,  0.41367   ,\n",
       "         0.55186999,  0.57907999, -0.33476999, -0.36559001, -0.54856998,\n",
       "        -0.062892  ,  0.26583999,  0.30204999,  0.99774998, -0.80480999,\n",
       "        -3.0243001 ,  0.01254   , -0.36941999,  2.21670008,  0.72201002,\n",
       "        -0.24978   ,  0.92136002,  0.034514  ,  0.46744999,  1.10790002,\n",
       "        -0.19358   , -0.074575  ,  0.23353   , -0.052062  , -0.22044   ,\n",
       "         0.057162  , -0.15806   , -0.30798   , -0.41624999,  0.37972   ,\n",
       "         0.15006   , -0.53211999, -0.20550001, -1.25259995,  0.071624  ,\n",
       "         0.70564997,  0.49744001, -0.42063001,  0.26148   , -1.53799999,\n",
       "        -0.30223   , -0.073438  , -0.28312001,  0.37103999, -0.25217   ,\n",
       "         0.016215  , -0.017099  , -0.38984001,  0.87423998, -0.72569001,\n",
       "        -0.51058   , -0.52028   , -0.1459    ,  0.82779998,  0.27061999]])"
      ]
     },
     "execution_count": 103,
     "metadata": {},
     "output_type": "execute_result"
    }
   ],
   "source": [
    "# 准备GloVe词嵌入矩阵\n",
    "# embedding文件中单词出现的序号, 就是单词在词典中的index\n",
    "embedding_dim = 100\n",
    "embedding_matrix = np.zeros((max_words,embedding_dim))\n",
    "for word,i in word_index.items():\n",
    "    if i < max_words : \n",
    "        embedding_vactor = embedding_index.get(word)\n",
    "        if embedding_vactor is not None : \n",
    "            embedding_matrix[i] = embedding_vactor\n",
    "\n",
    "# 词嵌入矩阵的0号不能记录实际存在的词, 0号只是占位符\n",
    "embedding_matrix[1:2]"
   ]
  },
  {
   "cell_type": "code",
   "execution_count": 104,
   "metadata": {},
   "outputs": [
    {
     "name": "stdout",
     "output_type": "stream",
     "text": [
      "_________________________________________________________________\n",
      "Layer (type)                 Output Shape              Param #   \n",
      "=================================================================\n",
      "embedding_6 (Embedding)      (None, 100, 100)          1000000   \n",
      "_________________________________________________________________\n",
      "flatten_5 (Flatten)          (None, 10000)             0         \n",
      "_________________________________________________________________\n",
      "dense_8 (Dense)              (None, 32)                320032    \n",
      "_________________________________________________________________\n",
      "dense_9 (Dense)              (None, 1)                 33        \n",
      "=================================================================\n",
      "Total params: 1,320,065\n",
      "Trainable params: 1,320,065\n",
      "Non-trainable params: 0\n",
      "_________________________________________________________________\n"
     ]
    }
   ],
   "source": [
    "# 构建神经网络\n",
    "from keras.models import Sequential\n",
    "from keras.layers import Embedding,Flatten,Dense\n",
    "\n",
    "model = Sequential()\n",
    "model.add(Embedding(max_words,embedding_dim,input_length=maxlen))\n",
    "model.add(Flatten())\n",
    "model.add(Dense(32,activation='relu'))\n",
    "model.add(Dense(1,activation='sigmoid'))\n",
    "model.summary()"
   ]
  },
  {
   "cell_type": "code",
   "execution_count": 105,
   "metadata": {},
   "outputs": [
    {
     "name": "stdout",
     "output_type": "stream",
     "text": [
      "(10000, 100)\n"
     ]
    }
   ],
   "source": [
    "# 加载GloVe词嵌入到神经网络中\n",
    "#   Embedding层u偶一个统一的系数矩阵 : 2D张量, 每行为词的词嵌入系数\n",
    "print embedding_matrix.shape\n",
    "model.set_weights([embedding_matrix])\n",
    "model.layers[0].trainable = False  # 冻结Embedding层"
   ]
  },
  {
   "cell_type": "code",
   "execution_count": 106,
   "metadata": {},
   "outputs": [
    {
     "name": "stdout",
     "output_type": "stream",
     "text": [
      "Train on 200 samples, validate on 10000 samples\n",
      "Epoch 1/10\n",
      "200/200 [==============================] - 1s 4ms/step - loss: 1.7660 - acc: 0.5150 - val_loss: 0.7548 - val_acc: 0.4947\n",
      "Epoch 2/10\n",
      "200/200 [==============================] - 1s 3ms/step - loss: 0.6055 - acc: 0.6000 - val_loss: 0.9504 - val_acc: 0.4947\n",
      "Epoch 3/10\n",
      "200/200 [==============================] - 0s 2ms/step - loss: 0.5923 - acc: 0.6500 - val_loss: 0.7046 - val_acc: 0.4956\n",
      "Epoch 4/10\n",
      "200/200 [==============================] - 0s 2ms/step - loss: 0.5619 - acc: 0.6700 - val_loss: 0.7101 - val_acc: 0.4985\n",
      "Epoch 5/10\n",
      "200/200 [==============================] - 0s 2ms/step - loss: 0.4702 - acc: 0.7050 - val_loss: 0.9428 - val_acc: 0.4947\n",
      "Epoch 6/10\n",
      "200/200 [==============================] - 0s 2ms/step - loss: 0.4394 - acc: 0.7700 - val_loss: 0.7555 - val_acc: 0.4961\n",
      "Epoch 7/10\n",
      "200/200 [==============================] - 0s 2ms/step - loss: 0.3931 - acc: 0.7550 - val_loss: 0.9180 - val_acc: 0.4948\n",
      "Epoch 8/10\n",
      "200/200 [==============================] - 0s 2ms/step - loss: 0.4183 - acc: 0.7900 - val_loss: 0.6849 - val_acc: 0.5536\n",
      "Epoch 9/10\n",
      "200/200 [==============================] - 0s 2ms/step - loss: 0.3604 - acc: 0.9300 - val_loss: 1.2683 - val_acc: 0.5063\n",
      "Epoch 10/10\n",
      "200/200 [==============================] - 0s 2ms/step - loss: 0.3982 - acc: 0.7900 - val_loss: 0.8434 - val_acc: 0.5401\n"
     ]
    }
   ],
   "source": [
    "# 编译网络\n",
    "model.compile(optimizer='rmsprop',loss='binary_crossentropy',metrics=['acc'])\n",
    "history = model.fit(x_train,y_train,epochs=10,batch_size=32,validation_data=(x_val,y_val))\n",
    "model.save_weights('pre_trained_glove_model.h5')"
   ]
  },
  {
   "cell_type": "code",
   "execution_count": 107,
   "metadata": {},
   "outputs": [
    {
     "data": {
      "text/plain": [
       "<matplotlib.axes._subplots.AxesSubplot at 0x7f923b894210>"
      ]
     },
     "execution_count": 107,
     "metadata": {},
     "output_type": "execute_result"
    },
    {
     "data": {
      "image/png": "[encoded data removed]",
      "text/plain": [
       "<matplotlib.figure.Figure at 0x7f92303a4b10>"
      ]
     },
     "metadata": {},
     "output_type": "display_data"
    }
   ],
   "source": [
    "%matplotlib inline\n",
    "import matplotlib.pyplot as plt\n",
    "import pandas as pd\n",
    "import seaborn as sns\n",
    "acc = history.history['acc']\n",
    "val_acc = history.history['val_acc']\n",
    "loss = history.history['loss']\n",
    "val_loss = history.history['val_loss']\n",
    "f,axes = plt.subplots(2,1)\n",
    "pd.DataFrame({\"loss\":loss,'val_loss':val_loss}).plot(style='8-',ax=axes[0])\n",
    "pd.DataFrame({\"acc\":acc,'val_acc':val_acc}).plot(style='8-',ax=axes[1])"
   ]
  },
  {
   "cell_type": "markdown",
   "metadata": {},
   "source": [
    "[注] : \n",
    "- 观察发现, 模型很快过拟合. 这也不奇怪, 因为我们只用了很少的语句进行训练, 却用了很多语句进行验证. 因此网络的表现, 只取决于最先随机选择的200个训练样本.而且上面的例子, 我们加载了下载的词嵌入矩阵.   \n",
    "- 在训练样本足够多的情况下, 可以自行学习词嵌入矩阵, 此时得到的是解决特定问题的词嵌入矩阵. 作为练习, 我们不加载词嵌入矩阵看看表现  \n",
    " 会发现不如加载词嵌入矩阵时的表现, 说明别人训练好的词嵌入矩阵还是很有用的, 当然, 改变训练集的大小, 情况会有所不同"
   ]
  },
  {
   "cell_type": "code",
   "execution_count": 108,
   "metadata": {},
   "outputs": [
    {
     "name": "stdout",
     "output_type": "stream",
     "text": [
      "_________________________________________________________________\n",
      "Layer (type)                 Output Shape              Param #   \n",
      "=================================================================\n",
      "embedding_7 (Embedding)      (None, 100, 100)          1000000   \n",
      "_________________________________________________________________\n",
      "flatten_6 (Flatten)          (None, 10000)             0         \n",
      "_________________________________________________________________\n",
      "dense_10 (Dense)             (None, 32)                320032    \n",
      "_________________________________________________________________\n",
      "dense_11 (Dense)             (None, 1)                 33        \n",
      "=================================================================\n",
      "Total params: 1,320,065\n",
      "Trainable params: 1,320,065\n",
      "Non-trainable params: 0\n",
      "_________________________________________________________________\n",
      "None\n",
      "Train on 200 samples, validate on 10000 samples\n",
      "Epoch 1/10\n",
      "200/200 [==============================] - 1s 5ms/step - loss: 0.6956 - acc: 0.5000 - val_loss: 0.6922 - val_acc: 0.5172\n",
      "Epoch 2/10\n",
      "200/200 [==============================] - 1s 3ms/step - loss: 0.4808 - acc: 1.0000 - val_loss: 0.6945 - val_acc: 0.5185\n",
      "Epoch 3/10\n",
      "200/200 [==============================] - 1s 3ms/step - loss: 0.2413 - acc: 1.0000 - val_loss: 0.7033 - val_acc: 0.5157\n",
      "Epoch 4/10\n",
      "200/200 [==============================] - 0s 2ms/step - loss: 0.0976 - acc: 1.0000 - val_loss: 0.7026 - val_acc: 0.5224\n",
      "Epoch 5/10\n",
      "200/200 [==============================] - 0s 2ms/step - loss: 0.0451 - acc: 1.0000 - val_loss: 0.7103 - val_acc: 0.5253\n",
      "Epoch 6/10\n",
      "200/200 [==============================] - 1s 3ms/step - loss: 0.0229 - acc: 1.0000 - val_loss: 0.7114 - val_acc: 0.5265\n",
      "Epoch 7/10\n",
      "200/200 [==============================] - 0s 2ms/step - loss: 0.0128 - acc: 1.0000 - val_loss: 0.7173 - val_acc: 0.5283\n",
      "Epoch 8/10\n",
      "200/200 [==============================] - 0s 2ms/step - loss: 0.0075 - acc: 1.0000 - val_loss: 0.7277 - val_acc: 0.5245\n",
      "Epoch 9/10\n",
      "200/200 [==============================] - 0s 2ms/step - loss: 0.0046 - acc: 1.0000 - val_loss: 0.7319 - val_acc: 0.5282\n",
      "Epoch 10/10\n",
      "200/200 [==============================] - 1s 3ms/step - loss: 0.0028 - acc: 1.0000 - val_loss: 0.7370 - val_acc: 0.5301\n"
     ]
    },
    {
     "data": {
      "text/plain": [
       "<matplotlib.axes._subplots.AxesSubplot at 0x7f923b4f82d0>"
      ]
     },
     "execution_count": 108,
     "metadata": {},
     "output_type": "execute_result"
    },
    {
     "data": {
      "image/png": "[encoded data removed]",
      "text/plain": [
       "<matplotlib.figure.Figure at 0x7f923b7ca5d0>"
      ]
     },
     "metadata": {},
     "output_type": "display_data"
    }
   ],
   "source": [
    "model2 = Sequential()\n",
    "model2.add(Embedding(max_words,embedding_dim,input_length=maxlen))\n",
    "model2.add(Flatten())\n",
    "model2.add(Dense(32,activation='relu'))\n",
    "model2.add(Dense(1,activation='sigmoid'))\n",
    "print model2.summary()\n",
    "\n",
    "model2.compile(optimizer='rmsprop',loss='binary_crossentropy',metrics=['acc'])\n",
    "history2 = model2.fit(x_train,y_train,epochs=10,batch_size=32,validation_data=(x_val,y_val))\n",
    "\n",
    "acc = history2.history['acc']\n",
    "val_acc = history2.history['val_acc']\n",
    "loss = history2.history['loss']\n",
    "val_loss = history2.history['val_loss']\n",
    "f,axes = plt.subplots(2,1)\n",
    "pd.DataFrame({\"loss\":loss,'val_loss':val_loss}).plot(style='8-',ax=axes[0])\n",
    "pd.DataFrame({\"acc\":acc,'val_acc':val_acc}).plot(style='8-',ax=axes[1])"
   ]
  },
  {
   "cell_type": "markdown",
   "metadata": {},
   "source": [
    "最后, 来看看模型在测试集上的表现"
   ]
  },
  {
   "cell_type": "code",
   "execution_count": 112,
   "metadata": {},
   "outputs": [
    {
     "name": "stdout",
     "output_type": "stream",
     "text": [
      "25000/25000 [==============================] - 1s 48us/step\n"
     ]
    },
    {
     "data": {
      "text/plain": [
       "[0.8399702775764465, 0.53832]"
      ]
     },
     "execution_count": 112,
     "metadata": {},
     "output_type": "execute_result"
    }
   ],
   "source": [
    "# 在测试集上分词\n",
    "test_dir = os.path.join(imdb_dir,'test')\n",
    "labels = []\n",
    "texts = []\n",
    "for label_type in ['neg','pos']:\n",
    "    dir_name = os.path.join(train_dir,label_type)\n",
    "    for fname in os.listdir(dir_name):\n",
    "        if fname[-4:] == '.txt':\n",
    "            with open(os.path.join(dir_name,fname),'r') as f:\n",
    "                texts.append(f.read())\n",
    "            if label_type == 'neg':\n",
    "                labels.append(0)\n",
    "            else:\n",
    "                labels.append(1)\n",
    "                \n",
    "sequences = tokenizer.texts_to_sequences(texts)\n",
    "\n",
    "x_test = pad_sequences(sequences,maxlen=maxlen)\n",
    "y_test = np.array(labels)\n",
    "\n",
    "model.load_weights('pre_trained_glove_model.h5')\n",
    "model.evaluate(x_test,y_test)"
   ]
  }
 ],
 "metadata": {
  "kernelspec": {
   "display_name": "Python 2",
   "language": "python",
   "name": "python2"
  },
  "language_info": {
   "codemirror_mode": {
    "name": "ipython",
    "version": 2
   },
   "file_extension": ".py",
   "mimetype": "text/x-python",
   "name": "python",
   "nbconvert_exporter": "python",
   "pygments_lexer": "ipython2",
   "version": "2.7.14"
  }
 },
 "nbformat": 4,
 "nbformat_minor": 2
}
