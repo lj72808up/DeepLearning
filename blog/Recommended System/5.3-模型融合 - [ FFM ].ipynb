{
 "cells": [
  {
   "cell_type": "markdown",
   "metadata": {},
   "source": [
    "### 5.2.2 FMM模型 - Filed-aware factorization machines"
   ]
  },
  {
   "cell_type": "markdown",
   "metadata": {},
   "source": [
    "#### 一. FMM模型总览\n",
    "1. FMM模型有效用于CTR预估(Click-through rate)\n",
    "2. FFM比FM在各种指标都有提升, 该算法屡次赢得世界范围的CTR预估大赛得奖\n",
    "\n",
    "#### 二. 回顾FM模型为什么在稀疏矩阵上也很有效的进行CTR\n",
    "1. 假设数据对$(ESPN, Adidas)$的正例很多, 负例只有一个. 此时传统思路的逻辑回归由于福利样本不足而无法学习到足够合适的权重. 但是FM算法中, 因为$(ESPN, Adidas)$的预测结果, 其二阶参数由$w_{ESPN}*w_{Adidas}$决定, 这两个参数可以由诸如 $(ESPN, Nike)$, $(NBC, Adidas)$的训练数据获得\n",
    "2. FFM在FM的基础上, 任务属性对应的隐因子向量不应该是1个, 而是$f$个. $f$=属性类别个数.  \n",
    " 因为做线性回归时, 特征往往需要进行独热编码, 独热编码之前的属性个数, 就是属性的种类$f$. 为了计算出$f$个隐因子向量, 其估计值为"
   ]
  },
  {
   "cell_type": "markdown",
   "metadata": {},
   "source": [
    "[Tensorflow实现FFM](https://cloud.tencent.com/developer/article/1096536)   \n",
    "[FFM paper](https://www.csie.ntu.edu.tw/~cjlin/papers/ffm.pdf)"
   ]
  },
  {
   "cell_type": "markdown",
   "metadata": {},
   "source": []
  }
 ],
 "metadata": {
  "kernelspec": {
   "display_name": "Python 3",
   "language": "python",
   "name": "python3"
  },
  "language_info": {
   "codemirror_mode": {
    "name": "ipython",
    "version": 3
   },
   "file_extension": ".py",
   "mimetype": "text/x-python",
   "name": "python",
   "nbconvert_exporter": "python",
   "pygments_lexer": "ipython3",
   "version": "3.6.5"
  }
 },
 "nbformat": 4,
 "nbformat_minor": 2
}
