{
 "cells": [
  {
   "cell_type": "markdown",
   "metadata": {},
   "source": [
    "1. 使用很少的几次评断, 就能确定非凸函数$f(x)$的最小值\n",
    "2. 两个函数   \n",
    "  1. `assumption function`: 假设被优化的函数服从高斯过程(先验)\n",
    "  2. `acquisition function`: 定义获得函数, 已决定下一次迭代选取的点  \n",
    "\n",
    "3. `acquisition function` \n",
    "  1. 奖励函数: $a:x\\rightarrow { R }^{ + }$, 下次尝试的值${ x }_{ next }={ argmax }_{ x }a(x)$  \n",
    "  2. 奖励函数的3个可选:   \n",
    "    1. 提升概率  \n",
    "    2. 提升效果  \n",
    "    3. 提升的置信区间上界  \n",
    "\n",
    "<img src='img/beyesoptimazation.png' width=\"75%\" height=\"75%\">"
   ]
  },
  {
   "cell_type": "code",
   "execution_count": null,
   "metadata": {},
   "outputs": [],
   "source": []
  }
 ],
 "metadata": {
  "kernelspec": {
   "display_name": "Python 3",
   "language": "python",
   "name": "python3"
  },
  "language_info": {
   "codemirror_mode": {
    "name": "ipython",
    "version": 3
   },
   "file_extension": ".py",
   "mimetype": "text/x-python",
   "name": "python",
   "nbconvert_exporter": "python",
   "pygments_lexer": "ipython3",
   "version": "3.6.5"
  }
 },
 "nbformat": 4,
 "nbformat_minor": 2
}
