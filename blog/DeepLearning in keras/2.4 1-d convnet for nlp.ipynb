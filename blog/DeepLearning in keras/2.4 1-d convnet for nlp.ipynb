{
 "cells": [
  {
   "cell_type": "markdown",
   "metadata": {},
   "source": [
    "# 2.4.1 理解CNN\n",
    "\n",
    "#### 一. 什么是CNN\n",
    "1. 简单来说, CNN就是在矩阵上进行的滑动窗口方法\n",
    "<img src='img/Convolution_schematic.gif' height='40%' width='40%'>\n",
    "2. 卷积运算为什能执行边缘检测  \n",
    "[http://colah.github.io/posts/2014-07-Understanding-Convolutions/](http://colah.github.io/posts/2014-07-Understanding-Convolutions/) \n",
    "\n",
    "#### 二. Conv1D\n",
    "[http://www.wildml.com/2015/11/understanding-convolutional-neural-networks-for-nlp/](http://www.wildml.com/2015/11/understanding-convolutional-neural-networks-for-nlp/)\n",
    "\n",
    "#### 三. keras中的1d-CNN\n",
    "1. keras中, 使用`Conv1D`层  \n",
    " Conv1D定义为(filters, kernel_size)\n",
    " 输入 : 3D张量 (samples, time_step, features)  \n",
    " 输出 : 同样结构的3D张量 (samples, newstep, new_features)   \n",
    " 其中, newstep = time_step-kernel_size+1, new_features=filters\n",
    " `Conv1D(filters, kernel_size)` \n",
    "2. CNN卷积核的大小\n",
    "  1. CNN卷积核的大小为$step\\_num * feature\\_num$, 其中$step\\_num$对应时间步维度, 也叫作CNN窗口    \n",
    "  2. CNN卷积核上, 同一行的所有位置的数字相同. 所以1DConvNet大大减小了计算量, 大小为7的CNN窗口, 只有7个未知参数\n",
    "3. keras中的1D-卷积网络\n",
    "  1. 1D卷积网络, 由`Conv1D`层和`MaxPooling1D`层组成  \n",
    "    1. `Conv1D(filters, kernel_size)`  \n",
    "    2. `MaxPooling1D(self, pool_size=)`\n",
    "  2. 然后使用`Flatten`或`GlobalMaxPooling`层, 将卷积网络的3D输出转换为2D输出, 这样就可以叠加更多的全连接层进行分类或回归  \n",
    "    `GlobalMaxPooling1D`的输入为3D张量(batch_size, steps, features), 输出位2D张量(batch_size, features). 在整个矩阵上选出最大值\n",
    "  2. 如下,展示了1DConvNet处理电影数据集情感分类问题"
   ]
  },
  {
   "cell_type": "code",
   "execution_count": 15,
   "metadata": {},
   "outputs": [
    {
     "name": "stdout",
     "output_type": "stream",
     "text": [
      "load data\n",
      "Pad Sequence samples\n",
      "x_train shape: (25000, 500), x_test shape (25000, 500)\n"
     ]
    }
   ],
   "source": [
    "# 1. 数据预处理\n",
    "from keras.models import Sequential\n",
    "from keras.layers import Conv1D,Embedding,MaxPooling1D,GlobalAveragePooling1D,Dense\n",
    "from keras.datasets import imdb\n",
    "from keras.preprocessing import sequence\n",
    "\n",
    "max_features = 10000\n",
    "max_len = 500\n",
    "print 'load data'\n",
    "(x_train,y_train),(x_test,y_test) = imdb.load_data(num_words=max_features)\n",
    "print 'Pad Sequence samples'\n",
    "x_train = sequence.pad_sequences(x_train,maxlen=max_len)\n",
    "x_test = sequence.pad_sequences(x_test,maxlen=max_len)\n",
    "print 'x_train shape: %s, x_test shape %s' % (x_train.shape,x_test.shape)"
   ]
  },
  {
   "cell_type": "code",
   "execution_count": 16,
   "metadata": {},
   "outputs": [
    {
     "name": "stdout",
     "output_type": "stream",
     "text": [
      "_________________________________________________________________\n",
      "Layer (type)                 Output Shape              Param #   \n",
      "=================================================================\n",
      "embedding_3 (Embedding)      (None, 500, 128)          1280000   \n",
      "_________________________________________________________________\n",
      "conv1d_3 (Conv1D)            (None, 494, 32)           28704     \n",
      "_________________________________________________________________\n",
      "max_pooling1d_2 (MaxPooling1 (None, 98, 32)            0         \n",
      "_________________________________________________________________\n",
      "conv1d_4 (Conv1D)            (None, 92, 32)            7200      \n",
      "_________________________________________________________________\n",
      "global_max_pooling1d_2 (Glob (None, 32)                0         \n",
      "_________________________________________________________________\n",
      "dense_2 (Dense)              (None, 1)                 33        \n",
      "=================================================================\n",
      "Total params: 1,315,937\n",
      "Trainable params: 1,315,937\n",
      "Non-trainable params: 0\n",
      "_________________________________________________________________\n"
     ]
    }
   ],
   "source": [
    "# 2.搭建网络\n",
    "from keras import layers\n",
    "model = Sequential()\n",
    "# Embedding(dictionary_len,wordfeature_num, sentence_len)\n",
    "model.add(layers.Embedding(max_features,128,input_length=max_len))  \n",
    "# Conv1D(filters,kernel_size)\n",
    "model.add(layers.Conv1D(32,7,activation='relu'))\n",
    "# MaxPool1D(pool_size)\n",
    "model.add(layers.MaxPool1D(5))\n",
    "model.add(layers.Conv1D(32,7,activation='relu'))\n",
    "model.add(layers.GlobalMaxPool1D())\n",
    "# Dense(units)\n",
    "model.add(Dense(1,activation='sigmoid'))\n",
    "\n",
    "model.summary()"
   ]
  },
  {
   "cell_type": "code",
   "execution_count": 19,
   "metadata": {},
   "outputs": [
    {
     "name": "stdout",
     "output_type": "stream",
     "text": [
      "Train on 20000 samples, validate on 5000 samples\n",
      "Epoch 1/10\n",
      "20000/20000 [==============================] - 9s 464us/step - loss: 0.4399 - acc: 0.7796 - val_loss: 0.2974 - val_acc: 0.8768\n",
      "Epoch 2/10\n",
      "20000/20000 [==============================] - 5s 258us/step - loss: 0.2455 - acc: 0.9030 - val_loss: 0.2764 - val_acc: 0.8868\n",
      "Epoch 3/10\n",
      "20000/20000 [==============================] - 5s 273us/step - loss: 0.1757 - acc: 0.9315 - val_loss: 0.3163 - val_acc: 0.8778\n",
      "Epoch 4/10\n",
      "20000/20000 [==============================] - 5s 263us/step - loss: 0.1198 - acc: 0.9570 - val_loss: 0.2946 - val_acc: 0.8896\n",
      "Epoch 5/10\n",
      "20000/20000 [==============================] - 5s 267us/step - loss: 0.0691 - acc: 0.9777 - val_loss: 0.3529 - val_acc: 0.8896\n",
      "Epoch 6/10\n",
      "20000/20000 [==============================] - 6s 282us/step - loss: 0.0346 - acc: 0.9901 - val_loss: 0.3888 - val_acc: 0.8806\n",
      "Epoch 7/10\n",
      "20000/20000 [==============================] - 6s 278us/step - loss: 0.0133 - acc: 0.9966 - val_loss: 0.4849 - val_acc: 0.8802\n",
      "Epoch 8/10\n",
      "20000/20000 [==============================] - 6s 281us/step - loss: 0.0043 - acc: 0.9988 - val_loss: 0.5655 - val_acc: 0.8838\n",
      "Epoch 9/10\n",
      "20000/20000 [==============================] - 6s 292us/step - loss: 0.0018 - acc: 0.9996 - val_loss: 0.7339 - val_acc: 0.8774\n",
      "Epoch 10/10\n",
      "20000/20000 [==============================] - 6s 292us/step - loss: 9.7083e-04 - acc: 1.0000 - val_loss: 0.7536 - val_acc: 0.8798\n"
     ]
    },
    {
     "data": {
      "text/plain": [
       "<keras.callbacks.History at 0x7f2aaa4818d0>"
      ]
     },
     "execution_count": 19,
     "metadata": {},
     "output_type": "execute_result"
    }
   ],
   "source": [
    "model.compile(optimizer='rmsprop',loss='binary_crossentropy',metrics=['acc'])\n",
    "model.fit(x_train,y_train,batch_size=32,epochs=10,validation_split=0.2)"
   ]
  },
  {
   "cell_type": "markdown",
   "metadata": {},
   "source": [
    "### 2.4.2 组合CNN和RNN处理长时间序列\n",
    "\n",
    "#### 一. 1D convnet的特点\n",
    "1. 1D-convnet独立的处理输入块(以卷积窗口大小划分输入块), 将改时间步内所有的feature计算卷积后输出一个数值.因此:  \n",
    "  1. 1d-convnet不能理解输入时间步的顺序  \n",
    "  2. 1D-convnet根据filter_numbers, 缩减长时间步输入为1维的短序列输出向量 \n",
    "  3. 1D-convnet的计算简单, 训练速度很快  \n",
    "2. RNN的方法能理解输入语句的单词顺序, 但训练时间太长. 因此,尝试组合conv1d和rnn的方法来解决序列问题  \n",
    "  1. 对于长序列输入, 使用1dconvnet作为RNN网络的预处理: 使用1D-convnet减小输入序列长度  \n",
    "  2. 天气预测问题, 使用RNN解决时, lookback=10天, 统计步长account_step=6为1小时.现在组合1dCNN后, 可增加输入序列的长度. 设置account_step=3为半小时, 输入序列长度增加一倍 \n",
    "  \n",
    "[总结]:   \n",
    " 如果输入数据的全局顺序,与要解决问题的无关,部分输入块的顺序与解决的问题有关, 则可以考虑使用1d卷积.  \n",
    " 1d卷积结果在这种情况下同样很好,而且计算速度快很多"
   ]
  },
  {
   "cell_type": "code",
   "execution_count": 1,
   "metadata": {},
   "outputs": [
    {
     "name": "stdout",
     "output_type": "stream",
     "text": [
      "[ 9.96520e+02 -8.02000e+00  2.65400e+02 -8.90000e+00  9.33000e+01\n",
      "  3.33000e+00  3.11000e+00  2.20000e-01  1.94000e+00  3.12000e+00\n",
      "  1.30775e+03  1.03000e+00  1.75000e+00  1.52300e+02]\n",
      "(200000, 14)\n"
     ]
    }
   ],
   "source": [
    "#### 1. 读取数据\n",
    "import os\n",
    "import pandas as pd\n",
    "import numpy as np\n",
    "data_dir = '/home/lj/data/Deelearning_with_python'\n",
    "fname = os.path.join(data_dir,'jena_climate_2009_2016.csv')\n",
    "data = pd.read_csv(fname,index_col='Date Time')\n",
    "### ２. 正则化数据\n",
    "test_data = data[:200000]\n",
    "float_data = test_data.values.astype(np.float64)\n",
    "print float_data[0,:]\n",
    "mean = float_data.mean(axis=0)\n",
    "float_data -= mean\n",
    "std = float_data.std(axis=0)\n",
    "float_data /= std\n",
    "print float_data.shape\n",
    "# 3. 生成Generator对象\n",
    "lookback = 10*24*6  # 10天\n",
    "delay = 1*24*6      # 1天\n",
    "account_step = 3    # 统计步长半小时\n",
    "def generator(data,min_index,max_index,shuffle=False,batch_size=32,lookback=lookback,delay=delay,account_step=account_step):\n",
    "    while 1 : \n",
    "            if shuffle:\n",
    "                start_samples  = np.random.randint(min_index , max_index-lookback, size=batch_size)\n",
    "            else : \n",
    "                start_samples = np.arange(min_index, min_index+account_step*batch_size, account_step)\n",
    "\n",
    "            samples = np.zeros((batch_size, lookback//account_step, data.shape[-1]))\n",
    "            targets = np.zeros(batch_size)\n",
    "            \n",
    "            # [注] : 列表在进行enumerate后, 才能变成(index,value)的键值对集合\n",
    "            for i,sample_start in enumerate(start_samples):\n",
    "                time_steps = range(sample_start, sample_start+lookback, account_step)\n",
    "                samples[i] = float_data[time_steps,:]\n",
    "                targets[i] = float_data[time_steps[-1] + delay,1]\n",
    "\n",
    "            yield samples,targets"
   ]
  },
  {
   "cell_type": "code",
   "execution_count": 2,
   "metadata": {},
   "outputs": [
    {
     "name": "stdout",
     "output_type": "stream",
     "text": [
      "3559 3559\n"
     ]
    }
   ],
   "source": [
    "train_gen = generator(float_data,min_index=0,max_index=100000,shuffle=True)\n",
    "val_gen = generator(float_data,min_index=100001,max_index=105000,shuffle=True)\n",
    "test_gen = generator(float_data,min_index=105001,max_index=110000,shuffle=True)\n",
    "\n",
    "val_step = 105000 -100001- lookback\n",
    "test_steps = 110000 - 105001 - lookback\n",
    "print val_step,test_steps"
   ]
  },
  {
   "cell_type": "code",
   "execution_count": 7,
   "metadata": {},
   "outputs": [
    {
     "name": "stdout",
     "output_type": "stream",
     "text": [
      "_________________________________________________________________\n",
      "Layer (type)                 Output Shape              Param #   \n",
      "=================================================================\n",
      "conv1d_2 (Conv1D)            (None, None, 32)          2272      \n",
      "_________________________________________________________________\n",
      "max_pooling1d_1 (MaxPooling1 (None, None, 32)          0         \n",
      "_________________________________________________________________\n",
      "conv1d_3 (Conv1D)            (None, None, 32)          5152      \n",
      "_________________________________________________________________\n",
      "gru_1 (GRU)                  (None, 32)                6240      \n",
      "_________________________________________________________________\n",
      "dense_1 (Dense)              (None, 1)                 33        \n",
      "=================================================================\n",
      "Total params: 13,697\n",
      "Trainable params: 13,697\n",
      "Non-trainable params: 0\n",
      "_________________________________________________________________\n"
     ]
    }
   ],
   "source": [
    "from keras import layers,models\n",
    "model = models.Sequential()\n",
    "model.add(layers.Conv1D(32,5,input_shape=(None,float_data.shape[-1]),activation='relu'))\n",
    "model.add(layers.MaxPool1D(3))\n",
    "model.add(layers.Conv1D(32,5,activation='relu'))\n",
    "model.add(layers.GRU(32,dropout=0.1,recurrent_dropout=0.5))\n",
    "model.add(layers.Dense(1))\n",
    "model.summary()"
   ]
  },
  {
   "cell_type": "code",
   "execution_count": 9,
   "metadata": {},
   "outputs": [
    {
     "name": "stdout",
     "output_type": "stream",
     "text": [
      "Epoch 1/10\n",
      "500/500 [==============================] - 198s 396ms/step - loss: 0.3364 - val_loss: 0.4505\n",
      "Epoch 2/10\n",
      "500/500 [==============================] - 197s 394ms/step - loss: 0.2993 - val_loss: 0.3568\n",
      "Epoch 3/10\n",
      "500/500 [==============================] - 206s 412ms/step - loss: 0.2906 - val_loss: 0.3464\n",
      "Epoch 4/10\n",
      "500/500 [==============================] - 200s 400ms/step - loss: 0.2796 - val_loss: 0.3994\n",
      "Epoch 5/10\n",
      "500/500 [==============================] - 189s 377ms/step - loss: 0.2722 - val_loss: 0.3715\n",
      "Epoch 6/10\n",
      "500/500 [==============================] - 189s 378ms/step - loss: 0.2690 - val_loss: 0.3350\n",
      "Epoch 7/10\n",
      "500/500 [==============================] - 189s 378ms/step - loss: 0.2638 - val_loss: 0.3461\n",
      "Epoch 8/10\n",
      "500/500 [==============================] - 188s 377ms/step - loss: 0.2565 - val_loss: 0.3431\n",
      "Epoch 9/10\n",
      "500/500 [==============================] - 198s 396ms/step - loss: 0.2521 - val_loss: 0.3381\n",
      "Epoch 10/10\n",
      "500/500 [==============================] - 191s 382ms/step - loss: 0.2486 - val_loss: 0.3819\n"
     ]
    }
   ],
   "source": [
    "model.compile(optimizer='rmsprop',loss='mae')\n",
    "history = model.fit_generator(train_gen,\n",
    "                   steps_per_epoch = 500,  # 生成器返回多少次算是一个epoch\n",
    "                   epochs=10,      # epoch数\n",
    "                   validation_data = val_gen,  #  验证集生成器\n",
    "                   validation_steps = val_step)"
   ]
  },
  {
   "cell_type": "code",
   "execution_count": 12,
   "metadata": {},
   "outputs": [
    {
     "data": {
      "text/plain": [
       "[0.4505484279419941,\n",
       " 0.3568498820786598,\n",
       " 0.34638724007794747,\n",
       " 0.3993590729738695,\n",
       " 0.37147193903013975,\n",
       " 0.33502504332543226,\n",
       " 0.3460616089171257,\n",
       " 0.34305315530259944,\n",
       " 0.33809199688072183,\n",
       " 0.3818848146610831]"
      ]
     },
     "execution_count": 12,
     "metadata": {},
     "output_type": "execute_result"
    }
   ],
   "source": [
    "history.history['val_loss']"
   ]
  },
  {
   "cell_type": "code",
   "execution_count": 20,
   "metadata": {},
   "outputs": [
    {
     "data": {
      "text/plain": [
       "<matplotlib.axes._subplots.AxesSubplot at 0x7fdd4b97b710>"
      ]
     },
     "execution_count": 20,
     "metadata": {},
     "output_type": "execute_result"
    },
    {
     "data": {
      "image/png": "[encoded data removed]",
      "text/plain": [
       "<Figure size 432x288 with 1 Axes>"
      ]
     },
     "metadata": {},
     "output_type": "display_data"
    }
   ],
   "source": [
    "import matplotlib.pyplot as plt\n",
    "import seaborn as sns\n",
    "%matplotlib inline\n",
    "\n",
    "df = pd.DataFrame({'loss':history.history['loss'],\n",
    "             'val_loss':history.history['val_loss']})\n",
    "df.plot(style='8-')"
   ]
  }
 ],
 "metadata": {
  "kernelspec": {
   "display_name": "Python 3",
   "language": "python",
   "name": "python3"
  },
  "language_info": {
   "codemirror_mode": {
    "name": "ipython",
    "version": 3
   },
   "file_extension": ".py",
   "mimetype": "text/x-python",
   "name": "python",
   "nbconvert_exporter": "python",
   "pygments_lexer": "ipython3",
   "version": "3.6.5"
  }
 },
 "nbformat": 4,
 "nbformat_minor": 2
}
