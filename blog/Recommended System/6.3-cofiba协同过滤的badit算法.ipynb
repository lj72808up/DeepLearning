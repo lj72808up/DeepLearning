{
 "cells": [
  {
   "cell_type": "markdown",
   "metadata": {},
   "source": [
    "###  6.3.1 基于协同过滤的multi armed bandit算法\n",
    "#### 一. cofiba的特点 \n",
    "1. 基于协同过滤的bandit算法, 即clustering的bandit算法.\n",
    "2. 是一种在线学习算法\n",
    "3. 在新闻推荐, 广告推荐等用户和物品都有较大流动性的场景下, 传统的静态协同过滤已经不能满足要求(matrix factorization).   \n",
    " 像是考虑explore-exploit问题的bandit算法(如linucb), 已经能很好的解决这种动态场景的需求.但是linucb只考虑了context信息, 却没有加入协同过滤的思想. 因为即使一部分用户选择了相似的产品, linucb也不能发现他们有相同的口味, 同时, 被同属一个cluster的多个用户共同选择的物品, 也没有被视为是相似的物品. 在电影推荐等场景, 五品之间的相似度, 却是推荐的重要依据\n",
    " \n",
    "#### 二. cofiba的基本假设\n",
    "1. 每一个物品上, 都有基于该物品的用户分组. 组内的用户, 对这个物品的反应是相似的. 不同物品, 对应不同的分组方式\n",
    "2. 当物品个数很多的时候, 物品同样基于用户的反馈进行分类"
   ]
  },
  {
   "cell_type": "code",
   "execution_count": null,
   "metadata": {},
   "outputs": [],
   "source": []
  }
 ],
 "metadata": {
  "kernelspec": {
   "display_name": "Python 3",
   "language": "python",
   "name": "python3"
  },
  "language_info": {
   "codemirror_mode": {
    "name": "ipython",
    "version": 3
   },
   "file_extension": ".py",
   "mimetype": "text/x-python",
   "name": "python",
   "nbconvert_exporter": "python",
   "pygments_lexer": "ipython3",
   "version": "3.6.5"
  }
 },
 "nbformat": 4,
 "nbformat_minor": 2
}
