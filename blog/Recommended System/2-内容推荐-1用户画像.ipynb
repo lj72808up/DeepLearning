{
 "cells": [
  {
   "cell_type": "markdown",
   "metadata": {},
   "source": [
    "### 一. 什么是用户画像\n",
    "#### 1. User Profile \n",
    "1. 推荐系统在匹配用户和物品前, 需要对用户和物品进行向量化才能计算  \n",
    "2. 对用户向量化后的结果就是User Profile, 俗称\"用户画像\". 所以用户画像并非必须属于人类可读的维度  \n",
    "3. 召回和排序  \n",
    " 1. 因为物品数量众多, 无法对所有物品估计评分. 所有需要预先筛选一部分物品来减少计算量. 这个筛选的过程就是召回.  \n",
    " 2. 用户画像(向量)也会被用于物品召回阶段\n",
    " \n",
    "#### 2. 用户画像的构建方法  \n",
    "1. 查户口  \n",
    " 直接使用原始数据作为用户画像的内容. 如'注册资料','购买历史','阅读历史'  \n",
    "2. 堆积历史数据  \n",
    " 堆积历史数据, 做统计工作. 可以从历史数据中挖掘标签, 在标签上做统计  \n",
    "3. 黑盒子  \n",
    " 用机器学习,深度学习的方法得到人类无关理解的稠密向量"
   ]
  },
  {
   "cell_type": "code",
   "execution_count": null,
   "metadata": {},
   "outputs": [],
   "source": []
  }
 ],
 "metadata": {
  "kernelspec": {
   "display_name": "Python 2",
   "language": "python",
   "name": "python2"
  },
  "language_info": {
   "codemirror_mode": {
    "name": "ipython",
    "version": 2
   },
   "file_extension": ".py",
   "mimetype": "text/x-python",
   "name": "python",
   "nbconvert_exporter": "python",
   "pygments_lexer": "ipython2",
   "version": "2.7.15"
  }
 },
 "nbformat": 4,
 "nbformat_minor": 2
}
