{
 "cells": [
  {
   "cell_type": "markdown",
   "metadata": {},
   "source": [
    "### 6.1.1 Bandit算法简介\n",
    "#### 一. 更改推荐流程\n",
    "1. 现在,我们更改推荐流程:  \n",
    " 1. 首先, 从\"相似内容推荐\", \"相似好友推荐\", \"热门推荐\"中选择一种推荐策略  \n",
    " 2. 然后再使用选择的种策略取推荐物品.  \n",
    "选择推荐方式的算法, 就是Bandit\n",
    "\n",
    "#### 二. Bandit算法家族\n",
    "1. Bandit算法家族解决什么问题  \n",
    " 推荐所发的EE问题: 即`Exploit－Explore`问题\n",
    " \n",
    "2. `累计遗憾`衡量选择的好坏  \n",
    " Bandit定义选择的好坏, 是看这个选择带来的遗憾有多少. 遗憾越少, 选择越好  \n",
    " $${ R }_{ T }=\\sum _{ t=1 }^{ T }{ \\left( { w }_{ opt }-{ w }_{ B\\left( i \\right)  } \\right)  } \\\\ \\quad =T*{ w }^{ * }-\\sum _{ t=1 }^{ T }{ { w }_{ B\\left( i \\right)  } } $$  \n",
    "  1. ${ R }_{ T }$ : $T$次选择带来的遗憾  \n",
    "  2. ${ w }_{ opt }$ : 最优选择的价值(wealth,optional)  \n",
    "  3. ${ w }_{ B\\left( i \\right)  }$ : $B\\left( i \\right)$次选择的价值\n",
    "  \n",
    "3. 多臂老虎机问题  \n",
    " 多臂老虎机, 就是从多台老虎机中, 选择其中某一个老虎机进行赌博. 这样的操作重复多次, 使多次的累积收益最大. 多臂的选择问题, 就是Bandit算法. 放在推荐系统中, 就是 :  \n",
    " 1. 臂 : 每次的候选项. 可以是具体物品, 也可以是推荐策略, 也可能是物品类别  \n",
    " 2. 回报 : 用户是否对推荐结果喜欢.喜欢就是正回报, 未作出反应就是负回报或0回报  \n",
    " 3. 环境 : 推荐系统面临的用户\n",
    " \n",
    "4. 下面, 我们依次介绍几个Bandit算法"
   ]
  },
  {
   "cell_type": "markdown",
   "metadata": {},
   "source": [
    "### 6.1.2 汤普森采样算法\n",
    "\n",
    "#### 一. 汤普森采样的思路\n",
    "1. 如何选择哪个推荐策略 :  \n",
    " 假设每个臂可以产生收益的概率为$p$. 然后从每个臂的概率分布$p$中, 抽取一个随机数, 按照这个随机数排序, 输出产生随机数最大的那个臂推荐的物品\n",
    "2. 臂的概率分布$p$ :  \n",
    " p的分布服从$Beta$分布, 即$$f\\left( p \\right) =\\frac { { p }^{ \\alpha -1 }{ \\left( 1-p \\right)  }^{ \\beta -1 } }{ \\int _{ 0 }^{ 1 }{ { u }^{ \\alpha -1 }{ \\left( 1-u \\right)  }^{ \\beta -1 } }  } $$  \n",
    "3. 如下使用`pymc3`生成Beta分布的值, 再用numpy找到最大值的臂"
   ]
  },
  {
   "cell_type": "code",
   "execution_count": 1,
   "metadata": {},
   "outputs": [
    {
     "name": "stderr",
     "output_type": "stream",
     "text": [
      "/devkits/anaconda3/lib/python3.6/site-packages/h5py/__init__.py:36: FutureWarning: Conversion of the second argument of issubdtype from `float` to `np.floating` is deprecated. In future, it will be treated as `np.float64 == np.dtype(float).type`.\n",
      "  from ._conv import register_converters as _register_converters\n"
     ]
    }
   ],
   "source": [
    "import pymc3\n",
    "import numpy as np"
   ]
  },
  {
   "cell_type": "code",
   "execution_count": 2,
   "metadata": {},
   "outputs": [
    {
     "name": "stdout",
     "output_type": "stream",
     "text": [
      "[array(0.98268633), array(0.09197584), array(0.99876265), array(0.7574932)]\n",
      "2\n"
     ]
    }
   ],
   "source": [
    "with pymc3.Model() as coin_model: \n",
    "    a = pymc3.Beta('Betas_a',alpha=95,beta=1,shape=1)\n",
    "    b = pymc3.Beta('Betas_b',alpha=9,beta=91,shape=1)\n",
    "    c = pymc3.Beta('Betas_c',alpha=96,beta=1,shape=1)\n",
    "    d = pymc3.Beta('Betas_d',alpha=9,beta=4,shape=1)\n",
    "    var_list = [a.random(),b.random(),c.random(),d.random()]\n",
    "    print(var_list)\n",
    "    print(np.argmax(var_list))"
   ]
  },
  {
   "cell_type": "markdown",
   "metadata": {},
   "source": [
    "### 6.1.3 UCB算法\n",
    "\n",
    "#### 一. 何为UCB算法\n",
    "1. UCB算法, 全称$upper confidence bound$, 即置信区间上界  \n",
    "     UCB为每个候选臂评分, 然后选择评分最高的那个臂. 而且每次输出后观察用户反馈更新候选臂的参数\n",
    "2. 如果说汤普森采样算法, 需要对每个臂给出一个先验的$\\alpha$和$\\beta$, 这引入了不确定性. 那么UCB算法, 则是一种确定的, 完全通过`count`次数实现的算法.UCB算法对每个臂的评分方法是 : $${ \\bar { { x }_{ t } }  }\\left( t \\right) +\\sqrt { \\frac { 2\\ln { t }  }{ { T }_{ j,t } }  } $$  \n",
    "  1. 左侧${ \\bar { { x }_{ t } }  }\\left( t \\right) $ : t次选择后, 每个臂的平均收益. 可见, 平均收益高的臂, 其评分也可能高  \n",
    "  2. 右侧$\\sqrt { \\frac { 2\\ln { t }  }{ { T }_{ j,t } }  } $ : 为奖励项, ${ T }_{ j,t }$表示t次试验中, 选择臂$j$的次数, $t$为总试验次数. 可见, 被选择次数少的臂其奖励就大."
   ]
  },
  {
   "cell_type": "markdown",
   "metadata": {},
   "source": [
    "### 6.1.4 Epsilon贪婪算法\n",
    "#### 一.  Epsilon贪婪算法思路\n",
    "1. 每次从(0,1)中随机选择一个数作为$\\epsilon$, 再以$1-\\epsilon$的概率选择平均收益最大的那个臂  \n",
    "2. 由上所示, $\\epsilon$越接近0, 就越会倾向于选择平均收益大的臂"
   ]
  },
  {
   "cell_type": "markdown",
   "metadata": {},
   "source": [
    "### 6.1.5 冷启动问题\n",
    "\n",
    "#### 一. 可以选择汤普森采样解决推荐系统冷启动问题\n",
    "1. 使用分类或topic表示每个用户兴趣, 通过多次试验, 表示出用户对每个topic感兴趣的概率  \n",
    "2. 新来一个用户, 抽取每个topic的随机数, 选择随机数最大的topic推荐给用户. 如果用户做出了反应, 该topic的$\\alpha$值加1, 未作出反应, 该topic的$\\beta$值加1"
   ]
  }
 ],
 "metadata": {
  "kernelspec": {
   "display_name": "Python 3",
   "language": "python",
   "name": "python3"
  },
  "language_info": {
   "codemirror_mode": {
    "name": "ipython",
    "version": 3
   },
   "file_extension": ".py",
   "mimetype": "text/x-python",
   "name": "python",
   "nbconvert_exporter": "python",
   "pygments_lexer": "ipython3",
   "version": "3.6.5"
  }
 },
 "nbformat": 4,
 "nbformat_minor": 2
}
