{
 "cells": [
  {
   "cell_type": "markdown",
   "metadata": {},
   "source": [
    "### 4.2 BPR排序算法\n",
    "\n",
    "#### 一. BPR的概念\n",
    "1. 推荐系统, 本质上是针对一系列物品的个性化排序问题.BPR使用贝叶斯思想来优化排序效果\n",
    "2. BPR关注的是隐式反馈行为\n",
    "3. SVD的矩阵分解模型(MF-matrix factorization)和KNN模型使用BPR-OPT优化函数后, 可以达到更好的效果\n",
    "4. BPR用于协同过滤模型时, 会对每个用户产生各自的排序效果, 而非产生一个全局的统一排序\n",
    "\n",
    "#### 二. 符号表示\n",
    "1. $U$ : 用户集合. $I$ : 所有物品集合\n",
    "3. $>_U$ : 所有物品的偏序关系,维度是$I^2$. 且$>_U$满足如下3个性质 : \n",
    "   1. 全体性 : $\\forall i,j\\in I$, $i\\neq j\\Longrightarrow i{ > }_{ u }j\\vee j{ > }_{ u }i$  \n",
    "   2. 反对称性 : $\\forall i,j\\in I$, $\\left( i{ > }_{ u }j \\right) \\wedge \\left( j{ > }_{ u }i \\right) \\Longrightarrow i=j$ \n",
    "   3. 传递性 : $\\forall i,j,k\\in I$, $\\left( i{ > }_{ u }j \\right) \\wedge \\left( j{ > }_{ u }k \\right) \\Longrightarrow \\left( i{ > }_{ u }k \\right) $\n",
    "3. $S$ : 隐式反馈矩阵,维度是$U*I$. 由0和1组成  \n",
    " <img src='img/Sbpr.png' height='40%' width='40%'>\n",
    "4. ${ I }_{ u }^{ + }=\\left\\{ i\\in I:\\left( u,i \\right) \\in S \\right\\} $ : 对于用户u, 做出反馈的物品集合    \n",
    " ${ U }_{ i }^{ + }=\\left\\{ u\\in U:\\left( u,i \\right) \\in S \\right\\} $ : 对于物品i, 做出反馈的用户集合\n",
    " \n",
    "#### 三. BPR的训练集构造  \n",
    "1. BPR的训练集是一个3元组(u,i,j). 其中i是用户做出反馈的1个物品, j是没有作出反馈的1个物品. 于是我们认为对于用户u, 作出反馈的物品i的排序应该在未作出反馈的物品j之前. 训练集表示为 : $${ D }_{ S }=\\left\\{ (u,i,j)|i\\in { I }_{ u }^{ + }\\wedge j\\in I\\setminus { I }_{ u }^{ + } \\right\\} $$即$\\left( u,i,j \\right) \\in { D }_{ S }$表示用户u相比j更喜欢i.  \n",
    "2. 现在, 我们可以从观测矩阵$R^{U*I}$,得到每个用户自己的偏序关系矩阵$R^{I*I}$,因此所有用户的偏序关系矩阵维度是$R^{U*I*I}$. 如下图, '+'表示更喜欢$i$, '-'表示更喜欢$j$\n",
    "  <img src='img/bpr2.png' height='40%' width='40%'>  \n",
    "  注意, 我们的训练集是由做出反馈的i和未作出反馈的j组成, 而测试集输入的物品都是未反馈的. 这说明训练集和测试集是割裂的"
   ]
  },
  {
   "cell_type": "markdown",
   "metadata": {},
   "source": [
    "#### 四. BPR-OPT : BPR优化准则\n",
    "1. 贝叶斯寻找最优排序的方法是, 最大化参数的后验概率$p\\left( \\theta |{ > }_{ u } \\right) $, 且根据贝叶斯公式有$$p\\left( \\theta |{ > }_{ u } \\right) \\propto p\\left( { > }_{ u }|\\theta  \\right) p\\left( \\theta  \\right) $$"
   ]
  },
  {
   "cell_type": "code",
   "execution_count": null,
   "metadata": {},
   "outputs": [],
   "source": []
  }
 ],
 "metadata": {
  "kernelspec": {
   "display_name": "Python 3",
   "language": "python",
   "name": "python3"
  },
  "language_info": {
   "codemirror_mode": {
    "name": "ipython",
    "version": 3
   },
   "file_extension": ".py",
   "mimetype": "text/x-python",
   "name": "python",
   "nbconvert_exporter": "python",
   "pygments_lexer": "ipython3",
   "version": "3.6.5"
  }
 },
 "nbformat": 4,
 "nbformat_minor": 2
}
