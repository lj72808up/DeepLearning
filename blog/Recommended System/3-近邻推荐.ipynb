{
 "cells": [
  {
   "cell_type": "markdown",
   "metadata": {},
   "source": [
    "### 3.1 协同过滤\n",
    "1. 当度过了基于内容的推荐阶段后, 用户已经对一些物品或明或暗的表示了喜好程度. 这种喜好程度可以表达成一个用户和物品的关系矩阵. 这个关系矩阵是协同过滤主要进行算法的地方   \n",
    "2. 协同过滤的2种方法  \n",
    "  1. 基于记忆的协同过滤\n",
    "  2. 基于模型的协同过滤\n",
    " \n",
    "#### 一. 基于用户的协同过滤\n",
    "1. 主要思想  \n",
    " 根据用户的历史行为, 找到和用户口味相似的一群用户. 然后把这个用户群中消费过的而本用户没消费过的物品推荐出来\n",
    " \n",
    "#### 二. 基于物品的协同过滤"
   ]
  },
  {
   "cell_type": "markdown",
   "metadata": {
    "collapsed": true
   },
   "source": [
    "[https://www.kaggle.com/gspmoreira/recommender-systems-in-python-101](https://www.kaggle.com/gspmoreira/recommender-systems-in-python-101)"
   ]
  },
  {
   "cell_type": "code",
   "execution_count": null,
   "metadata": {
    "collapsed": true
   },
   "outputs": [],
   "source": []
  }
 ],
 "metadata": {
  "kernelspec": {
   "display_name": "Python 2",
   "language": "python",
   "name": "python2"
  },
  "language_info": {
   "codemirror_mode": {
    "name": "ipython",
    "version": 2
   },
   "file_extension": ".py",
   "mimetype": "text/x-python",
   "name": "python",
   "nbconvert_exporter": "python",
   "pygments_lexer": "ipython2",
   "version": "2.7.14"
  }
 },
 "nbformat": 4,
 "nbformat_minor": 2
}
