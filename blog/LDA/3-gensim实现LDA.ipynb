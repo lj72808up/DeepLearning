{
 "cells": [
  {
   "cell_type": "markdown",
   "metadata": {},
   "source": [
    "## 3.2 Gensim进行LDA"
   ]
  },
  {
   "cell_type": "code",
   "execution_count": 8,
   "metadata": {},
   "outputs": [],
   "source": [
    "##########################1. 加入自定义词频,使其不易分割##########################\n",
    "import jieba\n",
    "\n",
    "jieba.suggest_freq('沙瑞金',True)\n",
    "jieba.suggest_freq('易学习',True)\n",
    "jieba.suggest_freq('王大路',True)\n",
    "jieba.suggest_freq('京州', True)\n",
    "\n",
    "##########################2. 对文档分词并将结果写入文件##########################\n",
    "# 第一个文档分词\n",
    "with open('../自然语言处理/data/nlp_test0.txt') as f :\n",
    "    doc1 = f.read()\n",
    "    doc_decode = doc1.decode('utf-8') # utf-8\n",
    "    doc_cut = jieba.cut(doc_decode)\n",
    "    res = ' '.join(doc_cut).encode('utf-8')\n",
    "    with open('../自然语言处理/data/nlp_test1.txt','w') as f2:\n",
    "        f2.write(res)\n",
    "# 第二个文档分词 \n",
    "with open('../自然语言处理/data/nlp_test2.txt') as f :\n",
    "    doc1 = f.read()\n",
    "    doc_decode = doc1.decode('utf-8') # utf-8\n",
    "    doc_cut = jieba.cut(doc_decode)\n",
    "    res = ' '.join(doc_cut).encode('utf-8')\n",
    "    with open('../自然语言处理/data/nlp_test3.txt','w') as f2:\n",
    "        f2.write(res)\n",
    "# 第三个文档分词\n",
    "with open('../自然语言处理/data/nlp_test4.txt') as f :\n",
    "    doc1 = f.read()\n",
    "    doc_decode = doc1.decode('utf-8') # utf-8\n",
    "    doc_cut = jieba.cut(doc_decode)\n",
    "    res = ' '.join(doc_cut).encode('utf-8')\n",
    "    with open('../自然语言处理/data/nlp_test5.txt','w') as f2:\n",
    "        f2.write(res)\n",
    "        "
   ]
  },
  {
   "cell_type": "code",
   "execution_count": 10,
   "metadata": {},
   "outputs": [
    {
     "name": "stdout",
     "output_type": "stream",
     "text": [
      "沙瑞金 赞叹 易学习 的 胸怀 ， 是 金山 的 百姓 有福 ， 可是 这件 事对 李达康 的 触动 很大 。 易学习 又 回忆起 他们 三人 分开 的 前一晚 ， 大家 一起 喝酒 话别 ， 易学习 被 降职 到 道口 县当 县长 ， 王大路 下海经商 ， 李达康 连连 赔礼道歉 ， 觉得 对不起 大家 ， 他 最 对不起 的 是 王大路 ， 就 和 易学习 一起 给 王大路 凑 了 5 万块 钱 ， 王大路 自己 东挪西撮 了 5 万块 ， 开始 下海经商 。 没想到 后来 王大路 竟然 做 得 风生水 起 。 沙瑞金 觉得 他们 三人 ， 在 困难 时期 还 能 以沫 相助 ， 很 不 容易 。 \n",
      "\n",
      "沙瑞金 向 毛娅 打听 他们 家 在 京州 的 别墅 ， 毛娅 笑 着 说 ， 王大路 事业有成 之后 ， 要 给 欧阳 菁 和 她 公司 的 股权 ， 她们 没有 要 ， 王大路 就 在 京州 帝豪园 买 了 三套 别墅 ， 可是 李达康 和 易学习 都 不要 ， 这些 房子 都 在 王大路 的 名下 ， 欧阳 菁 好像 去 住 过 ， 毛娅 不想 去 ， 她 觉得 房子 太大 很 浪费 ， 自己 家住 得 就 很 踏实 。 \n",
      "\n",
      "347 年 （ 永和 三年 ） 三月 ， 桓 温兵 至 彭模 （ 今 四川 彭山 东南 ） ， 留下 参军 周楚 、 孙盛 看守 辎重 ， 自己 亲率 步兵 直攻 成都 。 同月 ， 成汉 将领 李福 袭击 彭模 ， 结果 被 孙盛 等 人 击退 ； 而桓温 三 战三胜 ， 一直 逼近 成都 。 \n",
      "\n"
     ]
    }
   ],
   "source": [
    "##########################4. 导入停用词表 ##########################\n",
    "stpword_path = '../自然语言处理/data/stop_words.txt'\n",
    "with open(stpword_path,'rb') as f:\n",
    "    stw_list = f.read().splitlines()\n",
    "    \n",
    "##########################3. 读入分好词的数据文件到内存 ##########################\n",
    "with open('../自然语言处理/data/nlp_test1.txt') as f3:\n",
    "    res1  = f3.read()\n",
    "    for w in f3.read().split(' '): \n",
    "        if w not in stw_list: \n",
    "            1\n",
    "    print res1\n",
    "with open('../自然语言处理/data/nlp_test3.txt') as f4:\n",
    "    res2 = f4.read()\n",
    "print res2\n",
    "with open('../自然语言处理/data/nlp_test5.txt') as f5:\n",
    "    res3 = f5.read()\n",
    "print res3"
   ]
  },
  {
   "cell_type": "code",
   "execution_count": null,
   "metadata": {
    "collapsed": true
   },
   "outputs": [],
   "source": []
  }
 ],
 "metadata": {
  "kernelspec": {
   "display_name": "Python 2",
   "language": "python",
   "name": "python2"
  },
  "language_info": {
   "codemirror_mode": {
    "name": "ipython",
    "version": 2
   },
   "file_extension": ".py",
   "mimetype": "text/x-python",
   "name": "python",
   "nbconvert_exporter": "python",
   "pygments_lexer": "ipython2",
   "version": "2.7.14"
  }
 },
 "nbformat": 4,
 "nbformat_minor": 2
}
