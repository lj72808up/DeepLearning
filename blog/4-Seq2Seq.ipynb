{
 "cells": [
  {
   "cell_type": "markdown",
   "metadata": {},
   "source": [
    "### 4.1 Seq2Seq架构\n",
    "\n",
    "#### 一. 基本模型\n",
    "1. 法语转换成英语  \n",
    " 使用RNN搭建一个编码器网络(GRU/LSTM). 每次想编码器未入一个法语单词, 在RNN理解了输入序列后, RNN输出一个序列, 来表示输入的语句序列    \n",
    " 此后, 解码器网络每次把编码器RNN网络输出的每个单词, 转换为一个新的单词 , 即为英文语句\n",
    "<img src='../img/seq2seqmechinetranslation.png' height='80%' width='80%'>\n",
    "2. 图像识别  \n",
    " 如给一个猫坐在椅子上的图片, 输出语句\"A cat sitting on a chair\" . 通常做法是:   \n",
    "  1.  用CNN网络(AlexNet)将图片经过一系列卷积, poling后, 训练成一个高#channels的张量, 并将其展成一维向量.  \n",
    "  2. 将这个向量送入RNN网络, 输出一个语句序列  \n",
    "<img src='../img/seq2seqimagecaption.png' height='80%' width='80%'>"
   ]
  },
  {
   "cell_type": "code",
   "execution_count": null,
   "metadata": {},
   "outputs": [],
   "source": []
  },
  {
   "cell_type": "code",
   "execution_count": null,
   "metadata": {},
   "outputs": [],
   "source": []
  }
 ],
 "metadata": {
  "kernelspec": {
   "display_name": "Python 2",
   "language": "python",
   "name": "python2"
  },
  "language_info": {
   "codemirror_mode": {
    "name": "ipython",
    "version": 2
   },
   "file_extension": ".py",
   "mimetype": "text/x-python",
   "name": "python",
   "nbconvert_exporter": "python",
   "pygments_lexer": "ipython2",
   "version": "2.7.14"
  }
 },
 "nbformat": 4,
 "nbformat_minor": 2
}
