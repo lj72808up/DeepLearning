{
 "cells": [
  {
   "cell_type": "markdown",
   "metadata": {},
   "source": [
    "### 6.2.1 contextual bandit 问题\n",
    "#### 一. web推荐系统存在的问题\n",
    "1. 基于web的场景, 物品经常会变, 物品的流行度也会变化. 大量的新用户也没有历史消费信息.  \n",
    "2. 传统的协同过滤矩阵分解算法, 需要求解出物品和用户的隐因子向量, 这很耗费时间, 会降低用户的短期体验.  \n",
    " 因此, 我们要平衡2件事 : 最大化用户的长期满意度和学习到最佳的用户物品隐因子向量\n",
    " \n",
    "#### 二. contextual bandit 问题抽象\n",
    "1. `个性化新闻标题推荐`问题可抽象为带上下文的多臂赌博机问题  \n",
    " `多臂赌博机`问题是在t次试验中进行的 : \n",
    "   1. 设当前用户$u_t$和臂集合${ \\Lambda   }_{ t }$, 对于每一个臂$\\alpha \\in { \\Lambda  }_{ t }$, 向量${ x }_{ t,a }$是综合了用户$u_t$和臂$\\alpha$的表示, 这种向量表示称为context  \n",
    "   2. 基于先前试验的结果, 使用$r_{t,{\\alpha}_t}$表示用户$u_t$在${\\alpha}_t$上的奖励 \n",
    "   3. 在下一次实验中, 根据3个参数$\\left( { x }_{ t,{ \\alpha  }_{ t } },{ \\alpha  }_{ t },{ r }_{ t,{ \\alpha  }_{ t } } \\right) $更新臂选择策略  \n",
    "    值得注意的是, 没有被选择的臂$\\left( \\alpha \\neq { \\alpha  }_{ t } \\right) $就没有反馈\n",
    "2. 最优化问题  \n",
    "t次实验的收益$A$, 定义为$A=\\sum _{ t=1 }^{ T }{ { r }_{ t,{ \\alpha  }_{ t } } } $.   \n",
    "同理, 我们的最佳t次实验收益为$E\\left[ \\sum _{ t=1 }^{ T }{ { r }_{ t,{ \\alpha  }_{ t }^{ * } } }  \\right] $, ${ \\alpha  }_{ t }^{ * }$为第t次实验的最佳臂选择. 即最小化损失$${ R }_{ A }\\left( T \\right) =E\\left[ \\sum _{ t=1 }^{ T }{ { r }_{ t,{ \\alpha  }_{ t }^{ * } } }  \\right] -E\\left[ \\sum _{ t=1 }^{ T }{ { r }_{ t,{ \\alpha  }_{ t } } }  \\right] $$\n",
    "3. 本文中, 我们聚焦于新闻标题推荐场景. 该场景可抽象为, 用户对新闻标题的点击绿预测问题(CTR).  \n",
    " 结合bandit算法, 如果用户对推荐的标题点击了, 则回馈为1, 否则, 回馈为0\n",
    "4. 对于推荐算法的EE问题(explore&exploit), 实质就是, 我们为什么要选择次最优的臂?  \n",
    " 因为次最优的臂, 会让系统学习到更多的信息. 而我们判定出的最优臂,可能是因为信息获取不足造成的偏差结果. 选择次最优的臂, 可能会造成短期满意度下降, 但却会提高长期满意度. 例如, 不带上下文的bandit算法中, $\\varepsilon -greedy$就是考虑了EE问题的算法"
   ]
  },
  {
   "cell_type": "markdown",
   "metadata": {},
   "source": [
    "### 6.2.2 算法\n",
    "\n",
    "#### 一. LinUCB算法总览\n",
    "1. 我们将看到, 在计算收益时, 如果使用线性模型, 则置信区间可以高效算出"
   ]
  },
  {
   "cell_type": "markdown",
   "metadata": {},
   "source": [
    "#### 二. LinUCB - 使用互斥线性模型\n",
    "1. 假设有臂$\\alpha$,$d$维context向量${ x }_{ t,\\alpha  }$,未知参数${ \\theta  }_{ \\alpha  }^{ * }$, 则有期望收益$$E\\left[ { r }_{ t,{ \\alpha  } }|{ x }_{ t,a } \\right] =\\left( { { x }_{ t,\\alpha  } } \\right) ^{ T }{ \\theta  }_{ \\alpha  }^{ * }$$  \n",
    "2. 之所以称该模型为互斥线性模型, 是因为不同臂之间的参数并不共享  \n",
    "3. 在第t次试验中, ${ D }_{ \\alpha  }$是$m*d$维矩阵, $b_{ \\alpha  }\\in { R }^{ m }$是臂$\\alpha$的反馈向量(用户点击/未点击)"
   ]
  },
  {
   "cell_type": "code",
   "execution_count": null,
   "metadata": {},
   "outputs": [],
   "source": []
  },
  {
   "cell_type": "code",
   "execution_count": null,
   "metadata": {},
   "outputs": [],
   "source": []
  }
 ],
 "metadata": {
  "kernelspec": {
   "display_name": "Python 3",
   "language": "python",
   "name": "python3"
  },
  "language_info": {
   "codemirror_mode": {
    "name": "ipython",
    "version": 3
   },
   "file_extension": ".py",
   "mimetype": "text/x-python",
   "name": "python",
   "nbconvert_exporter": "python",
   "pygments_lexer": "ipython3",
   "version": "3.6.5"
  }
 },
 "nbformat": 4,
 "nbformat_minor": 2
}
