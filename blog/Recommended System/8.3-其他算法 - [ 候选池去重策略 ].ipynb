{
 "cells": [
  {
   "cell_type": "markdown",
   "metadata": {},
   "source": [
    "#### 一. 什么时候需要去重\n",
    "1. 对爬去的内容去重\n",
    "2. 对推荐结果去重"
   ]
  },
  {
   "cell_type": "markdown",
   "metadata": {},
   "source": [
    "#### 二. Simhash - 内容去重\n",
    "1. `Simhash`为每个内容产生一个整数指纹, 然后用这个指纹做重复检测或相似检测\n",
    "2. `Simhash`的做法 :  \n",
    "      1. 对文本分词, 并计算每个词的权重  \n",
    "      2. 对每个词再哈希成1个整数, 并把整数对应的二进制序列中的0变成-1, 1不变.  \n",
    "       因此, 得到一个由1和-1组成的向量\n",
    "      3. 把1得到的权重和2得到的向量相乘, 得到加权向量. \n",
    "      4. 把文章中每个词的加权向量相加 , 得到一个最终的向量  \n",
    "      5. 把4得到的最终向量中, 正的元素替换为1, 负的元素替换为0, 从而得到0,1序列, 再转换成整数\n",
    "3. 因为`Simhash`对每个词计算权重, 导致权重小的词, 根本不能改变最终向量元素的正负.\n",
    "4. 将词转变为整数的哈希算法, 可使用`Jenkins`  \n",
    "5. 计算向量重复时, 可使用汉明距离 :   \n",
    "  即2个向量二进制位不同的个数. 如果不同的个数小于3, 则说明内容重复"
   ]
  },
  {
   "cell_type": "markdown",
   "metadata": {},
   "source": [
    "#### 三. Bloomfilter - 防止已推荐的内容重复推荐\n",
    "1. 内容的id一般使用UUID表示, 是一个不太长的字符串或整数  \n",
    "2. 将原始模式串, 净多多个hash函数后, 转换成不同的整数index.   \n",
    " 设置初始向量为全0向量, 3个hash函数可映射的index要不超过该'全0向量'的长度. 在对应index上将其元素值变为1\n",
    "3. 当新原始串到来时, 也要经过3个hash变换, 看对应index上的元素是否为1\n",
    "<img src='img/bloomfilter.png' width='60%' height='60%'>"
   ]
  }
 ],
 "metadata": {
  "kernelspec": {
   "display_name": "Python 3",
   "language": "python",
   "name": "python3"
  },
  "language_info": {
   "codemirror_mode": {
    "name": "ipython",
    "version": 3
   },
   "file_extension": ".py",
   "mimetype": "text/x-python",
   "name": "python",
   "nbconvert_exporter": "python",
   "pygments_lexer": "ipython3",
   "version": "3.6.5"
  }
 },
 "nbformat": 4,
 "nbformat_minor": 2
}
