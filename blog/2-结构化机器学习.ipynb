{
 "cells": [
  {
   "cell_type": "markdown",
   "metadata": {},
   "source": [
    "# 结构化机器学习\n",
    "---------------\n",
    "#### 1. 确定系统的瓶颈在哪  \n",
    "( 1 ) 训练集拟合效果提升 : 更大的神经网络  \n",
    "( 2 ) 验证集拟合效果提升 :   \n",
    "( 3 ) 测试集拟合效果提升  \n",
    "( 4 ) 真实世界的表现\n",
    "#### 2. 选择单一数字评价指标   \n",
    "F1-score作为快速选择模型好坏的标准  \n",
    "#### 3. 除了一个优化目标外,还可以设立多个需要满足的条件  \n",
    "例如我们的目标是找到F1-score最高的模型, 但同时也要满足训练时间小于100s等条件  \n",
    "#### 4. 验证集和测试集  \n",
    "( 1 ) 验证集和测试集来自同一个分布  \n",
    "( 2 ) 训练集,验证集,测试集大小比例 : 98%, 1%, 1%  \n",
    "#### 5. 如果你的评估指标, 无法正确排序好算法的排名, 此时就需要更改评估指标  \n",
    "eg: A有3%的错误率, B有5%的错误率. 只通过错误率选择模型会得到A, 但是A在识别猫图片时, 会把色情图片也误识别成猫, 这是绝对不能允许的. 此时需要更改指标, 让其选择模型B  \n",
    "#### 6. 人的表现-human level performance\n",
    "贝叶斯最优误差: 指从$x$到$y$映射的最优表现. 人的表现往往区域贝叶斯最优误差, 只要机器还没达到人的表现, 就有提升空间.  \n",
    "因此, 可以通过人工查看, 错误标记的样本到底是在哪里错误, 进行算法改进\n",
    "#### 7. 改进学习系统性能的方法: \n",
    "人类认知给出的贝叶斯最优误差, 和训练集上的偏差之间的差值, 就是可避免误差. 如下图, 在几个情况下改进学习性能\n",
    "<img src=\"../img/4-sructedimprove.png\",width=\"65%\",height=\"65%\",align=\"left\"/>\n"
   ]
  },
  {
   "cell_type": "code",
   "execution_count": null,
   "metadata": {
    "collapsed": true
   },
   "outputs": [],
   "source": []
  }
 ],
 "metadata": {
  "kernelspec": {
   "display_name": "Python 2",
   "language": "python",
   "name": "python2"
  },
  "language_info": {
   "codemirror_mode": {
    "name": "ipython",
    "version": 2
   },
   "file_extension": ".py",
   "mimetype": "text/x-python",
   "name": "python",
   "nbconvert_exporter": "python",
   "pygments_lexer": "ipython2",
   "version": "2.7.14"
  }
 },
 "nbformat": 4,
 "nbformat_minor": 2
}
