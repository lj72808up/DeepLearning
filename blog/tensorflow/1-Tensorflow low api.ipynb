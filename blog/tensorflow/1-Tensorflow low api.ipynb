{
 "cells": [
  {
   "cell_type": "markdown",
   "metadata": {},
   "source": [
    "### 1.1 Tensorflow low api介绍\n",
    "1. Tensorflow low api分为两个部分  \n",
    "  1. 构建计算图:`tf.Graph`\n",
    "  2. 运行计算图:`tf.Session`\n",
    "2. 何为计算图 \n",
    "  1. 计算图是由一系列Tensorflow操作组成的Graph.其中顶点为`Tensorflow operation`, 边为输入输出的张量\n",
    "  2. Tensorflow的张量类为`tf.Tensors`\n",
    "3. 如下, 构建第一个Tensorflow demo"
   ]
  },
  {
   "cell_type": "code",
   "execution_count": 27,
   "metadata": {},
   "outputs": [],
   "source": [
    "# 为了pthon2兼容python3声明的特性包, python3下不用导入, 这些特性已默认包含在python3中\n",
    "from __future__ import division        # 精确除: int/int=float\n",
    "from __future__ import absolute_import # 绝对路径导入\n",
    "from __future__ import print_function  # 使用print函数, 而不是print关键字"
   ]
  },
  {
   "cell_type": "code",
   "execution_count": 29,
   "metadata": {},
   "outputs": [
    {
     "name": "stdout",
     "output_type": "stream",
     "text": [
      "loss: 0.00033749966\n",
      "[[-0.00999999]\n",
      " [-1.015     ]\n",
      " [-2.02      ]\n",
      " [-3.025     ]]\n"
     ]
    }
   ],
   "source": [
    "import tensorflow as tf\n",
    "\n",
    "x = tf.constant([[1], [2], [3], [4]],dtype=tf.float32)\n",
    "y = tf.constant([[0], [-1], [-2], [-3]],dtype=tf.float32)\n",
    "\n",
    "linear_model = tf.layers.Dense(units=1)\n",
    "\n",
    "y_pred = linear_model(x) # 相当于keras functional api\n",
    "loss = tf.losses.mean_squared_error(labels=y,predictions=y_pred) # 损失函数\n",
    "optimazer = tf.train.RMSPropOptimizer(0.01) # 优化器\n",
    "\n",
    "train = optimazer.minimize(loss) # 使用优化器最小化损失函数\n",
    "\n",
    "init = tf.global_variables_initializer() # 初始化layers中的参数\n",
    "\n",
    "sess = tf.Session()\n",
    "sess.run(init)\n",
    "for i in range(1000): #训练1000次\n",
    "    x = sess.run((train,loss))  # session.run执行一次tensor运算\n",
    "    if i == 999:\n",
    "        print('loss:',x[1]) \n",
    "print(sess.run(y_pred))"
   ]
  },
  {
   "cell_type": "markdown",
   "metadata": {},
   "source": [
    "### 1.2 Tensor\n",
    "1. 使用`tf.Tensor`对象表示张量. 确定维度的张量也会产生确定维度的张量, 但有些张量的维度只在计算图运行时出现\n",
    "2. `tf.Tensor`对象的rank用来区分标量,向量,矩阵,n维矩阵\n"
   ]
  },
  {
   "cell_type": "code",
   "execution_count": null,
   "metadata": {},
   "outputs": [],
   "source": []
  },
  {
   "cell_type": "code",
   "execution_count": null,
   "metadata": {},
   "outputs": [],
   "source": []
  },
  {
   "cell_type": "code",
   "execution_count": null,
   "metadata": {},
   "outputs": [],
   "source": []
  },
  {
   "cell_type": "code",
   "execution_count": null,
   "metadata": {},
   "outputs": [],
   "source": []
  },
  {
   "cell_type": "code",
   "execution_count": null,
   "metadata": {},
   "outputs": [],
   "source": []
  },
  {
   "cell_type": "code",
   "execution_count": null,
   "metadata": {},
   "outputs": [],
   "source": []
  },
  {
   "cell_type": "code",
   "execution_count": null,
   "metadata": {},
   "outputs": [],
   "source": []
  },
  {
   "cell_type": "code",
   "execution_count": null,
   "metadata": {},
   "outputs": [],
   "source": []
  },
  {
   "cell_type": "code",
   "execution_count": null,
   "metadata": {},
   "outputs": [],
   "source": []
  },
  {
   "cell_type": "code",
   "execution_count": null,
   "metadata": {},
   "outputs": [],
   "source": []
  },
  {
   "cell_type": "code",
   "execution_count": null,
   "metadata": {},
   "outputs": [],
   "source": []
  },
  {
   "cell_type": "code",
   "execution_count": null,
   "metadata": {},
   "outputs": [],
   "source": []
  },
  {
   "cell_type": "code",
   "execution_count": null,
   "metadata": {},
   "outputs": [],
   "source": []
  },
  {
   "cell_type": "code",
   "execution_count": null,
   "metadata": {},
   "outputs": [],
   "source": []
  },
  {
   "cell_type": "code",
   "execution_count": null,
   "metadata": {},
   "outputs": [],
   "source": []
  },
  {
   "cell_type": "code",
   "execution_count": null,
   "metadata": {},
   "outputs": [],
   "source": []
  },
  {
   "cell_type": "code",
   "execution_count": null,
   "metadata": {},
   "outputs": [],
   "source": []
  },
  {
   "cell_type": "code",
   "execution_count": null,
   "metadata": {},
   "outputs": [],
   "source": []
  }
 ],
 "metadata": {
  "kernelspec": {
   "display_name": "Python 3",
   "language": "python",
   "name": "python3"
  },
  "language_info": {
   "codemirror_mode": {
    "name": "ipython",
    "version": 3
   },
   "file_extension": ".py",
   "mimetype": "text/x-python",
   "name": "python",
   "nbconvert_exporter": "python",
   "pygments_lexer": "ipython3",
   "version": "3.6.5"
  }
 },
 "nbformat": 4,
 "nbformat_minor": 2
}
