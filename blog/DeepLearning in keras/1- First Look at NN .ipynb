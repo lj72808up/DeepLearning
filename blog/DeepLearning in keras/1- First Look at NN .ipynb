{
 "cells": [
  {
   "cell_type": "code",
   "execution_count": 1,
   "metadata": {},
   "outputs": [
    {
     "name": "stderr",
     "output_type": "stream",
     "text": [
      "Using TensorFlow backend.\n"
     ]
    }
   ],
   "source": [
    "import warnings;warnings.filterwarnings('ignore')\n",
    "from keras.datasets import mnist\n",
    "import numpy as np;import pandas as pd\n",
    "import matplotlib.pyplot as plt\n",
    "%matplotlib inline"
   ]
  },
  {
   "cell_type": "markdown",
   "metadata": {},
   "source": [
    "### 1.1 mnist手写体数字识别 - 多分类任务\n",
    "#### 一. 处理流程\n",
    "1. 对MNIST数据集分类  \n",
    "  1. MNIST数据集 : 60000个手写字母的灰度图片 (28\\*28像素) + 10000个测试数据\n",
    "  2. 识别图片中的数字进行分类 : 0-9\n",
    "2. 编程步骤 :  \n",
    "  3. 数据预处理  \n",
    "    1. 输入数据的shape变成符合第一层神经网络输入的需求 : 28\\*28的像素展开成一列作为一个输入样本\n",
    "    2. 输入数据归一化 : 因为灰度值在0~255不方便训练, 所以归一化每个像素点为0~1的值\n",
    "    4. 输出数据向量化 : `keras.utils.to_categorical(labels)` : 将输出one-hot编码, keras输出ndarray, 每行为一个输出向量  \n",
    "     因为数据集中的输出标签为0~9的数字, 为了让输出满足softmax的向量化, 所以使用keras的to_categorical把输出进行独热编码变成向量\n",
    "  1. 定义神经网络结构  \n",
    "    1. 第一层: Dense层, 密集连接层 (也叫全连接层)\n",
    "    2. 第二层: 10路softmax层, 返回一个数组, 表示被分到10个数字的概率值\n",
    "  2. 编译步骤 : \n",
    "   为了让神经网络进行训练, 还要定义额外的3个编译步骤\n",
    "    1. loss function : 衡量神经网络表现的方法, 也是神经网络不断迭代的正确方向\n",
    "    2. optimizer : 神经网络训练的优化方法\n",
    "    3. Metrics to monitor during training and testing : 这里我们使用精确度度量 (被正确分类的数目)  \n",
    "  5. 训练模型  \n",
    "    "
   ]
  },
  {
   "cell_type": "code",
   "execution_count": 25,
   "metadata": {},
   "outputs": [
    {
     "name": "stdout",
     "output_type": "stream",
     "text": [
      "train shape:  (60000, 28, 28)\n",
      "labels:  [7 2 1 ... 4 5 6]\n"
     ]
    },
    {
     "data": {
      "text/plain": [
       "array([[0., 0., 0., 0., 0., 0., 0., 1., 0., 0.],\n",
       "       [0., 0., 1., 0., 0., 0., 0., 0., 0., 0.]], dtype=float32)"
      ]
     },
     "execution_count": 25,
     "metadata": {},
     "output_type": "execute_result"
    }
   ],
   "source": [
    "# 1. 导入mnist数据集\n",
    "from keras.datasets import mnist\n",
    "(train_images,train_labels),(test_images,test_labels) = mnist.load_data()\n",
    "print 'train shape: ',train_images.shape  # ndarray\n",
    "\n",
    "# 2. 数据预处理\n",
    "train_images = train_images.reshape((60000,28*28))\n",
    "train_images = train_images.astype('float32')/255\n",
    "\n",
    "test_images = test_images.reshape((10000,28*28))\n",
    "test_images = test_images.astype('float32')/255\n",
    "\n",
    "# one-hot输出\n",
    "from keras import utils\n",
    "print 'labels: ',test_labels\n",
    "train_labels = utils.to_categorical(train_labels)\n",
    "test_labels = utils.to_categorical(test_labels)\n",
    "test_labels[:2]"
   ]
  },
  {
   "cell_type": "code",
   "execution_count": 26,
   "metadata": {},
   "outputs": [
    {
     "name": "stdout",
     "output_type": "stream",
     "text": [
      "Epoch 1/5\n",
      "60000/60000 [==============================] - 6s 105us/step - loss: 0.2028 - acc: 0.9396\n",
      "Epoch 2/5\n",
      "60000/60000 [==============================] - 6s 102us/step - loss: 0.0912 - acc: 0.9741\n",
      "Epoch 3/5\n",
      "60000/60000 [==============================] - 6s 105us/step - loss: 0.0655 - acc: 0.9814\n",
      "Epoch 4/5\n",
      "60000/60000 [==============================] - 7s 110us/step - loss: 0.0525 - acc: 0.9859\n",
      "Epoch 5/5\n",
      "60000/60000 [==============================] - 6s 107us/step - loss: 0.0429 - acc: 0.9889\n"
     ]
    },
    {
     "data": {
      "text/plain": [
       "<keras.callbacks.History at 0x7ff2f07dd450>"
      ]
     },
     "execution_count": 26,
     "metadata": {},
     "output_type": "execute_result"
    }
   ],
   "source": [
    "# 3. 构建网络\n",
    "from keras import models\n",
    "from keras import layers\n",
    "network = models.Sequential()\n",
    "# input_shape : 输入张量的形状, (28*28,)表示1维度向量\n",
    "network.add(layers.Dense(512,activation='relu',input_shape=(28*28,)))\n",
    "network.add(layers.Dense(10,activation='softmax'))\n",
    "# 4. 编译\n",
    "network.compile(optimizer = 'rmsprop',\n",
    "               loss = 'categorical_crossentropy',\n",
    "               metrics = ['accuracy'])\n",
    "\n",
    "# 5. 训练模型\n",
    "network.fit(train_images,train_labels,epochs=5,batch_size=32)"
   ]
  },
  {
   "cell_type": "code",
   "execution_count": 28,
   "metadata": {},
   "outputs": [
    {
     "name": "stdout",
     "output_type": "stream",
     "text": [
      "[9.5000026e-17 2.2441869e-20 4.2905190e-11 6.8090822e-10 1.6014682e-22\n",
      " 3.3031300e-14 1.5066769e-26 1.0000000e+00 2.5705072e-15 2.3972688e-12]\n",
      "1.0\n",
      "test[0] is  7\n",
      "10000/10000 [==============================] - 0s 46us/step\n",
      "('test_acc: ', 0.9789)\n"
     ]
    }
   ],
   "source": [
    "# 找出分类\n",
    "predictions = network.predict(test_images)\n",
    "print predictions[0]\n",
    "print predictions[0].sum() # 正式第一个预测中, 所有种类的和是1\n",
    "# 每个种类的概率中, 概率最大的为预测的输出\n",
    "print 'test[0] is ',np.argmax(predictions[0])\n",
    "\n",
    "# 测试集表现\n",
    "test_loss,test_acc = network.evaluate(test_images,test_labels)\n",
    "print('test_acc: ', test_acc)"
   ]
  },
  {
   "cell_type": "markdown",
   "metadata": {},
   "source": [
    "#### 二. 展示MNIST数据集中的图片"
   ]
  },
  {
   "cell_type": "code",
   "execution_count": 29,
   "metadata": {},
   "outputs": [
    {
     "data": {
      "text/plain": [
       "<matplotlib.image.AxesImage at 0x7ff2e2e4bf10>"
      ]
     },
     "execution_count": 29,
     "metadata": {},
     "output_type": "execute_result"
    },
    {
     "data": {
      "image/png": "[encoded data removed]",
      "text/plain": [
       "<matplotlib.figure.Figure at 0x7ff2f071f5d0>"
      ]
     },
     "metadata": {},
     "output_type": "display_data"
    }
   ],
   "source": [
    "(train_images,train_labels),(test_images,test_labels) = mnist.load_data()\n",
    "digit = test_images[0]\n",
    "plt.imshow(digit,cmap=plt.cm.binary) # cmap : colormap, 默认为空,表示输入数据为3Dtensor, RGB图像"
   ]
  },
  {
   "cell_type": "markdown",
   "metadata": {},
   "source": [
    "#### 三. 收获\n",
    "1. 分N类, 最后一层的全连接层要有N个单元, 且使用'softmax'激活函数  \n",
    "2. 多分类损失函数 : `categorical_crossentropy`  "
   ]
  },
  {
   "cell_type": "markdown",
   "metadata": {},
   "source": [
    "### 1.2 Data Representation\n",
    "\n",
    "#### 一. 张量 Tensor\n",
    "1. Scalar - 0D张量\n",
    "2. Vector - 1D张量\n",
    "3. Matrix - 2D张量\n",
    "4. 3D张量和多维张量\n",
    "\n",
    "#### 二. Tensor的3个属性\n",
    "1. number of axes(rank) : 张量是几维的\n",
    "```python\n",
    "print x.ndim # 0\n",
    "print y.ndim # 1\n",
    "print z.ndim # 2\n",
    "print n3.ndim # 3\n",
    "```\n",
    "2. shape : 标量没有的shape为空 : ()\n",
    "\n",
    "3. datd type \n",
    "\n"
   ]
  },
  {
   "cell_type": "code",
   "execution_count": 3,
   "metadata": {},
   "outputs": [
    {
     "name": "stdout",
     "output_type": "stream",
     "text": [
      "0d.shape:  ()\n",
      "1d.shape:  (4,)\n",
      "2d.shape:  (3, 5)\n",
      "3d.shape:  (2, 2, 3)\n"
     ]
    }
   ],
   "source": [
    "# 标量 : 0D-tensor\n",
    "x = np.array(10)\n",
    "\n",
    "# 1D-tensor\n",
    "y = np.array([12,3,6,14])\n",
    "\n",
    "# 2D-tensor\n",
    "z = np.array([[5,78,2,34,0],\n",
    "             [6,79,3,35,1],\n",
    "             [7,89,4,36,2]])\n",
    "\n",
    "# 3D-tensor\n",
    "n3 = np.array([[[1,2,3],\n",
    "                        [2,3,3]],\n",
    "                      [[1,34,1],\n",
    "                        [3,5,6]]])\n",
    "\n",
    "print '0d.shape: ',x.shape\n",
    "print '1d.shape: ',y.shape\n",
    "print '2d.shape: ', z.shape\n",
    "print '3d.shape: ',n3.shape"
   ]
  },
  {
   "cell_type": "markdown",
   "metadata": {},
   "source": [
    "#### 四. 真实世界中数据张量的例子\n",
    "1. Vector data  \n",
    " 2D张量 (features)\n",
    "2. TimeSeries数据/序列数据  \n",
    " 3D张量 (samples, timestamps, features)\n",
    "3. Images  \n",
    " 4D张量 (samples, height,width,channels)\n",
    "4. Video  \n",
    " 5D张量 (samples,frames,height,width,channel)"
   ]
  },
  {
   "cell_type": "markdown",
   "metadata": {},
   "source": [
    "### 1.3 电影评论-二分类问题\n",
    "1. IMDB数据集包括50000条电影评论. \n",
    "1. 根据评论, 训练出是否喜欢这个电影\n",
    "\n",
    "#### 一. 读取数据\n",
    "1. IMDB数据集已被预处理, 将评论里的每个文字转换成Integer, 表示文字在字典里的编号  \n",
    "2. train_data = [1,194,2,194 ...]  \n",
    " train_label = 0/1\n",
    "3. 训练和擦拭数据都是25,000条"
   ]
  },
  {
   "cell_type": "code",
   "execution_count": 5,
   "metadata": {},
   "outputs": [
    {
     "name": "stdout",
     "output_type": "stream",
     "text": [
      "[1, 14, 22, 16, 43, 530, 973, 2, 2, 65]\n"
     ]
    },
    {
     "data": {
      "text/plain": [
       "list"
      ]
     },
     "execution_count": 5,
     "metadata": {},
     "output_type": "execute_result"
    }
   ],
   "source": [
    "from keras.datasets import imdb\n",
    "# num_words=1000 : 只把每条评论中, 单词在使用频率2前10,000名的作为输入序列中的数据\n",
    "(train_data,train_labels),(test_data,test_labels) = imdb.load_data(num_words=1000)\n",
    "print train_data[0][:10]\n",
    "type(train_data[0])"
   ]
  },
  {
   "cell_type": "code",
   "execution_count": 6,
   "metadata": {},
   "outputs": [
    {
     "data": {
      "text/plain": [
       "u\"? this film was just brilliant casting ? ? story direction ? really ? the part they played and you could just imagine being there robert ? is an amazing actor and now the same being director ? father came from the same ? ? as myself so i loved the fact there was a real ? with this film the ? ? throughout the film were great it was just brilliant so much that i ? the film as soon as it was released for ? and would recommend it to everyone to watch and the ? ? was amazing really ? at the end it was so sad and you know what they say if you ? at a film it must have been good and this definitely was also ? to the two little ? that played the ? of ? and paul they were just brilliant children are often left out of the ? ? i think because the stars that play them all ? up are such a big ? for the whole film but these children are amazing and should be ? for what they have done don't you think the whole story was so ? because it was true and was ? life after all that was ? with us all\""
      ]
     },
     "execution_count": 6,
     "metadata": {},
     "output_type": "execute_result"
    }
   ],
   "source": [
    "# 番外篇 : 如何将评论的证书序列, 还原为文字序列\n",
    "# word_index : {u'fawn': 34701,\n",
    "#  u'tsukino': 52006,\n",
    "#  u'nunnery': 52007\n",
    "#  ...}\n",
    "word_index = imdb.get_word_index()\n",
    "# dict数据结构,自动按照key排序\n",
    "# reverse_word_index = {1: u'the',2: u'and',3: u'a' ... }\n",
    "reverse_word_index = dict([(value,key) for (key,value) in word_index.items()])\n",
    "# i-3的原因 : 0,1,2代表'padding', 'start of sequence' , 'unkown'\n",
    "decoded_review = ' '.join([reverse_word_index.get(i-3,'?') for i in train_data[0]])\n",
    "decoded_review"
   ]
  },
  {
   "cell_type": "markdown",
   "metadata": {},
   "source": [
    "#### 二. 数据预处理\n",
    "1. 对评论的整数序列one-hot编码, 将所有评论变成(评论数*字典长度)的张量   \n",
    " 张量(samples,word_indices)\n",
    "2. 生成输出张量: 0/1组成的向量"
   ]
  },
  {
   "cell_type": "code",
   "execution_count": 7,
   "metadata": {},
   "outputs": [
    {
     "name": "stdout",
     "output_type": "stream",
     "text": [
      "[0. 1. 1. ... 0. 0. 0.]\n",
      "[1. 0. 0. ... 0. 1. 0.]\n"
     ]
    }
   ],
   "source": [
    "import numpy as np\n",
    "def vectroize_sequences(sequences,dimenssion=10000):\n",
    "    row_num = len(sequences)\n",
    "    results = np.zeros((row_num,dimenssion))\n",
    "    # 二维数组结构, 经过enumerate, 生成(行号,内容)元组\n",
    "    for i,sequence in enumerate(sequences):\n",
    "        # adarray元素选取: results[i,[sequence]]\n",
    "        results[i,sequence] = 1\n",
    "    return results\n",
    "        \n",
    "# 构造输入数据: 评论数*10000维\n",
    "x_train = vectroize_sequences(train_data)\n",
    "x_test = vectroize_sequences(test_data)\n",
    "\n",
    "y_train = np.array(train_labels,dtype='float32')\n",
    "y_test = np.array(test_labels,dtype='float32')\n",
    "\n",
    "print x_train[0]\n",
    "print y_train"
   ]
  },
  {
   "cell_type": "markdown",
   "metadata": {},
   "source": [
    "#### 三. 构建网络"
   ]
  },
  {
   "cell_type": "code",
   "execution_count": 8,
   "metadata": {},
   "outputs": [],
   "source": [
    "from keras import models\n",
    "from keras import layers\n",
    "from keras import optimizers\n",
    "model = models.Sequential()\n",
    "# 输入数据为字典长度的向量(one-hot)\n",
    "model.add(layers.Dense(16,activation='relu',input_shape=(10000,)))\n",
    "model.add(layers.Dense(16,activation='relu'))\n",
    "model.add(layers.Dense(1,activation='sigmoid'))\n",
    "          \n",
    "model.compile(optimizer=optimizers.rmsprop(lr=0.001),\n",
    "             loss='binary_crossentropy',\n",
    "             metrics=['accuracy'])"
   ]
  },
  {
   "cell_type": "markdown",
   "metadata": {},
   "source": [
    "#### 四. 训练网络\n",
    "1. model.fit()返回一个`History`对象, 该对象包含一些训练集上的监控指标    \n",
    " ['acc', 'loss', 'val_acc', 'val_loss']\n",
    "2. 用`history`对象中记录的数值, 画出训练集和验证机上的损失率  \n",
    " 发现第四轮后, 验证机的精确度开始下降, 发生过拟合, 后面介绍如何避免过拟合"
   ]
  },
  {
   "cell_type": "code",
   "execution_count": 9,
   "metadata": {},
   "outputs": [
    {
     "name": "stdout",
     "output_type": "stream",
     "text": [
      "Train on 15000 samples, validate on 10000 samples\n",
      "Epoch 1/20\n",
      "15000/15000 [==============================] - 4s 284us/step - loss: 0.4011 - acc: 0.8286 - val_loss: 0.3350 - val_acc: 0.8608\n",
      "Epoch 2/20\n",
      "15000/15000 [==============================] - 4s 244us/step - loss: 0.3287 - acc: 0.8613 - val_loss: 0.3393 - val_acc: 0.8575\n",
      "Epoch 3/20\n",
      "15000/15000 [==============================] - 4s 247us/step - loss: 0.3158 - acc: 0.8666 - val_loss: 0.3347 - val_acc: 0.8595\n",
      "Epoch 4/20\n",
      "15000/15000 [==============================] - 4s 247us/step - loss: 0.3046 - acc: 0.8737 - val_loss: 0.3325 - val_acc: 0.8580\n",
      "Epoch 5/20\n",
      "15000/15000 [==============================] - 4s 248us/step - loss: 0.2917 - acc: 0.8803 - val_loss: 0.3450 - val_acc: 0.8550\n",
      "Epoch 6/20\n",
      "15000/15000 [==============================] - 4s 246us/step - loss: 0.2815 - acc: 0.8850 - val_loss: 0.3420 - val_acc: 0.8566\n",
      "Epoch 7/20\n",
      "15000/15000 [==============================] - 4s 247us/step - loss: 0.2699 - acc: 0.8890 - val_loss: 0.3541 - val_acc: 0.8560\n",
      "Epoch 8/20\n",
      "15000/15000 [==============================] - 4s 247us/step - loss: 0.2579 - acc: 0.8967 - val_loss: 0.3686 - val_acc: 0.8517\n",
      "Epoch 9/20\n",
      "15000/15000 [==============================] - 4s 244us/step - loss: 0.2446 - acc: 0.9042 - val_loss: 0.3802 - val_acc: 0.8523\n",
      "Epoch 10/20\n",
      "15000/15000 [==============================] - 4s 246us/step - loss: 0.2329 - acc: 0.9111 - val_loss: 0.3859 - val_acc: 0.8497\n",
      "Epoch 11/20\n",
      "15000/15000 [==============================] - 4s 245us/step - loss: 0.2185 - acc: 0.9185 - val_loss: 0.4029 - val_acc: 0.8517\n",
      "Epoch 12/20\n",
      "15000/15000 [==============================] - 4s 247us/step - loss: 0.2050 - acc: 0.9235 - val_loss: 0.4208 - val_acc: 0.8491\n",
      "Epoch 13/20\n",
      "15000/15000 [==============================] - 4s 263us/step - loss: 0.1906 - acc: 0.9324 - val_loss: 0.4481 - val_acc: 0.8493\n",
      "Epoch 14/20\n",
      "15000/15000 [==============================] - 4s 256us/step - loss: 0.1785 - acc: 0.9363 - val_loss: 0.4791 - val_acc: 0.8433\n",
      "Epoch 15/20\n",
      "15000/15000 [==============================] - 4s 261us/step - loss: 0.1661 - acc: 0.9432 - val_loss: 0.4775 - val_acc: 0.8437\n",
      "Epoch 16/20\n",
      "15000/15000 [==============================] - 4s 267us/step - loss: 0.1526 - acc: 0.9499 - val_loss: 0.5015 - val_acc: 0.8409\n",
      "Epoch 17/20\n",
      "15000/15000 [==============================] - 4s 270us/step - loss: 0.1410 - acc: 0.9543 - val_loss: 0.5247 - val_acc: 0.8386\n",
      "Epoch 18/20\n",
      "15000/15000 [==============================] - 4s 269us/step - loss: 0.1290 - acc: 0.9585 - val_loss: 0.5525 - val_acc: 0.8389\n",
      "Epoch 19/20\n",
      "15000/15000 [==============================] - 4s 267us/step - loss: 0.1177 - acc: 0.9621 - val_loss: 0.5792 - val_acc: 0.8386\n",
      "Epoch 20/20\n",
      "15000/15000 [==============================] - 4s 272us/step - loss: 0.1069 - acc: 0.9667 - val_loss: 0.6270 - val_acc: 0.8391\n"
     ]
    },
    {
     "data": {
      "text/plain": [
       "['acc', 'loss', 'val_acc', 'val_loss']"
      ]
     },
     "execution_count": 9,
     "metadata": {},
     "output_type": "execute_result"
    }
   ],
   "source": [
    "# 验证集\n",
    "x_val = x_train[:10000]\n",
    "y_val = y_train[:10000]\n",
    "# 训练集\n",
    "x_train = x_train[10000:]\n",
    "y_train = y_train[10000:]\n",
    "\n",
    "history = model.fit(x_train,y_train,epochs=20,batch_size=32,validation_data=(x_val,y_val))\n",
    "history_dict = history.history\n",
    "history_dict.keys()"
   ]
  },
  {
   "cell_type": "code",
   "execution_count": 11,
   "metadata": {},
   "outputs": [
    {
     "name": "stdout",
     "output_type": "stream",
     "text": [
      "[[0.14866221]\n",
      " [0.99999833]\n",
      " [0.9434433 ]\n",
      " ...\n",
      " [0.19544445]\n",
      " [0.00467395]\n",
      " [0.24093705]]\n"
     ]
    },
    {
     "data": {
      "image/png": "[encoded data removed]",
      "text/plain": [
       "<matplotlib.figure.Figure at 0x7ff2f5263dd0>"
      ]
     },
     "metadata": {},
     "output_type": "display_data"
    }
   ],
   "source": [
    "train_loss = history_dict['loss']\n",
    "val_loss = history_dict['val_loss']\n",
    "acc = history_dict['acc']\n",
    "val_acc = history_dict['val_acc']\n",
    "\n",
    "f,axes = plt.subplots(2,1)\n",
    "\n",
    "train_loss_df = pd.DataFrame({'train_loss':train_loss,'val_loss':val_loss})\n",
    "train_loss_df.index.name='epoch_num'\n",
    "train_loss_df.plot(style='.-',ax=axes[0])\n",
    "\n",
    "\n",
    "train_acc_df = pd.DataFrame({'acc':acc,'val_acc':val_acc})\n",
    "train_acc_df.index.name='epoch_num'\n",
    "train_acc_df.plot(style='.-',ax=axes[1])\n",
    "\n",
    "print model.predict(x_test)"
   ]
  },
  {
   "cell_type": "markdown",
   "metadata": {},
   "source": [
    "#### 五. 收获\n",
    "1. 要进行数据预处理, 把输入数据转成tensor  \n",
    "2. `relu`函数作为Dense的处理函数, 可以处理大多数问题  \n",
    "3. 二分类问题, 最后的输出函数使用sigmoid, 损失函数使用`binary-crossentropy`  \n",
    "4. `rmsprop`优化器足够好, 无论处理什么问题  \n",
    "5. 训练网络时, 设置验证集来观测网络表现"
   ]
  },
  {
   "cell_type": "markdown",
   "metadata": {},
   "source": [
    "### 1.4 波士顿房价预测 - 回归问题\n",
    "\n",
    "#### 一. 数据预处理\n",
    "1. 波士顿1970's的房价: 404训练集, 102测试集\n",
    "2. 正则化数据 : column = (column - mean)/column上的标准差  \n",
    " 测试集输入也要正则化, 其mean与std都取自训练集, 不要使用任何在测试机上计算的常量处理测试集"
   ]
  },
  {
   "cell_type": "code",
   "execution_count": 36,
   "metadata": {},
   "outputs": [
    {
     "name": "stdout",
     "output_type": "stream",
     "text": [
      "(404, 13) (404,)\n",
      "[15.2 42.3 50.  21.1 17.7 18.5 11.3 15.6 15.6 14.4]\n"
     ]
    }
   ],
   "source": [
    "from keras.datasets import boston_housing\n",
    "((train_data,train_targets),(test_data,test_target)) = boston_housing.load_data()\n",
    "print train_data.shape,train_targets.shape\n",
    "print train_targets[:10]\n",
    "# 正则化数据\n",
    "mean = train_data.mean(axis=0) # 列上进行\n",
    "train_data -= mean\n",
    "std = train_data.std(axis=0)\n",
    "test_data = (test_data-mean)/std"
   ]
  },
  {
   "cell_type": "markdown",
   "metadata": {},
   "source": [
    "#### 二. 构建网络\n",
    "1. 最后一层输出层不用激活函数运算, 只用一个单元的全连接层输出数值即可\n",
    "2. MSE : 均方误差  \n",
    " MAE : 平均绝对误差"
   ]
  },
  {
   "cell_type": "code",
   "execution_count": 65,
   "metadata": {},
   "outputs": [],
   "source": [
    "from keras import layers\n",
    "from keras import models\n",
    "\n",
    "feature_num = train_data.shape[1]\n",
    "model = models.Sequential()\n",
    "model.add(layers.Dense(64,activation='relu',input_shape=(feature_num,)))\n",
    "model.add(layers.Dense(1))\n",
    "\n",
    "model.compile(optimizer='rmsprop',loss='mse',metrics=['mae'])\n",
    "# 样本数量少, batch数量设置1,epoch设置的多一点\n",
    "history = model.fit(train_data,train_targets,epochs=100,batch_size=16,verbose=0)"
   ]
  },
  {
   "cell_type": "markdown",
   "metadata": {},
   "source": [
    "#### 三. 训练网络及绘制表现"
   ]
  },
  {
   "cell_type": "code",
   "execution_count": 66,
   "metadata": {},
   "outputs": [
    {
     "data": {
      "text/plain": [
       "<matplotlib.axes._subplots.AxesSubplot at 0x7ff2e1db3b50>"
      ]
     },
     "execution_count": 66,
     "metadata": {},
     "output_type": "execute_result"
    },
    {
     "data": {
      "image/png": "[encoded data removed]",
      "text/plain": [
       "<matplotlib.figure.Figure at 0x7ff2e1df7f10>"
      ]
     },
     "metadata": {},
     "output_type": "display_data"
    }
   ],
   "source": [
    "history_dict = history.history\n",
    "f,axes = plt.subplots(1,2,figsize=(12,3))\n",
    "df = pd.DataFrame({'loss':history_dict['loss'],'mean_absolute_error':history_dict['mean_absolute_error']})\n",
    "df.index.name = 'epoch_num'\n",
    "df['loss'].plot(style='.-',ax=axes[0])\n",
    "df['mean_absolute_error'].plot(style='8--',ax=axes[1],alpha=0.5)"
   ]
  },
  {
   "cell_type": "code",
   "execution_count": 67,
   "metadata": {},
   "outputs": [
    {
     "name": "stdout",
     "output_type": "stream",
     "text": [
      "102/102 [==============================] - 0s 872us/step\n",
      "341.12205295936735 , 17.59241833406336\n"
     ]
    }
   ],
   "source": [
    "test_mse_score,test_mae_score = model.evaluate(test_data,test_target)\n",
    "print test_mse_score,',',test_mae_score"
   ]
  },
  {
   "cell_type": "markdown",
   "metadata": {},
   "source": [
    "#### 四. 收获\n",
    "1. 回归问题, 损失函数/metrix函数为: MSE(均方误差)/MAE(平均绝对误差)\n",
    "2. 回归问题的feature需要正则化 : (feature-mean)/std\n",
    "3. 小数据集应该减小网络隐藏层数量 (1~2层即可)"
   ]
  }
 ],
 "metadata": {
  "kernelspec": {
   "display_name": "Python 2",
   "language": "python",
   "name": "python2"
  },
  "language_info": {
   "codemirror_mode": {
    "name": "ipython",
    "version": 2
   },
   "file_extension": ".py",
   "mimetype": "text/x-python",
   "name": "python",
   "nbconvert_exporter": "python",
   "pygments_lexer": "ipython2",
   "version": "2.7.14"
  }
 },
 "nbformat": 4,
 "nbformat_minor": 2
}
